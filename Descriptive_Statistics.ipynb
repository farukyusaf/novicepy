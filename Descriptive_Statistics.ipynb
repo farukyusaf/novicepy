
    {
      "cell_type": "markdown",
      "metadata": {
        "id": "M8BcjLQi-FLw",
        "colab_type": "text"
      },
      "source": [
        "## **Descriptive Statistical Analysis, Corelation and Causation and ANOVA**"
      ]
    },
    {
      "cell_type": "markdown",
      "metadata": {
        "id": "F5chuodU-WXM",
        "colab_type": "text"
      },
      "source": [
        "In this notebook, I will explore several descriptve stats methods. The Data and codes used here are provided by IBM's Cognitive Class on Coursera. I do not own any copyrights for the Data. Feel Free to copy the code and pratcie - Farooq"
      ]
    },
    {
      "cell_type": "code",
      "metadata": {
        "id": "jLU03aze6RJg",
        "colab_type": "code",
        "colab": {}
      },
      "source": [
        "import pandas as pd\n",
        "import numpy as np"
      ],
      "execution_count": 0,
      "outputs": []
    },
    {
      "cell_type": "code",
      "metadata": {
        "id": "ht50T2da6bLd",
        "colab_type": "code",
        "colab": {
          "base_uri": "https://localhost:8080/",
          "height": 309
        },
        "outputId": "e3c40aba-aab4-4898-d3e4-8faab70cc763"
      },
      "source": [
        "path='https://s3-api.us-geo.objectstorage.softlayer.net/cf-courses-data/CognitiveClass/DA0101EN/automobileEDA.csv'\n",
        "df = pd.read_csv(path)\n",
        "df.head()"
      ],
      "execution_count": 2,
      "outputs": [
        {
          "output_type": "execute_result",
          "data": {
            "text/html": [
              "<div>\n",
              "<style scoped>\n",
              "    .dataframe tbody tr th:only-of-type {\n",
              "        vertical-align: middle;\n",
              "    }\n",
              "\n",
              "    .dataframe tbody tr th {\n",
              "        vertical-align: top;\n",
              "    }\n",
              "\n",
              "    .dataframe thead th {\n",
              "        text-align: right;\n",
              "    }\n",
              "</style>\n",
              "<table border=\"1\" class=\"dataframe\">\n",
              "  <thead>\n",
              "    <tr style=\"text-align: right;\">\n",
              "      <th></th>\n",
              "      <th>symboling</th>\n",
              "      <th>normalized-losses</th>\n",
              "      <th>make</th>\n",
              "      <th>aspiration</th>\n",
              "      <th>num-of-doors</th>\n",
              "      <th>body-style</th>\n",
              "      <th>drive-wheels</th>\n",
              "      <th>engine-location</th>\n",
              "      <th>wheel-base</th>\n",
              "      <th>length</th>\n",
              "      <th>width</th>\n",
              "      <th>height</th>\n",
              "      <th>curb-weight</th>\n",
              "      <th>engine-type</th>\n",
              "      <th>num-of-cylinders</th>\n",
              "      <th>engine-size</th>\n",
              "      <th>fuel-system</th>\n",
              "      <th>bore</th>\n",
              "      <th>stroke</th>\n",
              "      <th>compression-ratio</th>\n",
              "      <th>horsepower</th>\n",
              "      <th>peak-rpm</th>\n",
              "      <th>city-mpg</th>\n",
              "      <th>highway-mpg</th>\n",
              "      <th>price</th>\n",
              "      <th>city-L/100km</th>\n",
              "      <th>horsepower-binned</th>\n",
              "      <th>diesel</th>\n",
              "      <th>gas</th>\n",
              "    </tr>\n",
              "  </thead>\n",
              "  <tbody>\n",
              "    <tr>\n",
              "      <th>0</th>\n",
              "      <td>3</td>\n",
              "      <td>122</td>\n",
              "      <td>alfa-romero</td>\n",
              "      <td>std</td>\n",
              "      <td>two</td>\n",
              "      <td>convertible</td>\n",
              "      <td>rwd</td>\n",
              "      <td>front</td>\n",
              "      <td>88.6</td>\n",
              "      <td>0.811148</td>\n",
              "      <td>0.890278</td>\n",
              "      <td>48.8</td>\n",
              "      <td>2548</td>\n",
              "      <td>dohc</td>\n",
              "      <td>four</td>\n",
              "      <td>130</td>\n",
              "      <td>mpfi</td>\n",
              "      <td>3.47</td>\n",
              "      <td>2.68</td>\n",
              "      <td>9.0</td>\n",
              "      <td>111.0</td>\n",
              "      <td>5000.0</td>\n",
              "      <td>21</td>\n",
              "      <td>27</td>\n",
              "      <td>13495.0</td>\n",
              "      <td>11.190476</td>\n",
              "      <td>Medium</td>\n",
              "      <td>0</td>\n",
              "      <td>1</td>\n",
              "    </tr>\n",
              "    <tr>\n",
              "      <th>1</th>\n",
              "      <td>3</td>\n",
              "      <td>122</td>\n",
              "      <td>alfa-romero</td>\n",
              "      <td>std</td>\n",
              "      <td>two</td>\n",
              "      <td>convertible</td>\n",
              "      <td>rwd</td>\n",
              "      <td>front</td>\n",
              "      <td>88.6</td>\n",
              "      <td>0.811148</td>\n",
              "      <td>0.890278</td>\n",
              "      <td>48.8</td>\n",
              "      <td>2548</td>\n",
              "      <td>dohc</td>\n",
              "      <td>four</td>\n",
              "      <td>130</td>\n",
              "      <td>mpfi</td>\n",
              "      <td>3.47</td>\n",
              "      <td>2.68</td>\n",
              "      <td>9.0</td>\n",
              "      <td>111.0</td>\n",
              "      <td>5000.0</td>\n",
              "      <td>21</td>\n",
              "      <td>27</td>\n",
              "      <td>16500.0</td>\n",
              "      <td>11.190476</td>\n",
              "      <td>Medium</td>\n",
              "      <td>0</td>\n",
              "      <td>1</td>\n",
              "    </tr>\n",
              "    <tr>\n",
              "      <th>2</th>\n",
              "      <td>1</td>\n",
              "      <td>122</td>\n",
              "      <td>alfa-romero</td>\n",
              "      <td>std</td>\n",
              "      <td>two</td>\n",
              "      <td>hatchback</td>\n",
              "      <td>rwd</td>\n",
              "      <td>front</td>\n",
              "      <td>94.5</td>\n",
              "      <td>0.822681</td>\n",
              "      <td>0.909722</td>\n",
              "      <td>52.4</td>\n",
              "      <td>2823</td>\n",
              "      <td>ohcv</td>\n",
              "      <td>six</td>\n",
              "      <td>152</td>\n",
              "      <td>mpfi</td>\n",
              "      <td>2.68</td>\n",
              "      <td>3.47</td>\n",
              "      <td>9.0</td>\n",
              "      <td>154.0</td>\n",
              "      <td>5000.0</td>\n",
              "      <td>19</td>\n",
              "      <td>26</td>\n",
              "      <td>16500.0</td>\n",
              "      <td>12.368421</td>\n",
              "      <td>Medium</td>\n",
              "      <td>0</td>\n",
              "      <td>1</td>\n",
              "    </tr>\n",
              "    <tr>\n",
              "      <th>3</th>\n",
              "      <td>2</td>\n",
              "      <td>164</td>\n",
              "      <td>audi</td>\n",
              "      <td>std</td>\n",
              "      <td>four</td>\n",
              "      <td>sedan</td>\n",
              "      <td>fwd</td>\n",
              "      <td>front</td>\n",
              "      <td>99.8</td>\n",
              "      <td>0.848630</td>\n",
              "      <td>0.919444</td>\n",
              "      <td>54.3</td>\n",
              "      <td>2337</td>\n",
              "      <td>ohc</td>\n",
              "      <td>four</td>\n",
              "      <td>109</td>\n",
              "      <td>mpfi</td>\n",
              "      <td>3.19</td>\n",
              "      <td>3.40</td>\n",
              "      <td>10.0</td>\n",
              "      <td>102.0</td>\n",
              "      <td>5500.0</td>\n",
              "      <td>24</td>\n",
              "      <td>30</td>\n",
              "      <td>13950.0</td>\n",
              "      <td>9.791667</td>\n",
              "      <td>Medium</td>\n",
              "      <td>0</td>\n",
              "      <td>1</td>\n",
              "    </tr>\n",
              "    <tr>\n",
              "      <th>4</th>\n",
              "      <td>2</td>\n",
              "      <td>164</td>\n",
              "      <td>audi</td>\n",
              "      <td>std</td>\n",
              "      <td>four</td>\n",
              "      <td>sedan</td>\n",
              "      <td>4wd</td>\n",
              "      <td>front</td>\n",
              "      <td>99.4</td>\n",
              "      <td>0.848630</td>\n",
              "      <td>0.922222</td>\n",
              "      <td>54.3</td>\n",
              "      <td>2824</td>\n",
              "      <td>ohc</td>\n",
              "      <td>five</td>\n",
              "      <td>136</td>\n",
              "      <td>mpfi</td>\n",
              "      <td>3.19</td>\n",
              "      <td>3.40</td>\n",
              "      <td>8.0</td>\n",
              "      <td>115.0</td>\n",
              "      <td>5500.0</td>\n",
              "      <td>18</td>\n",
              "      <td>22</td>\n",
              "      <td>17450.0</td>\n",
              "      <td>13.055556</td>\n",
              "      <td>Medium</td>\n",
              "      <td>0</td>\n",
              "      <td>1</td>\n",
              "    </tr>\n",
              "  </tbody>\n",
              "</table>\n",
              "</div>"
            ],
            "text/plain": [
              "   symboling  normalized-losses         make  ... horsepower-binned diesel gas\n",
              "0          3                122  alfa-romero  ...            Medium      0   1\n",
              "1          3                122  alfa-romero  ...            Medium      0   1\n",
              "2          1                122  alfa-romero  ...            Medium      0   1\n",
              "3          2                164         audi  ...            Medium      0   1\n",
              "4          2                164         audi  ...            Medium      0   1\n",
              "\n",
              "[5 rows x 29 columns]"
            ]
          },
          "metadata": {
            "tags": []
          },
          "execution_count": 2
        }
      ]
    },
    {
      "cell_type": "markdown",
      "metadata": {
        "id": "olWqmsDY_P7t",
        "colab_type": "text"
      },
      "source": [
        "### **Analyzing Individual Feature Patterns using Visualization**"
      ]
    },
    {
      "cell_type": "code",
      "metadata": {
        "id": "l32IWLEY6gRa",
        "colab_type": "code",
        "colab": {}
      },
      "source": [
        "%%capture\n",
        "! pip install seaborn"
      ],
      "execution_count": 0,
      "outputs": []
    },
    {
      "cell_type": "code",
      "metadata": {
        "id": "fLqSHQwU6mSK",
        "colab_type": "code",
        "colab": {}
      },
      "source": [
        "import matplotlib.pyplot as plt\n",
        "import seaborn as sns\n",
        "%matplotlib inline "
      ],
      "execution_count": 0,
      "outputs": []
    },
    {
      "cell_type": "code",
      "metadata": {
        "id": "Axko31TR6qzr",
        "colab_type": "code",
        "colab": {
          "base_uri": "https://localhost:8080/",
          "height": 527
        },
        "outputId": "fbc8378e-41ca-433c-96ce-b2456ba01c1e"
      },
      "source": [
        "print(df.dtypes)"
      ],
      "execution_count": 5,
      "outputs": [
        {
          "output_type": "stream",
          "text": [
            "symboling              int64\n",
            "normalized-losses      int64\n",
            "make                  object\n",
            "aspiration            object\n",
            "num-of-doors          object\n",
            "body-style            object\n",
            "drive-wheels          object\n",
            "engine-location       object\n",
            "wheel-base           float64\n",
            "length               float64\n",
            "width                float64\n",
            "height               float64\n",
            "curb-weight            int64\n",
            "engine-type           object\n",
            "num-of-cylinders      object\n",
            "engine-size            int64\n",
            "fuel-system           object\n",
            "bore                 float64\n",
            "stroke               float64\n",
            "compression-ratio    float64\n",
            "horsepower           float64\n",
            "peak-rpm             float64\n",
            "city-mpg               int64\n",
            "highway-mpg            int64\n",
            "price                float64\n",
            "city-L/100km         float64\n",
            "horsepower-binned     object\n",
            "diesel                 int64\n",
            "gas                    int64\n",
            "dtype: object\n"
          ],
          "name": "stdout"
        }
      ]
    },
    {
      "cell_type": "code",
      "metadata": {
        "id": "1PwKGnXs6wNs",
        "colab_type": "code",
        "colab": {
          "base_uri": "https://localhost:8080/",
          "height": 689
        },
        "outputId": "ed769a73-76e2-4168-d328-e6c6568f2023"
      },
      "source": [
        "df.corr()"
      ],
      "execution_count": 6,
      "outputs": [
        {
          "output_type": "execute_result",
          "data": {
            "text/html": [
              "<div>\n",
              "<style scoped>\n",
              "    .dataframe tbody tr th:only-of-type {\n",
              "        vertical-align: middle;\n",
              "    }\n",
              "\n",
              "    .dataframe tbody tr th {\n",
              "        vertical-align: top;\n",
              "    }\n",
              "\n",
              "    .dataframe thead th {\n",
              "        text-align: right;\n",
              "    }\n",
              "</style>\n",
              "<table border=\"1\" class=\"dataframe\">\n",
              "  <thead>\n",
              "    <tr style=\"text-align: right;\">\n",
              "      <th></th>\n",
              "      <th>symboling</th>\n",
              "      <th>normalized-losses</th>\n",
              "      <th>wheel-base</th>\n",
              "      <th>length</th>\n",
              "      <th>width</th>\n",
              "      <th>height</th>\n",
              "      <th>curb-weight</th>\n",
              "      <th>engine-size</th>\n",
              "      <th>bore</th>\n",
              "      <th>stroke</th>\n",
              "      <th>compression-ratio</th>\n",
              "      <th>horsepower</th>\n",
              "      <th>peak-rpm</th>\n",
              "      <th>city-mpg</th>\n",
              "      <th>highway-mpg</th>\n",
              "      <th>price</th>\n",
              "      <th>city-L/100km</th>\n",
              "      <th>diesel</th>\n",
              "      <th>gas</th>\n",
              "    </tr>\n",
              "  </thead>\n",
              "  <tbody>\n",
              "    <tr>\n",
              "      <th>symboling</th>\n",
              "      <td>1.000000</td>\n",
              "      <td>0.466264</td>\n",
              "      <td>-0.535987</td>\n",
              "      <td>-0.365404</td>\n",
              "      <td>-0.242423</td>\n",
              "      <td>-0.550160</td>\n",
              "      <td>-0.233118</td>\n",
              "      <td>-0.110581</td>\n",
              "      <td>-0.140019</td>\n",
              "      <td>-0.008245</td>\n",
              "      <td>-0.182196</td>\n",
              "      <td>0.075819</td>\n",
              "      <td>0.279740</td>\n",
              "      <td>-0.035527</td>\n",
              "      <td>0.036233</td>\n",
              "      <td>-0.082391</td>\n",
              "      <td>0.066171</td>\n",
              "      <td>-0.196735</td>\n",
              "      <td>0.196735</td>\n",
              "    </tr>\n",
              "    <tr>\n",
              "      <th>normalized-losses</th>\n",
              "      <td>0.466264</td>\n",
              "      <td>1.000000</td>\n",
              "      <td>-0.056661</td>\n",
              "      <td>0.019424</td>\n",
              "      <td>0.086802</td>\n",
              "      <td>-0.373737</td>\n",
              "      <td>0.099404</td>\n",
              "      <td>0.112360</td>\n",
              "      <td>-0.029862</td>\n",
              "      <td>0.055563</td>\n",
              "      <td>-0.114713</td>\n",
              "      <td>0.217299</td>\n",
              "      <td>0.239543</td>\n",
              "      <td>-0.225016</td>\n",
              "      <td>-0.181877</td>\n",
              "      <td>0.133999</td>\n",
              "      <td>0.238567</td>\n",
              "      <td>-0.101546</td>\n",
              "      <td>0.101546</td>\n",
              "    </tr>\n",
              "    <tr>\n",
              "      <th>wheel-base</th>\n",
              "      <td>-0.535987</td>\n",
              "      <td>-0.056661</td>\n",
              "      <td>1.000000</td>\n",
              "      <td>0.876024</td>\n",
              "      <td>0.814507</td>\n",
              "      <td>0.590742</td>\n",
              "      <td>0.782097</td>\n",
              "      <td>0.572027</td>\n",
              "      <td>0.493244</td>\n",
              "      <td>0.158502</td>\n",
              "      <td>0.250313</td>\n",
              "      <td>0.371147</td>\n",
              "      <td>-0.360305</td>\n",
              "      <td>-0.470606</td>\n",
              "      <td>-0.543304</td>\n",
              "      <td>0.584642</td>\n",
              "      <td>0.476153</td>\n",
              "      <td>0.307237</td>\n",
              "      <td>-0.307237</td>\n",
              "    </tr>\n",
              "    <tr>\n",
              "      <th>length</th>\n",
              "      <td>-0.365404</td>\n",
              "      <td>0.019424</td>\n",
              "      <td>0.876024</td>\n",
              "      <td>1.000000</td>\n",
              "      <td>0.857170</td>\n",
              "      <td>0.492063</td>\n",
              "      <td>0.880665</td>\n",
              "      <td>0.685025</td>\n",
              "      <td>0.608971</td>\n",
              "      <td>0.124139</td>\n",
              "      <td>0.159733</td>\n",
              "      <td>0.579821</td>\n",
              "      <td>-0.285970</td>\n",
              "      <td>-0.665192</td>\n",
              "      <td>-0.698142</td>\n",
              "      <td>0.690628</td>\n",
              "      <td>0.657373</td>\n",
              "      <td>0.211187</td>\n",
              "      <td>-0.211187</td>\n",
              "    </tr>\n",
              "    <tr>\n",
              "      <th>width</th>\n",
              "      <td>-0.242423</td>\n",
              "      <td>0.086802</td>\n",
              "      <td>0.814507</td>\n",
              "      <td>0.857170</td>\n",
              "      <td>1.000000</td>\n",
              "      <td>0.306002</td>\n",
              "      <td>0.866201</td>\n",
              "      <td>0.729436</td>\n",
              "      <td>0.544885</td>\n",
              "      <td>0.188829</td>\n",
              "      <td>0.189867</td>\n",
              "      <td>0.615077</td>\n",
              "      <td>-0.245800</td>\n",
              "      <td>-0.633531</td>\n",
              "      <td>-0.680635</td>\n",
              "      <td>0.751265</td>\n",
              "      <td>0.673363</td>\n",
              "      <td>0.244356</td>\n",
              "      <td>-0.244356</td>\n",
              "    </tr>\n",
              "    <tr>\n",
              "      <th>height</th>\n",
              "      <td>-0.550160</td>\n",
              "      <td>-0.373737</td>\n",
              "      <td>0.590742</td>\n",
              "      <td>0.492063</td>\n",
              "      <td>0.306002</td>\n",
              "      <td>1.000000</td>\n",
              "      <td>0.307581</td>\n",
              "      <td>0.074694</td>\n",
              "      <td>0.180449</td>\n",
              "      <td>-0.062704</td>\n",
              "      <td>0.259737</td>\n",
              "      <td>-0.087027</td>\n",
              "      <td>-0.309974</td>\n",
              "      <td>-0.049800</td>\n",
              "      <td>-0.104812</td>\n",
              "      <td>0.135486</td>\n",
              "      <td>0.003811</td>\n",
              "      <td>0.281578</td>\n",
              "      <td>-0.281578</td>\n",
              "    </tr>\n",
              "    <tr>\n",
              "      <th>curb-weight</th>\n",
              "      <td>-0.233118</td>\n",
              "      <td>0.099404</td>\n",
              "      <td>0.782097</td>\n",
              "      <td>0.880665</td>\n",
              "      <td>0.866201</td>\n",
              "      <td>0.307581</td>\n",
              "      <td>1.000000</td>\n",
              "      <td>0.849072</td>\n",
              "      <td>0.644060</td>\n",
              "      <td>0.167562</td>\n",
              "      <td>0.156433</td>\n",
              "      <td>0.757976</td>\n",
              "      <td>-0.279361</td>\n",
              "      <td>-0.749543</td>\n",
              "      <td>-0.794889</td>\n",
              "      <td>0.834415</td>\n",
              "      <td>0.785353</td>\n",
              "      <td>0.221046</td>\n",
              "      <td>-0.221046</td>\n",
              "    </tr>\n",
              "    <tr>\n",
              "      <th>engine-size</th>\n",
              "      <td>-0.110581</td>\n",
              "      <td>0.112360</td>\n",
              "      <td>0.572027</td>\n",
              "      <td>0.685025</td>\n",
              "      <td>0.729436</td>\n",
              "      <td>0.074694</td>\n",
              "      <td>0.849072</td>\n",
              "      <td>1.000000</td>\n",
              "      <td>0.572609</td>\n",
              "      <td>0.209523</td>\n",
              "      <td>0.028889</td>\n",
              "      <td>0.822676</td>\n",
              "      <td>-0.256733</td>\n",
              "      <td>-0.650546</td>\n",
              "      <td>-0.679571</td>\n",
              "      <td>0.872335</td>\n",
              "      <td>0.745059</td>\n",
              "      <td>0.070779</td>\n",
              "      <td>-0.070779</td>\n",
              "    </tr>\n",
              "    <tr>\n",
              "      <th>bore</th>\n",
              "      <td>-0.140019</td>\n",
              "      <td>-0.029862</td>\n",
              "      <td>0.493244</td>\n",
              "      <td>0.608971</td>\n",
              "      <td>0.544885</td>\n",
              "      <td>0.180449</td>\n",
              "      <td>0.644060</td>\n",
              "      <td>0.572609</td>\n",
              "      <td>1.000000</td>\n",
              "      <td>-0.055390</td>\n",
              "      <td>0.001263</td>\n",
              "      <td>0.566936</td>\n",
              "      <td>-0.267392</td>\n",
              "      <td>-0.582027</td>\n",
              "      <td>-0.591309</td>\n",
              "      <td>0.543155</td>\n",
              "      <td>0.554610</td>\n",
              "      <td>0.054458</td>\n",
              "      <td>-0.054458</td>\n",
              "    </tr>\n",
              "    <tr>\n",
              "      <th>stroke</th>\n",
              "      <td>-0.008245</td>\n",
              "      <td>0.055563</td>\n",
              "      <td>0.158502</td>\n",
              "      <td>0.124139</td>\n",
              "      <td>0.188829</td>\n",
              "      <td>-0.062704</td>\n",
              "      <td>0.167562</td>\n",
              "      <td>0.209523</td>\n",
              "      <td>-0.055390</td>\n",
              "      <td>1.000000</td>\n",
              "      <td>0.187923</td>\n",
              "      <td>0.098462</td>\n",
              "      <td>-0.065713</td>\n",
              "      <td>-0.034696</td>\n",
              "      <td>-0.035201</td>\n",
              "      <td>0.082310</td>\n",
              "      <td>0.037300</td>\n",
              "      <td>0.241303</td>\n",
              "      <td>-0.241303</td>\n",
              "    </tr>\n",
              "    <tr>\n",
              "      <th>compression-ratio</th>\n",
              "      <td>-0.182196</td>\n",
              "      <td>-0.114713</td>\n",
              "      <td>0.250313</td>\n",
              "      <td>0.159733</td>\n",
              "      <td>0.189867</td>\n",
              "      <td>0.259737</td>\n",
              "      <td>0.156433</td>\n",
              "      <td>0.028889</td>\n",
              "      <td>0.001263</td>\n",
              "      <td>0.187923</td>\n",
              "      <td>1.000000</td>\n",
              "      <td>-0.214514</td>\n",
              "      <td>-0.435780</td>\n",
              "      <td>0.331425</td>\n",
              "      <td>0.268465</td>\n",
              "      <td>0.071107</td>\n",
              "      <td>-0.299372</td>\n",
              "      <td>0.985231</td>\n",
              "      <td>-0.985231</td>\n",
              "    </tr>\n",
              "    <tr>\n",
              "      <th>horsepower</th>\n",
              "      <td>0.075819</td>\n",
              "      <td>0.217299</td>\n",
              "      <td>0.371147</td>\n",
              "      <td>0.579821</td>\n",
              "      <td>0.615077</td>\n",
              "      <td>-0.087027</td>\n",
              "      <td>0.757976</td>\n",
              "      <td>0.822676</td>\n",
              "      <td>0.566936</td>\n",
              "      <td>0.098462</td>\n",
              "      <td>-0.214514</td>\n",
              "      <td>1.000000</td>\n",
              "      <td>0.107885</td>\n",
              "      <td>-0.822214</td>\n",
              "      <td>-0.804575</td>\n",
              "      <td>0.809575</td>\n",
              "      <td>0.889488</td>\n",
              "      <td>-0.169053</td>\n",
              "      <td>0.169053</td>\n",
              "    </tr>\n",
              "    <tr>\n",
              "      <th>peak-rpm</th>\n",
              "      <td>0.279740</td>\n",
              "      <td>0.239543</td>\n",
              "      <td>-0.360305</td>\n",
              "      <td>-0.285970</td>\n",
              "      <td>-0.245800</td>\n",
              "      <td>-0.309974</td>\n",
              "      <td>-0.279361</td>\n",
              "      <td>-0.256733</td>\n",
              "      <td>-0.267392</td>\n",
              "      <td>-0.065713</td>\n",
              "      <td>-0.435780</td>\n",
              "      <td>0.107885</td>\n",
              "      <td>1.000000</td>\n",
              "      <td>-0.115413</td>\n",
              "      <td>-0.058598</td>\n",
              "      <td>-0.101616</td>\n",
              "      <td>0.115830</td>\n",
              "      <td>-0.475812</td>\n",
              "      <td>0.475812</td>\n",
              "    </tr>\n",
              "    <tr>\n",
              "      <th>city-mpg</th>\n",
              "      <td>-0.035527</td>\n",
              "      <td>-0.225016</td>\n",
              "      <td>-0.470606</td>\n",
              "      <td>-0.665192</td>\n",
              "      <td>-0.633531</td>\n",
              "      <td>-0.049800</td>\n",
              "      <td>-0.749543</td>\n",
              "      <td>-0.650546</td>\n",
              "      <td>-0.582027</td>\n",
              "      <td>-0.034696</td>\n",
              "      <td>0.331425</td>\n",
              "      <td>-0.822214</td>\n",
              "      <td>-0.115413</td>\n",
              "      <td>1.000000</td>\n",
              "      <td>0.972044</td>\n",
              "      <td>-0.686571</td>\n",
              "      <td>-0.949713</td>\n",
              "      <td>0.265676</td>\n",
              "      <td>-0.265676</td>\n",
              "    </tr>\n",
              "    <tr>\n",
              "      <th>highway-mpg</th>\n",
              "      <td>0.036233</td>\n",
              "      <td>-0.181877</td>\n",
              "      <td>-0.543304</td>\n",
              "      <td>-0.698142</td>\n",
              "      <td>-0.680635</td>\n",
              "      <td>-0.104812</td>\n",
              "      <td>-0.794889</td>\n",
              "      <td>-0.679571</td>\n",
              "      <td>-0.591309</td>\n",
              "      <td>-0.035201</td>\n",
              "      <td>0.268465</td>\n",
              "      <td>-0.804575</td>\n",
              "      <td>-0.058598</td>\n",
              "      <td>0.972044</td>\n",
              "      <td>1.000000</td>\n",
              "      <td>-0.704692</td>\n",
              "      <td>-0.930028</td>\n",
              "      <td>0.198690</td>\n",
              "      <td>-0.198690</td>\n",
              "    </tr>\n",
              "    <tr>\n",
              "      <th>price</th>\n",
              "      <td>-0.082391</td>\n",
              "      <td>0.133999</td>\n",
              "      <td>0.584642</td>\n",
              "      <td>0.690628</td>\n",
              "      <td>0.751265</td>\n",
              "      <td>0.135486</td>\n",
              "      <td>0.834415</td>\n",
              "      <td>0.872335</td>\n",
              "      <td>0.543155</td>\n",
              "      <td>0.082310</td>\n",
              "      <td>0.071107</td>\n",
              "      <td>0.809575</td>\n",
              "      <td>-0.101616</td>\n",
              "      <td>-0.686571</td>\n",
              "      <td>-0.704692</td>\n",
              "      <td>1.000000</td>\n",
              "      <td>0.789898</td>\n",
              "      <td>0.110326</td>\n",
              "      <td>-0.110326</td>\n",
              "    </tr>\n",
              "    <tr>\n",
              "      <th>city-L/100km</th>\n",
              "      <td>0.066171</td>\n",
              "      <td>0.238567</td>\n",
              "      <td>0.476153</td>\n",
              "      <td>0.657373</td>\n",
              "      <td>0.673363</td>\n",
              "      <td>0.003811</td>\n",
              "      <td>0.785353</td>\n",
              "      <td>0.745059</td>\n",
              "      <td>0.554610</td>\n",
              "      <td>0.037300</td>\n",
              "      <td>-0.299372</td>\n",
              "      <td>0.889488</td>\n",
              "      <td>0.115830</td>\n",
              "      <td>-0.949713</td>\n",
              "      <td>-0.930028</td>\n",
              "      <td>0.789898</td>\n",
              "      <td>1.000000</td>\n",
              "      <td>-0.241282</td>\n",
              "      <td>0.241282</td>\n",
              "    </tr>\n",
              "    <tr>\n",
              "      <th>diesel</th>\n",
              "      <td>-0.196735</td>\n",
              "      <td>-0.101546</td>\n",
              "      <td>0.307237</td>\n",
              "      <td>0.211187</td>\n",
              "      <td>0.244356</td>\n",
              "      <td>0.281578</td>\n",
              "      <td>0.221046</td>\n",
              "      <td>0.070779</td>\n",
              "      <td>0.054458</td>\n",
              "      <td>0.241303</td>\n",
              "      <td>0.985231</td>\n",
              "      <td>-0.169053</td>\n",
              "      <td>-0.475812</td>\n",
              "      <td>0.265676</td>\n",
              "      <td>0.198690</td>\n",
              "      <td>0.110326</td>\n",
              "      <td>-0.241282</td>\n",
              "      <td>1.000000</td>\n",
              "      <td>-1.000000</td>\n",
              "    </tr>\n",
              "    <tr>\n",
              "      <th>gas</th>\n",
              "      <td>0.196735</td>\n",
              "      <td>0.101546</td>\n",
              "      <td>-0.307237</td>\n",
              "      <td>-0.211187</td>\n",
              "      <td>-0.244356</td>\n",
              "      <td>-0.281578</td>\n",
              "      <td>-0.221046</td>\n",
              "      <td>-0.070779</td>\n",
              "      <td>-0.054458</td>\n",
              "      <td>-0.241303</td>\n",
              "      <td>-0.985231</td>\n",
              "      <td>0.169053</td>\n",
              "      <td>0.475812</td>\n",
              "      <td>-0.265676</td>\n",
              "      <td>-0.198690</td>\n",
              "      <td>-0.110326</td>\n",
              "      <td>0.241282</td>\n",
              "      <td>-1.000000</td>\n",
              "      <td>1.000000</td>\n",
              "    </tr>\n",
              "  </tbody>\n",
              "</table>\n",
              "</div>"
            ],
            "text/plain": [
              "                   symboling  normalized-losses  ...    diesel       gas\n",
              "symboling           1.000000           0.466264  ... -0.196735  0.196735\n",
              "normalized-losses   0.466264           1.000000  ... -0.101546  0.101546\n",
              "wheel-base         -0.535987          -0.056661  ...  0.307237 -0.307237\n",
              "length             -0.365404           0.019424  ...  0.211187 -0.211187\n",
              "width              -0.242423           0.086802  ...  0.244356 -0.244356\n",
              "height             -0.550160          -0.373737  ...  0.281578 -0.281578\n",
              "curb-weight        -0.233118           0.099404  ...  0.221046 -0.221046\n",
              "engine-size        -0.110581           0.112360  ...  0.070779 -0.070779\n",
              "bore               -0.140019          -0.029862  ...  0.054458 -0.054458\n",
              "stroke             -0.008245           0.055563  ...  0.241303 -0.241303\n",
              "compression-ratio  -0.182196          -0.114713  ...  0.985231 -0.985231\n",
              "horsepower          0.075819           0.217299  ... -0.169053  0.169053\n",
              "peak-rpm            0.279740           0.239543  ... -0.475812  0.475812\n",
              "city-mpg           -0.035527          -0.225016  ...  0.265676 -0.265676\n",
              "highway-mpg         0.036233          -0.181877  ...  0.198690 -0.198690\n",
              "price              -0.082391           0.133999  ...  0.110326 -0.110326\n",
              "city-L/100km        0.066171           0.238567  ... -0.241282  0.241282\n",
              "diesel             -0.196735          -0.101546  ...  1.000000 -1.000000\n",
              "gas                 0.196735           0.101546  ... -1.000000  1.000000\n",
              "\n",
              "[19 rows x 19 columns]"
            ]
          },
          "metadata": {
            "tags": []
          },
          "execution_count": 6
        }
      ]
    },
    {
      "cell_type": "code",
      "metadata": {
        "id": "pJnEblmh605L",
        "colab_type": "code",
        "colab": {
          "base_uri": "https://localhost:8080/",
          "height": 173
        },
        "outputId": "dbfc8612-c7fc-4c34-984d-102ead67dd47"
      },
      "source": [
        "df[['bore', 'stroke', 'compression-ratio', 'horsepower']].corr()"
      ],
      "execution_count": 7,
      "outputs": [
        {
          "output_type": "execute_result",
          "data": {
            "text/html": [
              "<div>\n",
              "<style scoped>\n",
              "    .dataframe tbody tr th:only-of-type {\n",
              "        vertical-align: middle;\n",
              "    }\n",
              "\n",
              "    .dataframe tbody tr th {\n",
              "        vertical-align: top;\n",
              "    }\n",
              "\n",
              "    .dataframe thead th {\n",
              "        text-align: right;\n",
              "    }\n",
              "</style>\n",
              "<table border=\"1\" class=\"dataframe\">\n",
              "  <thead>\n",
              "    <tr style=\"text-align: right;\">\n",
              "      <th></th>\n",
              "      <th>bore</th>\n",
              "      <th>stroke</th>\n",
              "      <th>compression-ratio</th>\n",
              "      <th>horsepower</th>\n",
              "    </tr>\n",
              "  </thead>\n",
              "  <tbody>\n",
              "    <tr>\n",
              "      <th>bore</th>\n",
              "      <td>1.000000</td>\n",
              "      <td>-0.055390</td>\n",
              "      <td>0.001263</td>\n",
              "      <td>0.566936</td>\n",
              "    </tr>\n",
              "    <tr>\n",
              "      <th>stroke</th>\n",
              "      <td>-0.055390</td>\n",
              "      <td>1.000000</td>\n",
              "      <td>0.187923</td>\n",
              "      <td>0.098462</td>\n",
              "    </tr>\n",
              "    <tr>\n",
              "      <th>compression-ratio</th>\n",
              "      <td>0.001263</td>\n",
              "      <td>0.187923</td>\n",
              "      <td>1.000000</td>\n",
              "      <td>-0.214514</td>\n",
              "    </tr>\n",
              "    <tr>\n",
              "      <th>horsepower</th>\n",
              "      <td>0.566936</td>\n",
              "      <td>0.098462</td>\n",
              "      <td>-0.214514</td>\n",
              "      <td>1.000000</td>\n",
              "    </tr>\n",
              "  </tbody>\n",
              "</table>\n",
              "</div>"
            ],
            "text/plain": [
              "                       bore    stroke  compression-ratio  horsepower\n",
              "bore               1.000000 -0.055390           0.001263    0.566936\n",
              "stroke            -0.055390  1.000000           0.187923    0.098462\n",
              "compression-ratio  0.001263  0.187923           1.000000   -0.214514\n",
              "horsepower         0.566936  0.098462          -0.214514    1.000000"
            ]
          },
          "metadata": {
            "tags": []
          },
          "execution_count": 7
        }
      ]
    },
    {
      "cell_type": "code",
      "metadata": {
        "id": "A8spiuET66x7",
        "colab_type": "code",
        "colab": {
          "base_uri": "https://localhost:8080/",
          "height": 296
        },
        "outputId": "58c4d1fb-acb8-40d5-9406-5a01f6a7cdc9"
      },
      "source": [
        "sns.regplot(x=\"engine-size\", y=\"price\", data=df)\n",
        "plt.ylim(0,)"
      ],
      "execution_count": 8,
      "outputs": [
        {
          "output_type": "execute_result",
          "data": {
            "text/plain": [
              "(0.0, 53330.819569117826)"
            ]
          },
          "metadata": {
            "tags": []
          },
          "execution_count": 8
        },
        {
          "output_type": "display_data",
          "data": {
            "image/png": "iVBORw0KGgoAAAANSUhEUgAAAZEAAAEGCAYAAACkQqisAAAABHNCSVQICAgIfAhkiAAAAAlwSFlz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\n",
            "text/plain": [
              "<Figure size 432x288 with 1 Axes>"
            ]
          },
          "metadata": {
            "tags": []
          }
        }
      ]
    },
    {
      "cell_type": "code",
      "metadata": {
        "id": "LDqyHJ3f7GYb",
        "colab_type": "code",
        "colab": {
          "base_uri": "https://localhost:8080/",
          "height": 111
        },
        "outputId": "b6ae022e-10b8-4342-ac69-73819d418324"
      },
      "source": [
        "df[[\"engine-size\", \"price\"]].corr()"
      ],
      "execution_count": 9,
      "outputs": [
        {
          "output_type": "execute_result",
          "data": {
            "text/html": [
              "<div>\n",
              "<style scoped>\n",
              "    .dataframe tbody tr th:only-of-type {\n",
              "        vertical-align: middle;\n",
              "    }\n",
              "\n",
              "    .dataframe tbody tr th {\n",
              "        vertical-align: top;\n",
              "    }\n",
              "\n",
              "    .dataframe thead th {\n",
              "        text-align: right;\n",
              "    }\n",
              "</style>\n",
              "<table border=\"1\" class=\"dataframe\">\n",
              "  <thead>\n",
              "    <tr style=\"text-align: right;\">\n",
              "      <th></th>\n",
              "      <th>engine-size</th>\n",
              "      <th>price</th>\n",
              "    </tr>\n",
              "  </thead>\n",
              "  <tbody>\n",
              "    <tr>\n",
              "      <th>engine-size</th>\n",
              "      <td>1.000000</td>\n",
              "      <td>0.872335</td>\n",
              "    </tr>\n",
              "    <tr>\n",
              "      <th>price</th>\n",
              "      <td>0.872335</td>\n",
              "      <td>1.000000</td>\n",
              "    </tr>\n",
              "  </tbody>\n",
              "</table>\n",
              "</div>"
            ],
            "text/plain": [
              "             engine-size     price\n",
              "engine-size     1.000000  0.872335\n",
              "price           0.872335  1.000000"
            ]
          },
          "metadata": {
            "tags": []
          },
          "execution_count": 9
        }
      ]
    },
    {
      "cell_type": "code",
      "metadata": {
        "id": "h4r4jZkd7Lp9",
        "colab_type": "code",
        "colab": {
          "base_uri": "https://localhost:8080/",
          "height": 296
        },
        "outputId": "4b083fb6-b515-40fc-e243-5a0756509e92"
      },
      "source": [
        "sns.regplot(x=\"highway-mpg\", y=\"price\", data=df)"
      ],
      "execution_count": 10,
      "outputs": [
        {
          "output_type": "execute_result",
          "data": {
            "text/plain": [
              "<matplotlib.axes._subplots.AxesSubplot at 0x7f50fb977ac8>"
            ]
          },
          "metadata": {
            "tags": []
          },
          "execution_count": 10
        },
        {
          "output_type": "display_data",
          "data": {
            "image/png": "iVBORw0KGgoAAAANSUhEUgAAAZkAAAEGCAYAAAC3lehYAAAABHNCSVQICAgIfAhkiAAAAAlwSFlz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\nAAAASUVORK5CYII=\n",
            "text/plain": [
              "<Figure size 432x288 with 1 Axes>"
            ]
          },
          "metadata": {
            "tags": []
          }
        }
      ]
    },
    {
      "cell_type": "code",
      "metadata": {
        "id": "3Ozu0Rbm7OQc",
        "colab_type": "code",
        "colab": {
          "base_uri": "https://localhost:8080/",
          "height": 111
        },
        "outputId": "2ccd7a3c-1689-4cb7-df5d-70fe502a9a69"
      },
      "source": [
        "df[['highway-mpg', 'price']].corr()"
      ],
      "execution_count": 11,
      "outputs": [
        {
          "output_type": "execute_result",
          "data": {
            "text/html": [
              "<div>\n",
              "<style scoped>\n",
              "    .dataframe tbody tr th:only-of-type {\n",
              "        vertical-align: middle;\n",
              "    }\n",
              "\n",
              "    .dataframe tbody tr th {\n",
              "        vertical-align: top;\n",
              "    }\n",
              "\n",
              "    .dataframe thead th {\n",
              "        text-align: right;\n",
              "    }\n",
              "</style>\n",
              "<table border=\"1\" class=\"dataframe\">\n",
              "  <thead>\n",
              "    <tr style=\"text-align: right;\">\n",
              "      <th></th>\n",
              "      <th>highway-mpg</th>\n",
              "      <th>price</th>\n",
              "    </tr>\n",
              "  </thead>\n",
              "  <tbody>\n",
              "    <tr>\n",
              "      <th>highway-mpg</th>\n",
              "      <td>1.000000</td>\n",
              "      <td>-0.704692</td>\n",
              "    </tr>\n",
              "    <tr>\n",
              "      <th>price</th>\n",
              "      <td>-0.704692</td>\n",
              "      <td>1.000000</td>\n",
              "    </tr>\n",
              "  </tbody>\n",
              "</table>\n",
              "</div>"
            ],
            "text/plain": [
              "             highway-mpg     price\n",
              "highway-mpg     1.000000 -0.704692\n",
              "price          -0.704692  1.000000"
            ]
          },
          "metadata": {
            "tags": []
          },
          "execution_count": 11
        }
      ]
    },
    {
      "cell_type": "code",
      "metadata": {
        "id": "J2KbTHZw7Qas",
        "colab_type": "code",
        "colab": {
          "base_uri": "https://localhost:8080/",
          "height": 111
        },
        "outputId": "42390d8d-d9cd-4c46-f97c-8197a2c745b6"
      },
      "source": [
        "df[['peak-rpm','price']].corr()"
      ],
      "execution_count": 12,
      "outputs": [
        {
          "output_type": "execute_result",
          "data": {
            "text/html": [
              "<div>\n",
              "<style scoped>\n",
              "    .dataframe tbody tr th:only-of-type {\n",
              "        vertical-align: middle;\n",
              "    }\n",
              "\n",
              "    .dataframe tbody tr th {\n",
              "        vertical-align: top;\n",
              "    }\n",
              "\n",
              "    .dataframe thead th {\n",
              "        text-align: right;\n",
              "    }\n",
              "</style>\n",
              "<table border=\"1\" class=\"dataframe\">\n",
              "  <thead>\n",
              "    <tr style=\"text-align: right;\">\n",
              "      <th></th>\n",
              "      <th>peak-rpm</th>\n",
              "      <th>price</th>\n",
              "    </tr>\n",
              "  </thead>\n",
              "  <tbody>\n",
              "    <tr>\n",
              "      <th>peak-rpm</th>\n",
              "      <td>1.000000</td>\n",
              "      <td>-0.101616</td>\n",
              "    </tr>\n",
              "    <tr>\n",
              "      <th>price</th>\n",
              "      <td>-0.101616</td>\n",
              "      <td>1.000000</td>\n",
              "    </tr>\n",
              "  </tbody>\n",
              "</table>\n",
              "</div>"
            ],
            "text/plain": [
              "          peak-rpm     price\n",
              "peak-rpm  1.000000 -0.101616\n",
              "price    -0.101616  1.000000"
            ]
          },
          "metadata": {
            "tags": []
          },
          "execution_count": 12
        }
      ]
    },
    {
      "cell_type": "code",
      "metadata": {
        "id": "HrgFnXCK70qb",
        "colab_type": "code",
        "colab": {
          "base_uri": "https://localhost:8080/",
          "height": 111
        },
        "outputId": "17e91af1-375a-4f1c-8a9d-0688e62569e2"
      },
      "source": [
        "df[[\"stroke\",\"price\"]].corr()"
      ],
      "execution_count": 13,
      "outputs": [
        {
          "output_type": "execute_result",
          "data": {
            "text/html": [
              "<div>\n",
              "<style scoped>\n",
              "    .dataframe tbody tr th:only-of-type {\n",
              "        vertical-align: middle;\n",
              "    }\n",
              "\n",
              "    .dataframe tbody tr th {\n",
              "        vertical-align: top;\n",
              "    }\n",
              "\n",
              "    .dataframe thead th {\n",
              "        text-align: right;\n",
              "    }\n",
              "</style>\n",
              "<table border=\"1\" class=\"dataframe\">\n",
              "  <thead>\n",
              "    <tr style=\"text-align: right;\">\n",
              "      <th></th>\n",
              "      <th>stroke</th>\n",
              "      <th>price</th>\n",
              "    </tr>\n",
              "  </thead>\n",
              "  <tbody>\n",
              "    <tr>\n",
              "      <th>stroke</th>\n",
              "      <td>1.00000</td>\n",
              "      <td>0.08231</td>\n",
              "    </tr>\n",
              "    <tr>\n",
              "      <th>price</th>\n",
              "      <td>0.08231</td>\n",
              "      <td>1.00000</td>\n",
              "    </tr>\n",
              "  </tbody>\n",
              "</table>\n",
              "</div>"
            ],
            "text/plain": [
              "         stroke    price\n",
              "stroke  1.00000  0.08231\n",
              "price   0.08231  1.00000"
            ]
          },
          "metadata": {
            "tags": []
          },
          "execution_count": 13
        }
      ]
    },
    {
      "cell_type": "code",
      "metadata": {
        "id": "MPO4-clA739K",
        "colab_type": "code",
        "colab": {
          "base_uri": "https://localhost:8080/",
          "height": 296
        },
        "outputId": "f8657649-1e97-419a-c746-99c19a6f4c36"
      },
      "source": [
        "sns.regplot(x=\"stroke\", y=\"price\", data=df)"
      ],
      "execution_count": 14,
      "outputs": [
        {
          "output_type": "execute_result",
          "data": {
            "text/plain": [
              "<matplotlib.axes._subplots.AxesSubplot at 0x7f50fe647cc0>"
            ]
          },
          "metadata": {
            "tags": []
          },
          "execution_count": 14
        },
        {
          "output_type": "display_data",
          "data": {
            "image/png": "iVBORw0KGgoAAAANSUhEUgAAAZEAAAEGCAYAAACkQqisAAAABHNCSVQICAgIfAhkiAAAAAlwSFlz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\nZfP/A34xisQKnSymAAAAAElFTkSuQmCC\n",
            "text/plain": [
              "<Figure size 432x288 with 1 Axes>"
            ]
          },
          "metadata": {
            "tags": []
          }
        }
      ]
    },
    {
      "cell_type": "code",
      "metadata": {
        "id": "tECeXeLm76Qb",
        "colab_type": "code",
        "colab": {
          "base_uri": "https://localhost:8080/",
          "height": 296
        },
        "outputId": "437b40af-07f1-414b-adf8-e479973a9069"
      },
      "source": [
        "sns.boxplot(x=\"body-style\", y=\"price\", data=df)"
      ],
      "execution_count": 15,
      "outputs": [
        {
          "output_type": "execute_result",
          "data": {
            "text/plain": [
              "<matplotlib.axes._subplots.AxesSubplot at 0x7f50fe647ba8>"
            ]
          },
          "metadata": {
            "tags": []
          },
          "execution_count": 15
        },
        {
          "output_type": "display_data",
          "data": {
            "image/png": "iVBORw0KGgoAAAANSUhEUgAAAZEAAAEGCAYAAACkQqisAAAABHNCSVQICAgIfAhkiAAAAAlwSFlz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\nETMzK9l/A0VTD0clNgPYAAAAAElFTkSuQmCC\n",
            "text/plain": [
              "<Figure size 432x288 with 1 Axes>"
            ]
          },
          "metadata": {
            "tags": []
          }
        }
      ]
    },
    {
      "cell_type": "code",
      "metadata": {
        "id": "l9182TtQ78rL",
        "colab_type": "code",
        "colab": {
          "base_uri": "https://localhost:8080/",
          "height": 296
        },
        "outputId": "15546e77-f442-4ef1-d713-65695c9436f2"
      },
      "source": [
        "sns.boxplot(x=\"engine-location\", y=\"price\", data=df)"
      ],
      "execution_count": 16,
      "outputs": [
        {
          "output_type": "execute_result",
          "data": {
            "text/plain": [
              "<matplotlib.axes._subplots.AxesSubplot at 0x7f50fb7c49b0>"
            ]
          },
          "metadata": {
            "tags": []
          },
          "execution_count": 16
        },
        {
          "output_type": "display_data",
          "data": {
            "image/png": "iVBORw0KGgoAAAANSUhEUgAAAZEAAAEGCAYAAACkQqisAAAABHNCSVQICAgIfAhkiAAAAAlwSFlz\nAAALEgAACxIB0t1+/AAAADh0RVh0U29mdHdhcmUAbWF0cGxvdGxpYiB2ZXJzaW9uMy4yLjAsIGh0\ndHA6Ly9tYXRwbG90bGliLm9yZy8GearUAAAfkElEQVR4nO3dfXRfVZ3v8feHlIegIrTEXmyLRVMX\nU2GmQoR6watiW0JHKHMvS0HHRuRSvTxVZxwBl3fqA8yVWVeZFgVFQVIHLYiOVFYfCA8OOFoghdpS\nHha5CNJYIaZQwHaqDd/7x9mBX9MkTU57fifp7/Na67dyzvfsc84+Wb/2m33OPnsrIjAzM8tjn7Ir\nYGZmo5eTiJmZ5eYkYmZmuTmJmJlZbk4iZmaW25iyK1Bthx56aEyePLnsapiZjSqrV6/+Q0Q09I3X\nXBKZPHky7e3tZVfDzGxUkfR0f3HfzjIzs9ycRMzMLDcnETMzy81JxMzMcnMSsVy6u7u56KKL6O7u\nLrsqZlYiJxHLpbW1lXXr1rF48eKyq2JmJXISsWHr7u5mxYoVRAQrVqxwa8SshhWeRCTVSXpI0m1p\n/QZJv5G0Jn2mpbgkLZLUIWmtpGMqjtEi6Yn0aamIHytpXdpnkSQVfT2WtUJeeeUVAHp6etwaMath\n1WiJzAce7RP7h4iYlj5rUuwUYEr6zAOuAZA0FlgAHA8cByyQdEja5xrg3Ir9mou8EMvccccdbN++\nHYDt27fT1tZWco3MrCyFJhFJE4G/Br47hOJzgMWRWQUcLOkw4GSgLSI2RcTzQBvQnLYdFBGrIptZ\nazFwejFXYpVmzJjBmDHZYAdjxoxh5syZJdfIzMpSdEvkX4DPAa/0iV+eblldKWn/FJsAPFNRZkOK\nDRbf0E98J5LmSWqX1N7V1ZX7YizT0tLCPvtkX526ujrmzp1bco3MrCyFJRFJHwSei4jVfTZdChwJ\nvAsYC1xcVB16RcS1EdEUEU0NDTuNH2bDNG7cOJqbm5FEc3Mz48aNK7tKZlaSIlsiJwCnSXoKWAKc\nJOlfI2JjumW1Dfge2XMOgE5gUsX+E1NssPjEfuJWBS0tLRx99NFuhZjVuMKSSERcGhETI2IycCZw\nV0T8bXqWQepJdTrwcNplKTA39dKaDmyOiI3ASmCWpEPSA/VZwMq07UVJ09Ox5gK3FnU9tqNx48ax\naNEit0LMalwZQ8HfKKkBELAG+FSKLwNmAx3AFuBsgIjYJOkrwAOp3JcjYlNaPg+4AagHlqePmZlV\nibKOTbWjqakpPJ+ImdnwSFodEU19435j3czMcnMSMTOz3JxEzMwsNycRMzPLzUnEzMxycxIxM7Pc\nnETMzCw3JxEzM8vNScRy8RzrZgZOIpaT51g3M3ASsRy6u7tZvnw5EcHy5cvdGjGrYU4iNmytra2v\nTo/75z//2a0RsxrmJGLD1tbWRu/AnRHB7bffXnKNzKwsTiI2bOPHjx903cxqh5OIDduzzz476LqZ\n1Q4nERu2mTNnkk0mCZKYNWtWyTUys7IUnkQk1Ul6SNJtaf0ISfdJ6pB0k6T9Unz/tN6Rtk+uOMal\nKf64pJMr4s0p1iHpkqKvxTItLS3su+++AOy7776eZ92shlWjJTIfeLRi/QrgyohoBJ4Hzknxc4Dn\nU/zKVA5JU8nmaH8H0AxcnRJTHfBN4BRgKnBWKmsFGzduHM3NzUjilFNO8TzrZjWs0CQiaSLw18B3\n07qAk4BbUpFW4PS0PCetk7Z/IJWfAyyJiG0R8RuyOdiPS5+OiHgyIv4ELEllrQpaWlo4+uij3Qox\nq3FFt0T+Bfgc8EpaHwe8EBHb0/oGYEJangA8A5C2b07lX4332Weg+E4kzZPULqm9q6trd6/JyFoj\nixYtcivErMYVlkQkfRB4LiJWF3WOoYqIayOiKSKaGhoayq6OmdleY0yBxz4BOE3SbOAA4CBgIXCw\npDGptTER6EzlO4FJwAZJY4A3At0V8V6V+wwUNzOzKiisJRIRl0bExIiYTPZg/K6I+ChwN3BGKtYC\n3JqWl6Z10va7InsteilwZuq9dQQwBbgfeACYknp77ZfOsbSo6zEzs50V2RIZyMXAEkmXAQ8B16X4\ndcD3JXUAm8iSAhGxXtLNwCPAduD8iOgBkHQBsBKoA66PiPVVvRIzsxqn3jGQakVTU1O0t7eXXQ0z\ns1FF0uqIaOob9xvrZmaWm5OImZnl5iRiZma5OYmYmVluTiJmZpabk4jl0t3dzUUXXeT51c1qnJOI\n5dLa2sq6des8v7pZjSvjZUMb5bq7u1mxYgURwYoVK5g7d64HYjQArrrqKjo6OsquBp2d2QhIEyb0\nOyZr1TQ2NnLhhReWWoeiuSViw9ba2sorr2QDM/f09Lg1YiPO1q1b2bp1a9nVqAl+Y92Gbfbs2WzZ\nsuXV9QMPPJBly5aVWCOzHc2fPx+AhQsXllyTvYffWLc9ZsaMGTvMsT5z5sySa2RmZXESsWE77bTT\n6G3BRgSnnnpqyTUys7I4idiwLV26dIeWyM9+9rOSa2RmZXESsWG74447dmiJtLW1lVwjMyuLk4gN\n23ve855B182sdhT2noikA4B7gP3TeW6JiAWSbgDeC2xORT8eEWuU3R9ZCMwGtqT4g+lYLcAXUvnL\nIqI1xY8FbgDqgWXA/Ki17mYl8K94ZBop72iMBL2/h95eWrWuyPdVinzZcBtwUkS8LGlf4BeSlqdt\n/xARt/QpfwrZ1LdTgOOBa4DjJY0FFgBNQACrJS2NiOdTmXOB+8iSSDOwHCvUvffeu8P6Pffcw6WX\nXlpSbaxXR0cHT6x/iMNf31N2VUq335+zmyzbnnZ3/t++XFfo8QtLIqlF8HJa3Td9BvsTdg6wOO23\nStLBkg4D3ge0RcQmAEltQLOknwMHRcSqFF8MnI6TSOHGjx/PU089tcO6jQyHv76Hzx/zYtnVsBHk\nnx48qNDjF/pMRFKdpDXAc2SJ4L606XJJayVdKWn/FJsAPFOx+4YUGyy+oZ94f/WYJ6ldUntXV9du\nX1ete/bZZwddN7PaUWgSiYieiJgGTASOk3QUcClwJPAuYCxwcZF1SPW4NiKaIqKpoaGh6NPt9fq+\nXDhr1qySamJmZatK76yIeAG4G2iOiI2R2QZ8DzguFesEJlXsNjHFBotP7CduBTvttNN2WPfLhma1\nq7AkIqlB0sFpuR6YCTyWnnOQemOdDjycdlkKzFVmOrA5IjYCK4FZkg6RdAgwC1iZtr0oaXo61lzg\n1qKux17jlw3NrFeRvbMOA1ol1ZElq5sj4jZJd0lqAASsAT6Vyi8j697bQdbF92yAiNgk6SvAA6nc\nl3sfsgPn8VoX3+X4oXpV9Pey4Wc+85mSa2WdnZ388aW6wh+k2ujy9Et1vK6zuJs0RfbOWgu8s5/4\nSQOUD+D8AbZdD1zfT7wdOGr3amrDNWPGDJYtW8b27dsZM2aMB2A0q2GelMqGraWlhRUrVgBQV1fH\n3LlzS66RQTYB07btG93F13bwTw8exP4FTs7lYU9s2MaNG0dzczOSaG5u9qyGZjXMLRHLpaWlhaee\nesqtkBHmty/7mQjAs1uyv4/HH/hKyTUp329frmNKgcd3ErFcxo0bx6JFi8quhlVobGwsuwojxp/S\n2Fn7v8W/kykU+91wErFcuru7+dKXvsSCBQt8O2uEKGqAvdHI0+NWj5OI5dLa2sq6detYvHixu/fa\nq0bKSMIjZRTfIkfPHSn8YN2Grbu7mxUrVhARrFixgu7u7rKrZLaD+vp66uvry65GTXBLxIattbWV\nnp5suPHt27e7NWKv2tv/6raduSViw3bHHXe8mkR6eno8Pa5ZDXMSsWE78cQTd1j39LhmtctJxIat\nd/BFMzMnERu2vtPj9l03s9rhJGLDNmPGjB2GgvcAjGa1y0nEhu20007bYSh4T0plVrucRGzYPCmV\nmfVyErFh629SKjOrTUVOj3uApPsl/VrSeklfSvEjJN0nqUPSTZL2S/H903pH2j654liXpvjjkk6u\niDenWIekS4q6FtvRjBkzGDMme0/Vk1KZ1bYiWyLbgJMi4q+AaUBzmjv9CuDKiGgEngfOSeXPAZ5P\n8StTOSRNBc4E3gE0A1dLqkvT7n4TOAWYCpyVylrBWlpa2Gef7KvjSanMalthSSQyL6fVfdMngJOA\nW1K8FTg9Lc9J66TtH1B2430OsCQitkXEb8jmYD8ufToi4smI+BOwJJW1gnlSKjPrVegzkdRiWAM8\nB7QB/w94ISK2pyIbgN55GycAzwCk7ZuBcZXxPvsMFO+vHvMktUtq7+rq2hOXVvNaWlo4+uij3Qox\nq3GFJpGI6ImIacBEspbDkUWeb5B6XBsRTRHR1NDQUEYV9jq9k1K5FWJW26rSOysiXgDuBt4NHCyp\nd/TgiUBnWu4EJgGk7W8EuivjffYZKG5mZlVSZO+sBkkHp+V6YCbwKFkyOSMVawFuTctL0zpp+12R\n9SNdCpyZem8dQTbb4/3AA8CU1NtrP7KH70uLuh4zM9tZkfOJHAa0pl5U+wA3R8Rtkh4Blki6DHgI\nuC6Vvw74vqQOYBNZUiAi1ku6GXgE2A6cHxE9AJIuAFYCdcD1EbG+wOsxM7M+1PvSWK1oamqK9vb2\nsqthZjaqSFodEU19435j3czMcvP0uKPQVVddRUdHR6l16OzM+jBMmNBvr+qqamxs9LSsZiVxErFc\ntm7dWnYVzGwEcBIZhUbCX93z588HYOHChSXXxMzK5GciZmaWm5OImZnl5iRiZma5DTmJSHqLpBlp\nuV7SG4qrlpmZjQZDSiKSziUbnv3bKTQR+GlRlTIzs9FhqC2R84ETgBcBIuIJ4E1FVcrMzEaHoSaR\nbWniJ+DVUXZra7wUMzPbyVCTyL9L+jxQL2km8CPgZ8VVy8zMRoOhJpFLgC5gHfBJYBnwhaIqZWZm\no8NQ31ivJxtq/TuQTXubYluKqpiZmY18Q22J3EmWNHrVA3fs+eqYmdloMtQkckBEvNy7kpYPHGwH\nSZMk3S3pEUnrJc1P8S9K6pS0Jn1mV+xzqaQOSY9LOrki3pxiHZIuqYgfIem+FL8pzXBoZmZVMtQk\n8kdJx/SuSDoW2NUwrtuBv4+IqcB04HxJU9O2KyNiWvosS8ecSjab4TuAZuBqSXXp1tk3gVOAqcBZ\nFce5Ih2rEXgeOGeI12NmZnvAUJ+JfBr4kaTfAQL+C/DhwXaIiI3AxrT8kqRHgcEmn5gDLImIbcBv\n0jS5x6VtHRHxJICkJcCcdLyTgI+kMq3AF4FrhnhNZma2m4bUEomIB4Ajgf8FfAr4i4hYPdSTSJoM\nvBO4L4UukLRW0vWSDkmxCcAzFbttSLGB4uOAFyJie594f+efJ6ldUntXV9dQq21mZrswaBKRdFL6\n+d+BU4G3p8+pKbZLkl4P/Bj4dES8SNZSeBswjayl8rXctR+iiLg2IpoioqmhoaHo05mZ1Yxd3c56\nL3AXWQLpK4CfDLazpH3JEsiNEfETgIh4tmL7d4Db0monMKli94kpxgDxbuBgSWNSa6SyvJmZVcGg\nSSQiFkjaB1geETcP58CSBFwHPBoRX6+IH5aelwD8DfBwWl4K/EDS14E3A1OA+8mewUyRdARZkjgT\n+EhEhKS7gTOAJUALcOtw6mhmZrtnlw/WI+IVSZ8DhpVEyAZs/BiwTtKaFPs8We+qaWQtmafI3oAn\nItZLuhl4hKxn1/kR0QMg6QJgJVBH9tLj+nS8i4Elki4DHiJLWmZmViVD7Z11h6TPAjcBf+wNRsSm\ngXaIiF+QtSL6WjbIPpcDl/cTX9bffqnH1nF942ZmVh1DTSIfJms5nNcn/tY9Wx0zMxtNhppEppIl\nkBPJksm9wLeKqpSZmY0OQ00irWQTUi1K6x9JsQ8VUSkzMxsdhppEjkrDl/S6W9IjRVTIzMxGj6GO\nnfWgpOm9K5KOB9qLqZKZmY0WQ22JHAv8UtJv0/rhwOOS1gEREX9ZSO3MzGxEG2oSaS60FmZmNioN\nKYlExNNFV8TMzEafoT4TMTMz24mTiJmZ5eYkYmZmuTmJmJlZbk4iZmaWm5OImZnl5iRiZma5OYmY\nmVluhSURSZMk3S3pEUnrJc1P8bGS2iQ9kX4ekuKStEhSh6S1ko6pOFZLKv+EpJaK+LGS1qV9FqUp\nec3MrEqKbIlsB/4+jf47HThf0lTgEuDOiJgC3JnWAU4hm1d9CjAPuAaypAMsAI4nm8VwQW/iSWXO\nrdjPw7OYmVVRYUkkIjZGxINp+SXgUWACMIdsLhLSz9PT8hxgcWRWAQdLOgw4GWiLiE0R8TzQBjSn\nbQdFxKqICGBxxbHMzKwKqvJMRNJk4J3AfcD4iNiYNv0eGJ+WJwDPVOy2IcUGi2/oJ97f+edJapfU\n3tXVtVvXYmZmryk8iUh6PfBj4NMR8WLlttSCiKLrEBHXRkRTRDQ1NDQUfTozs5pRaBKRtC9ZArkx\nIn6Sws+mW1Gkn8+leCcwqWL3iSk2WHxiP3EzM6uSIntnCbgOeDQivl6xaSnQ28OqBbi1Ij439dKa\nDmxOt71WArMkHZIeqM8CVqZtL0qans41t+JYZmZWBUOdlCqPE4CPAeskrUmxzwNfBW6WdA7wNPCh\ntG0ZMBvoALYAZwNExCZJXwEeSOW+HBGb0vJ5wA1APbA8fczMrEoKSyIR8QtgoPc2PtBP+QDOH+BY\n1wPX9xNvB47ajWqamdlu8BvrZmaWm5OImZnl5iRiZma5OYmYmVluTiJmZpabk4iZmeXmJGJmZrk5\niZiZWW5OImZmlpuTiJmZ5eYkYmZmuRU5AONe56qrrqKjo6PsaowIvb+H+fPnl1yTkaGxsZELL7yw\n7GqYVZ2TyDB0dHSw5uFH6TlwbNlVKd0+f8rmElv95LMl16R8dVs27bqQ2V7KSWSYeg4cy9YjZ5dd\nDRtB6h9bVnYVzErjZyJmZpZbkTMbXi/pOUkPV8S+KKlT0pr0mV2x7VJJHZIel3RyRbw5xTokXVIR\nP0LSfSl+k6T9iroWMzPrX5EtkRuA5n7iV0bEtPRZBiBpKnAm8I60z9WS6iTVAd8ETgGmAmelsgBX\npGM1As8D5xR4LWZm1o/CkkhE3AMM9YnjHGBJRGyLiN+QTZF7XPp0RMSTEfEnYAkwJ82pfhJwS9q/\nFTh9j16AmZntUhnPRC6QtDbd7jokxSYAz1SU2ZBiA8XHAS9ExPY+8X5JmiepXVJ7V1fXnroOM7Oa\nV+0kcg3wNmAasBH4WjVOGhHXRkRTRDQ1NDRU45RmZjWhql18I+LVlwokfQe4La12ApMqik5MMQaI\ndwMHSxqTWiOV5c3MrEqq2hKRdFjF6t8AvT23lgJnStpf0hHAFOB+4AFgSuqJtR/Zw/elERHA3cAZ\naf8W4NZqXIOZmb2msJaIpB8C7wMOlbQBWAC8T9I0IICngE8CRMR6STcDjwDbgfMjoicd5wJgJVAH\nXB8R69MpLgaWSLoMeAi4rqhrMTOz/hWWRCLirH7CA/5HHxGXA5f3E18G7PRKcEQ8SdZ7y8zMSuI3\n1s3MLDcnETMzy81JxMzMcnMSMTOz3JxEzMwsNycRMzPLzUnEzMxycxIxM7PcnETMzCw3JxEzM8vN\nScTMzHJzEjEzs9ycRMzMLDcnETMzy81JxMzMcnMSMTOz3ApLIpKul/ScpIcrYmMltUl6Iv08JMUl\naZGkDklrJR1TsU9LKv+EpJaK+LGS1qV9FklSUddiZmb9K2xmQ+AG4BvA4orYJcCdEfFVSZek9YuB\nU8jmVZ8CHA9cAxwvaSzZtLpNZFPqrpa0NCKeT2XOBe4jm/mwGVhe4PXQ2dlJ3ZbN1D+200SLVsPq\ntnTT2bm97GqYlaKwlkhE3ANs6hOeA7Sm5Vbg9Ir44sisAg6WdBhwMtAWEZtS4mgDmtO2gyJiVUQE\nWaI6HTMzq6oiWyL9GR8RG9Py74HxaXkC8ExFuQ0pNlh8Qz/xfkmaB8wDOPzww3NXfsKECfx+2xi2\nHjk79zFs71P/2DImTBi/64Jme6HSHqynFkRU6VzXRkRTRDQ1NDRU45RmZjWh2knk2XQrivTzuRTv\nBCZVlJuYYoPFJ/YTNzOzKqp2ElkK9PawagFurYjPTb20pgOb022vlcAsSYeknlyzgJVp24uSpqde\nWXMrjmVmZlVS2DMRST8E3gccKmkDWS+rrwI3SzoHeBr4UCq+DJgNdABbgLMBImKTpK8AD6RyX46I\n3of155H1AKsn65VVaM8sMzPbWWFJJCLOGmDTB/opG8D5AxzneuD6fuLtwFG7U0czM9s9fmPdzMxy\ncxIxM7PcnETMzCw3JxEzM8ut2m+sj3p1WzZ57Cxgn/98EYBXDjio5JqUr27LJl4bfMGstjiJDENj\nY2PZVRgxOjpeAqDxrf7PE8b7u2E1y0lkGC688MKyqzBizJ8/H4CFCxeWXBMzK5OfiZiZWW5OImZm\nlpuTiJmZ5eYkYmZmuTmJmJlZbk4iZmaWm5OImZnl5iRiZma5lZJEJD0laZ2kNZLaU2yspDZJT6Sf\nh6S4JC2S1CFpraRjKo7Tkso/IalloPOZmVkxymyJvD8ipkVEU1q/BLgzIqYAd6Z1gFOAKekzD7gG\nsqRDNlvi8cBxwILexGNmZtUxkoY9mUM2nS5AK/Bz4OIUX5xmP1wl6WBJh6Wybb3T5UpqA5qBH1a3\n2tV31VVX0dHRUWodes/fO/xJmRobGz0kjVlJymqJBHC7pNWS5qXY+IjYmJZ/z2vDok4AnqnYd0OK\nDRTfiaR5ktoltXd1de2pa6hp9fX11NfXl10NMytZWS2REyOiU9KbgDZJj1VujIiQFHvqZBFxLXAt\nQFNT0x47bln8V7eZjRSltEQiojP9fA74N7JnGs+m21Skn8+l4p3ApIrdJ6bYQHEzM6uSqicRSa+T\n9IbeZWAW8DCwFOjtYdUC3JqWlwJzUy+t6cDmdNtrJTBL0iHpgfqsFDMzsyop43bWeODfJPWe/wcR\nsULSA8DNks4BngY+lMovA2YDHcAW4GyAiNgk6SvAA6ncl3sfspuZWXUo6/RUO5qamqK9vb3sapiZ\njSqSVle8kvEqv7FuZma5OYmYmVluTiJmZpabk4iZmeVWcw/WJXWR9f6y3Xco8IeyK2E2AH8/96y3\nRERD32DNJRHbcyS199dbw2wk8PezOnw7y8zMcnMSMTOz3JxEbHdcW3YFzAbh72cV+JmImZnl5paI\nmZnl5iRiZma5OYnYTiRdJOlRSTfu5nEmS/rInqqXmY08TiLWn/OAmRHx0d6ApDzTBkwGnESsUGmu\nodz/l0mq25P1qTVOIrYDSd8C3gosl7RZ0vcl/Qfw/dSyuEvSWkl3Sjo87XODpEWSfinpSUlnpMN9\nFXiPpDWSPlPSJdleKH0XH5e0mGxSu/8t6YH03fxSRbmfSlotab2keRXxlyV9TdKvgXeXcAl7DffO\nsp1IegpoAi4ATgVOjIitkn4G3BIRrZI+AZwWEadLugF4HfBh4EhgaUQ0Snof8NmI+GAZ12F7L0mT\ngSeB/wocBJwBfBIQ2Wyo/xwR90gamyawqyebwO69EdEtKYAPR8TNpVzAXsQtEduVpRGxNS2/G/hB\nWv4+cGJFuZ9GxCsR8QjZ7JVmRXs6IlaRTY09C3gIeJDsD5kpqcxFqbWxCphUEe8Bflzd6u6dypge\n10aXPw6x3LaKZRVREbM+er+bAv5PRHy7cmNqCc8A3h0RWyT9HDggbf7PiOipVkX3Zm6J2HD8Ejgz\nLX8UuHcX5V8C3lBojcxgJfAJSa8HkDRB0puANwLPpwRyJDC9zErurZxEbDguBM6WtBb4GDB/F+XX\nAj2Sfu0H61aUiLid7DbrryStA24h++NlBTBG0qNknTxWlVfLvZcfrJuZWW5uiZiZWW5OImZmlpuT\niJmZ5eYkYmZmuTmJmJlZbk4iZjlJerOkW/bQsSZLenhPHKvimB+X9OaK9e9Kmronz2HmN9bNcoqI\n35GN2TRSfZxscMLfAUTE/yy1NrZXckvEapKkv5V0fxph+NuS6tLIrpenlyNXSRqfyr4tra+TdJmk\nl1P81dZD+qv/J5JWSHpC0j9XnGuWpF9JelDSj3rfrB6kbgdI+l4630OS3p/idZL+r6SH02i1F6b4\nP6YRbB+WdG0aGv0MskE0b0zXWC/p55Ka0j5npeM/LOmKinP3+zswG4iTiNUcSX9BNuLwCRExjWww\nvo+SjUS8KiL+CrgHODftshBYGBFHAxsGOfS0dNyjgQ9LmiTpUOALwIyIOAZoB/5uF1U8H4h0vrOA\nVkkHAPPI5miZFhF/CfROGvaNiHhXRBwF1AMfjIhb0rk+GhHTKgbRJN3iugI4KdX5XZJOT5sH+h2Y\n9ctJxGrRB4BjgQckrUnrbwX+BNyWyqwm+w8bstGLf5SWf8DA7oyIzRHxn8AjwFvIxmuaCvxHOldL\nig/mROBfASLiMeBp4O1kgwl+OyK2p22bUvn3S7ovDflxEvCOXRz/XcDPI6IrHetG4L+lbQP9Dsz6\n5WciVosEtEbEpTsEpc/Ga+MA9TD8fx+VIxn37i+gLSLO6nOu44HeUWf/kWycsWFLLZSrgaaIeEbS\nF3ltpNo8/rybvwOrMW6JWC26EzgjjfSKpLGSBmsdrAL+R1o+c5ByA+17gqTGdK7XSXp7RNyXbjNN\ni4ilffa5l+z2GpLeDhwOPA60AZ9UmqpY0lheSxh/SM9aKh/0DzSK8v3AeyUdqmxq2LOAfx/mdZkB\nTiJWg9LEWV8Abk8jErcBhw2yy6eBv0tlG4HNwzhXF1kvqR+m/X9FNmnSYK4G9km3p24CPh4R24Dv\nAr8F1qaJlj4SES8A3yHrhbWSbPa+XjcA3+p9sF5Rp43AJcDdwK+B1RFx61CvyaySR/E12wVJBwJb\nIyIknQmcFRFzyq6X2Ujg+51mu3Ys8A1JAl4APlFyfcxGDLdEzMwsNz8TMTOz3JxEzMwsNycRMzPL\nzUnEzMxycxIxM7Pc/j/N0BqevhcGXgAAAABJRU5ErkJggg==\n",
            "text/plain": [
              "<Figure size 432x288 with 1 Axes>"
            ]
          },
          "metadata": {
            "tags": []
          }
        }
      ]
    },
    {
      "cell_type": "code",
      "metadata": {
        "id": "wR1NEYWQ7_LL",
        "colab_type": "code",
        "colab": {
          "base_uri": "https://localhost:8080/",
          "height": 296
        },
        "outputId": "c4d72c1d-fa8e-488c-f5ff-e83dfb722ab7"
      },
      "source": [
        "sns.boxplot(x=\"drive-wheels\", y=\"price\", data=df)"
      ],
      "execution_count": 17,
      "outputs": [
        {
          "output_type": "execute_result",
          "data": {
            "text/plain": [
              "<matplotlib.axes._subplots.AxesSubplot at 0x7f50fb75ec50>"
            ]
          },
          "metadata": {
            "tags": []
          },
          "execution_count": 17
        },
        {
          "output_type": "display_data",
          "data": {
            "image/png": "iVBORw0KGgoAAAANSUhEUgAAAZEAAAEGCAYAAACkQqisAAAABHNCSVQICAgIfAhkiAAAAAlwSFlz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\nAAAASUVORK5CYII=\n",
            "text/plain": [
              "<Figure size 432x288 with 1 Axes>"
            ]
          },
          "metadata": {
            "tags": []
          }
        }
      ]
    },
    {
      "cell_type": "code",
      "metadata": {
        "id": "3hnqm7MZ8BJq",
        "colab_type": "code",
        "colab": {
          "base_uri": "https://localhost:8080/",
          "height": 314
        },
        "outputId": "197fc301-e6e0-4183-f16d-253918ec5d6b"
      },
      "source": [
        "df.describe()"
      ],
      "execution_count": 18,
      "outputs": [
        {
          "output_type": "execute_result",
          "data": {
            "text/html": [
              "<div>\n",
              "<style scoped>\n",
              "    .dataframe tbody tr th:only-of-type {\n",
              "        vertical-align: middle;\n",
              "    }\n",
              "\n",
              "    .dataframe tbody tr th {\n",
              "        vertical-align: top;\n",
              "    }\n",
              "\n",
              "    .dataframe thead th {\n",
              "        text-align: right;\n",
              "    }\n",
              "</style>\n",
              "<table border=\"1\" class=\"dataframe\">\n",
              "  <thead>\n",
              "    <tr style=\"text-align: right;\">\n",
              "      <th></th>\n",
              "      <th>symboling</th>\n",
              "      <th>normalized-losses</th>\n",
              "      <th>wheel-base</th>\n",
              "      <th>length</th>\n",
              "      <th>width</th>\n",
              "      <th>height</th>\n",
              "      <th>curb-weight</th>\n",
              "      <th>engine-size</th>\n",
              "      <th>bore</th>\n",
              "      <th>stroke</th>\n",
              "      <th>compression-ratio</th>\n",
              "      <th>horsepower</th>\n",
              "      <th>peak-rpm</th>\n",
              "      <th>city-mpg</th>\n",
              "      <th>highway-mpg</th>\n",
              "      <th>price</th>\n",
              "      <th>city-L/100km</th>\n",
              "      <th>diesel</th>\n",
              "      <th>gas</th>\n",
              "    </tr>\n",
              "  </thead>\n",
              "  <tbody>\n",
              "    <tr>\n",
              "      <th>count</th>\n",
              "      <td>201.000000</td>\n",
              "      <td>201.00000</td>\n",
              "      <td>201.000000</td>\n",
              "      <td>201.000000</td>\n",
              "      <td>201.000000</td>\n",
              "      <td>201.000000</td>\n",
              "      <td>201.000000</td>\n",
              "      <td>201.000000</td>\n",
              "      <td>201.000000</td>\n",
              "      <td>197.000000</td>\n",
              "      <td>201.000000</td>\n",
              "      <td>201.000000</td>\n",
              "      <td>201.000000</td>\n",
              "      <td>201.000000</td>\n",
              "      <td>201.000000</td>\n",
              "      <td>201.000000</td>\n",
              "      <td>201.000000</td>\n",
              "      <td>201.000000</td>\n",
              "      <td>201.000000</td>\n",
              "    </tr>\n",
              "    <tr>\n",
              "      <th>mean</th>\n",
              "      <td>0.840796</td>\n",
              "      <td>122.00000</td>\n",
              "      <td>98.797015</td>\n",
              "      <td>0.837102</td>\n",
              "      <td>0.915126</td>\n",
              "      <td>53.766667</td>\n",
              "      <td>2555.666667</td>\n",
              "      <td>126.875622</td>\n",
              "      <td>3.330692</td>\n",
              "      <td>3.256904</td>\n",
              "      <td>10.164279</td>\n",
              "      <td>103.405534</td>\n",
              "      <td>5117.665368</td>\n",
              "      <td>25.179104</td>\n",
              "      <td>30.686567</td>\n",
              "      <td>13207.129353</td>\n",
              "      <td>9.944145</td>\n",
              "      <td>0.099502</td>\n",
              "      <td>0.900498</td>\n",
              "    </tr>\n",
              "    <tr>\n",
              "      <th>std</th>\n",
              "      <td>1.254802</td>\n",
              "      <td>31.99625</td>\n",
              "      <td>6.066366</td>\n",
              "      <td>0.059213</td>\n",
              "      <td>0.029187</td>\n",
              "      <td>2.447822</td>\n",
              "      <td>517.296727</td>\n",
              "      <td>41.546834</td>\n",
              "      <td>0.268072</td>\n",
              "      <td>0.319256</td>\n",
              "      <td>4.004965</td>\n",
              "      <td>37.365700</td>\n",
              "      <td>478.113805</td>\n",
              "      <td>6.423220</td>\n",
              "      <td>6.815150</td>\n",
              "      <td>7947.066342</td>\n",
              "      <td>2.534599</td>\n",
              "      <td>0.300083</td>\n",
              "      <td>0.300083</td>\n",
              "    </tr>\n",
              "    <tr>\n",
              "      <th>min</th>\n",
              "      <td>-2.000000</td>\n",
              "      <td>65.00000</td>\n",
              "      <td>86.600000</td>\n",
              "      <td>0.678039</td>\n",
              "      <td>0.837500</td>\n",
              "      <td>47.800000</td>\n",
              "      <td>1488.000000</td>\n",
              "      <td>61.000000</td>\n",
              "      <td>2.540000</td>\n",
              "      <td>2.070000</td>\n",
              "      <td>7.000000</td>\n",
              "      <td>48.000000</td>\n",
              "      <td>4150.000000</td>\n",
              "      <td>13.000000</td>\n",
              "      <td>16.000000</td>\n",
              "      <td>5118.000000</td>\n",
              "      <td>4.795918</td>\n",
              "      <td>0.000000</td>\n",
              "      <td>0.000000</td>\n",
              "    </tr>\n",
              "    <tr>\n",
              "      <th>25%</th>\n",
              "      <td>0.000000</td>\n",
              "      <td>101.00000</td>\n",
              "      <td>94.500000</td>\n",
              "      <td>0.801538</td>\n",
              "      <td>0.890278</td>\n",
              "      <td>52.000000</td>\n",
              "      <td>2169.000000</td>\n",
              "      <td>98.000000</td>\n",
              "      <td>3.150000</td>\n",
              "      <td>3.110000</td>\n",
              "      <td>8.600000</td>\n",
              "      <td>70.000000</td>\n",
              "      <td>4800.000000</td>\n",
              "      <td>19.000000</td>\n",
              "      <td>25.000000</td>\n",
              "      <td>7775.000000</td>\n",
              "      <td>7.833333</td>\n",
              "      <td>0.000000</td>\n",
              "      <td>1.000000</td>\n",
              "    </tr>\n",
              "    <tr>\n",
              "      <th>50%</th>\n",
              "      <td>1.000000</td>\n",
              "      <td>122.00000</td>\n",
              "      <td>97.000000</td>\n",
              "      <td>0.832292</td>\n",
              "      <td>0.909722</td>\n",
              "      <td>54.100000</td>\n",
              "      <td>2414.000000</td>\n",
              "      <td>120.000000</td>\n",
              "      <td>3.310000</td>\n",
              "      <td>3.290000</td>\n",
              "      <td>9.000000</td>\n",
              "      <td>95.000000</td>\n",
              "      <td>5125.369458</td>\n",
              "      <td>24.000000</td>\n",
              "      <td>30.000000</td>\n",
              "      <td>10295.000000</td>\n",
              "      <td>9.791667</td>\n",
              "      <td>0.000000</td>\n",
              "      <td>1.000000</td>\n",
              "    </tr>\n",
              "    <tr>\n",
              "      <th>75%</th>\n",
              "      <td>2.000000</td>\n",
              "      <td>137.00000</td>\n",
              "      <td>102.400000</td>\n",
              "      <td>0.881788</td>\n",
              "      <td>0.925000</td>\n",
              "      <td>55.500000</td>\n",
              "      <td>2926.000000</td>\n",
              "      <td>141.000000</td>\n",
              "      <td>3.580000</td>\n",
              "      <td>3.410000</td>\n",
              "      <td>9.400000</td>\n",
              "      <td>116.000000</td>\n",
              "      <td>5500.000000</td>\n",
              "      <td>30.000000</td>\n",
              "      <td>34.000000</td>\n",
              "      <td>16500.000000</td>\n",
              "      <td>12.368421</td>\n",
              "      <td>0.000000</td>\n",
              "      <td>1.000000</td>\n",
              "    </tr>\n",
              "    <tr>\n",
              "      <th>max</th>\n",
              "      <td>3.000000</td>\n",
              "      <td>256.00000</td>\n",
              "      <td>120.900000</td>\n",
              "      <td>1.000000</td>\n",
              "      <td>1.000000</td>\n",
              "      <td>59.800000</td>\n",
              "      <td>4066.000000</td>\n",
              "      <td>326.000000</td>\n",
              "      <td>3.940000</td>\n",
              "      <td>4.170000</td>\n",
              "      <td>23.000000</td>\n",
              "      <td>262.000000</td>\n",
              "      <td>6600.000000</td>\n",
              "      <td>49.000000</td>\n",
              "      <td>54.000000</td>\n",
              "      <td>45400.000000</td>\n",
              "      <td>18.076923</td>\n",
              "      <td>1.000000</td>\n",
              "      <td>1.000000</td>\n",
              "    </tr>\n",
              "  </tbody>\n",
              "</table>\n",
              "</div>"
            ],
            "text/plain": [
              "        symboling  normalized-losses  ...      diesel         gas\n",
              "count  201.000000          201.00000  ...  201.000000  201.000000\n",
              "mean     0.840796          122.00000  ...    0.099502    0.900498\n",
              "std      1.254802           31.99625  ...    0.300083    0.300083\n",
              "min     -2.000000           65.00000  ...    0.000000    0.000000\n",
              "25%      0.000000          101.00000  ...    0.000000    1.000000\n",
              "50%      1.000000          122.00000  ...    0.000000    1.000000\n",
              "75%      2.000000          137.00000  ...    0.000000    1.000000\n",
              "max      3.000000          256.00000  ...    1.000000    1.000000\n",
              "\n",
              "[8 rows x 19 columns]"
            ]
          },
          "metadata": {
            "tags": []
          },
          "execution_count": 18
        }
      ]
    },
    {
      "cell_type": "code",
      "metadata": {
        "id": "zar1PGHM8E2r",
        "colab_type": "code",
        "colab": {
          "base_uri": "https://localhost:8080/",
          "height": 173
        },
        "outputId": "76617a19-9787-4025-fad2-7d2cfbe71227"
      },
      "source": [
        "df.describe(include=['object'])"
      ],
      "execution_count": 19,
      "outputs": [
        {
          "output_type": "execute_result",
          "data": {
            "text/html": [
              "<div>\n",
              "<style scoped>\n",
              "    .dataframe tbody tr th:only-of-type {\n",
              "        vertical-align: middle;\n",
              "    }\n",
              "\n",
              "    .dataframe tbody tr th {\n",
              "        vertical-align: top;\n",
              "    }\n",
              "\n",
              "    .dataframe thead th {\n",
              "        text-align: right;\n",
              "    }\n",
              "</style>\n",
              "<table border=\"1\" class=\"dataframe\">\n",
              "  <thead>\n",
              "    <tr style=\"text-align: right;\">\n",
              "      <th></th>\n",
              "      <th>make</th>\n",
              "      <th>aspiration</th>\n",
              "      <th>num-of-doors</th>\n",
              "      <th>body-style</th>\n",
              "      <th>drive-wheels</th>\n",
              "      <th>engine-location</th>\n",
              "      <th>engine-type</th>\n",
              "      <th>num-of-cylinders</th>\n",
              "      <th>fuel-system</th>\n",
              "      <th>horsepower-binned</th>\n",
              "    </tr>\n",
              "  </thead>\n",
              "  <tbody>\n",
              "    <tr>\n",
              "      <th>count</th>\n",
              "      <td>201</td>\n",
              "      <td>201</td>\n",
              "      <td>201</td>\n",
              "      <td>201</td>\n",
              "      <td>201</td>\n",
              "      <td>201</td>\n",
              "      <td>201</td>\n",
              "      <td>201</td>\n",
              "      <td>201</td>\n",
              "      <td>200</td>\n",
              "    </tr>\n",
              "    <tr>\n",
              "      <th>unique</th>\n",
              "      <td>22</td>\n",
              "      <td>2</td>\n",
              "      <td>2</td>\n",
              "      <td>5</td>\n",
              "      <td>3</td>\n",
              "      <td>2</td>\n",
              "      <td>6</td>\n",
              "      <td>7</td>\n",
              "      <td>8</td>\n",
              "      <td>3</td>\n",
              "    </tr>\n",
              "    <tr>\n",
              "      <th>top</th>\n",
              "      <td>toyota</td>\n",
              "      <td>std</td>\n",
              "      <td>four</td>\n",
              "      <td>sedan</td>\n",
              "      <td>fwd</td>\n",
              "      <td>front</td>\n",
              "      <td>ohc</td>\n",
              "      <td>four</td>\n",
              "      <td>mpfi</td>\n",
              "      <td>Low</td>\n",
              "    </tr>\n",
              "    <tr>\n",
              "      <th>freq</th>\n",
              "      <td>32</td>\n",
              "      <td>165</td>\n",
              "      <td>115</td>\n",
              "      <td>94</td>\n",
              "      <td>118</td>\n",
              "      <td>198</td>\n",
              "      <td>145</td>\n",
              "      <td>157</td>\n",
              "      <td>92</td>\n",
              "      <td>115</td>\n",
              "    </tr>\n",
              "  </tbody>\n",
              "</table>\n",
              "</div>"
            ],
            "text/plain": [
              "          make aspiration  ... fuel-system horsepower-binned\n",
              "count      201        201  ...         201               200\n",
              "unique      22          2  ...           8                 3\n",
              "top     toyota        std  ...        mpfi               Low\n",
              "freq        32        165  ...          92               115\n",
              "\n",
              "[4 rows x 10 columns]"
            ]
          },
          "metadata": {
            "tags": []
          },
          "execution_count": 19
        }
      ]
    },
    {
      "cell_type": "code",
      "metadata": {
        "id": "vLGlILD58Gwq",
        "colab_type": "code",
        "colab": {
          "base_uri": "https://localhost:8080/",
          "height": 85
        },
        "outputId": "2a4ed627-ea29-4265-a6cc-6f875e2ac6d8"
      },
      "source": [
        "df['drive-wheels'].value_counts()"
      ],
      "execution_count": 20,
      "outputs": [
        {
          "output_type": "execute_result",
          "data": {
            "text/plain": [
              "fwd    118\n",
              "rwd     75\n",
              "4wd      8\n",
              "Name: drive-wheels, dtype: int64"
            ]
          },
          "metadata": {
            "tags": []
          },
          "execution_count": 20
        }
      ]
    },
    {
      "cell_type": "code",
      "metadata": {
        "id": "k8ZAKAzd8I3b",
        "colab_type": "code",
        "colab": {
          "base_uri": "https://localhost:8080/",
          "height": 142
        },
        "outputId": "48a8649f-4e57-4222-d238-1bebd6107790"
      },
      "source": [
        "df['drive-wheels'].value_counts().to_frame()"
      ],
      "execution_count": 21,
      "outputs": [
        {
          "output_type": "execute_result",
          "data": {
            "text/html": [
              "<div>\n",
              "<style scoped>\n",
              "    .dataframe tbody tr th:only-of-type {\n",
              "        vertical-align: middle;\n",
              "    }\n",
              "\n",
              "    .dataframe tbody tr th {\n",
              "        vertical-align: top;\n",
              "    }\n",
              "\n",
              "    .dataframe thead th {\n",
              "        text-align: right;\n",
              "    }\n",
              "</style>\n",
              "<table border=\"1\" class=\"dataframe\">\n",
              "  <thead>\n",
              "    <tr style=\"text-align: right;\">\n",
              "      <th></th>\n",
              "      <th>drive-wheels</th>\n",
              "    </tr>\n",
              "  </thead>\n",
              "  <tbody>\n",
              "    <tr>\n",
              "      <th>fwd</th>\n",
              "      <td>118</td>\n",
              "    </tr>\n",
              "    <tr>\n",
              "      <th>rwd</th>\n",
              "      <td>75</td>\n",
              "    </tr>\n",
              "    <tr>\n",
              "      <th>4wd</th>\n",
              "      <td>8</td>\n",
              "    </tr>\n",
              "  </tbody>\n",
              "</table>\n",
              "</div>"
            ],
            "text/plain": [
              "     drive-wheels\n",
              "fwd           118\n",
              "rwd            75\n",
              "4wd             8"
            ]
          },
          "metadata": {
            "tags": []
          },
          "execution_count": 21
        }
      ]
    },
    {
      "cell_type": "code",
      "metadata": {
        "id": "A9zpSDo68Kss",
        "colab_type": "code",
        "colab": {
          "base_uri": "https://localhost:8080/",
          "height": 142
        },
        "outputId": "d41664b1-d149-4e4e-d0c1-64d09794ee0f"
      },
      "source": [
        "drive_wheels_counts = df['drive-wheels'].value_counts().to_frame()\n",
        "drive_wheels_counts.rename(columns={'drive-wheels': 'value_counts'}, inplace=True)\n",
        "drive_wheels_counts"
      ],
      "execution_count": 22,
      "outputs": [
        {
          "output_type": "execute_result",
          "data": {
            "text/html": [
              "<div>\n",
              "<style scoped>\n",
              "    .dataframe tbody tr th:only-of-type {\n",
              "        vertical-align: middle;\n",
              "    }\n",
              "\n",
              "    .dataframe tbody tr th {\n",
              "        vertical-align: top;\n",
              "    }\n",
              "\n",
              "    .dataframe thead th {\n",
              "        text-align: right;\n",
              "    }\n",
              "</style>\n",
              "<table border=\"1\" class=\"dataframe\">\n",
              "  <thead>\n",
              "    <tr style=\"text-align: right;\">\n",
              "      <th></th>\n",
              "      <th>value_counts</th>\n",
              "    </tr>\n",
              "  </thead>\n",
              "  <tbody>\n",
              "    <tr>\n",
              "      <th>fwd</th>\n",
              "      <td>118</td>\n",
              "    </tr>\n",
              "    <tr>\n",
              "      <th>rwd</th>\n",
              "      <td>75</td>\n",
              "    </tr>\n",
              "    <tr>\n",
              "      <th>4wd</th>\n",
              "      <td>8</td>\n",
              "    </tr>\n",
              "  </tbody>\n",
              "</table>\n",
              "</div>"
            ],
            "text/plain": [
              "     value_counts\n",
              "fwd           118\n",
              "rwd            75\n",
              "4wd             8"
            ]
          },
          "metadata": {
            "tags": []
          },
          "execution_count": 22
        }
      ]
    },
    {
      "cell_type": "code",
      "metadata": {
        "id": "9WVF5mCh8Md8",
        "colab_type": "code",
        "colab": {
          "base_uri": "https://localhost:8080/",
          "height": 173
        },
        "outputId": "26a57c3c-2c99-4d33-fb96-924a3ae5a0cf"
      },
      "source": [
        "drive_wheels_counts.index.name = 'drive-wheels'\n",
        "drive_wheels_counts"
      ],
      "execution_count": 23,
      "outputs": [
        {
          "output_type": "execute_result",
          "data": {
            "text/html": [
              "<div>\n",
              "<style scoped>\n",
              "    .dataframe tbody tr th:only-of-type {\n",
              "        vertical-align: middle;\n",
              "    }\n",
              "\n",
              "    .dataframe tbody tr th {\n",
              "        vertical-align: top;\n",
              "    }\n",
              "\n",
              "    .dataframe thead th {\n",
              "        text-align: right;\n",
              "    }\n",
              "</style>\n",
              "<table border=\"1\" class=\"dataframe\">\n",
              "  <thead>\n",
              "    <tr style=\"text-align: right;\">\n",
              "      <th></th>\n",
              "      <th>value_counts</th>\n",
              "    </tr>\n",
              "    <tr>\n",
              "      <th>drive-wheels</th>\n",
              "      <th></th>\n",
              "    </tr>\n",
              "  </thead>\n",
              "  <tbody>\n",
              "    <tr>\n",
              "      <th>fwd</th>\n",
              "      <td>118</td>\n",
              "    </tr>\n",
              "    <tr>\n",
              "      <th>rwd</th>\n",
              "      <td>75</td>\n",
              "    </tr>\n",
              "    <tr>\n",
              "      <th>4wd</th>\n",
              "      <td>8</td>\n",
              "    </tr>\n",
              "  </tbody>\n",
              "</table>\n",
              "</div>"
            ],
            "text/plain": [
              "              value_counts\n",
              "drive-wheels              \n",
              "fwd                    118\n",
              "rwd                     75\n",
              "4wd                      8"
            ]
          },
          "metadata": {
            "tags": []
          },
          "execution_count": 23
        }
      ]
    },
    {
      "cell_type": "code",
      "metadata": {
        "id": "xL3tg0c48Of7",
        "colab_type": "code",
        "colab": {
          "base_uri": "https://localhost:8080/",
          "height": 142
        },
        "outputId": "9436785d-30b8-415f-ce68-44f613c62fd7"
      },
      "source": [
        "# engine-location as variable\n",
        "engine_loc_counts = df['engine-location'].value_counts().to_frame()\n",
        "engine_loc_counts.rename(columns={'engine-location': 'value_counts'}, inplace=True)\n",
        "engine_loc_counts.index.name = 'engine-location'\n",
        "engine_loc_counts.head(10)"
      ],
      "execution_count": 24,
      "outputs": [
        {
          "output_type": "execute_result",
          "data": {
            "text/html": [
              "<div>\n",
              "<style scoped>\n",
              "    .dataframe tbody tr th:only-of-type {\n",
              "        vertical-align: middle;\n",
              "    }\n",
              "\n",
              "    .dataframe tbody tr th {\n",
              "        vertical-align: top;\n",
              "    }\n",
              "\n",
              "    .dataframe thead th {\n",
              "        text-align: right;\n",
              "    }\n",
              "</style>\n",
              "<table border=\"1\" class=\"dataframe\">\n",
              "  <thead>\n",
              "    <tr style=\"text-align: right;\">\n",
              "      <th></th>\n",
              "      <th>value_counts</th>\n",
              "    </tr>\n",
              "    <tr>\n",
              "      <th>engine-location</th>\n",
              "      <th></th>\n",
              "    </tr>\n",
              "  </thead>\n",
              "  <tbody>\n",
              "    <tr>\n",
              "      <th>front</th>\n",
              "      <td>198</td>\n",
              "    </tr>\n",
              "    <tr>\n",
              "      <th>rear</th>\n",
              "      <td>3</td>\n",
              "    </tr>\n",
              "  </tbody>\n",
              "</table>\n",
              "</div>"
            ],
            "text/plain": [
              "                 value_counts\n",
              "engine-location              \n",
              "front                     198\n",
              "rear                        3"
            ]
          },
          "metadata": {
            "tags": []
          },
          "execution_count": 24
        }
      ]
    },
    {
      "cell_type": "code",
      "metadata": {
        "id": "dgADeLXn8Q4r",
        "colab_type": "code",
        "colab": {
          "base_uri": "https://localhost:8080/",
          "height": 34
        },
        "outputId": "0ec88c60-961f-4af0-ea06-f03a1f7ad9ef"
      },
      "source": [
        "df['drive-wheels'].unique()"
      ],
      "execution_count": 25,
      "outputs": [
        {
          "output_type": "execute_result",
          "data": {
            "text/plain": [
              "array(['rwd', 'fwd', '4wd'], dtype=object)"
            ]
          },
          "metadata": {
            "tags": []
          },
          "execution_count": 25
        }
      ]
    },
    {
      "cell_type": "code",
      "metadata": {
        "id": "WDJ-DXXR8TeL",
        "colab_type": "code",
        "colab": {}
      },
      "source": [
        "df_group_one = df[['drive-wheels','body-style','price']]"
      ],
      "execution_count": 0,
      "outputs": []
    },
    {
      "cell_type": "code",
      "metadata": {
        "id": "9Ff4oNvT8VBb",
        "colab_type": "code",
        "colab": {
          "base_uri": "https://localhost:8080/",
          "height": 142
        },
        "outputId": "3c884e6e-27c4-4781-d8cc-e0abf26fcda2"
      },
      "source": [
        "df_group_one = df_group_one.groupby(['drive-wheels'],as_index=False).mean()\n",
        "df_group_one"
      ],
      "execution_count": 27,
      "outputs": [
        {
          "output_type": "execute_result",
          "data": {
            "text/html": [
              "<div>\n",
              "<style scoped>\n",
              "    .dataframe tbody tr th:only-of-type {\n",
              "        vertical-align: middle;\n",
              "    }\n",
              "\n",
              "    .dataframe tbody tr th {\n",
              "        vertical-align: top;\n",
              "    }\n",
              "\n",
              "    .dataframe thead th {\n",
              "        text-align: right;\n",
              "    }\n",
              "</style>\n",
              "<table border=\"1\" class=\"dataframe\">\n",
              "  <thead>\n",
              "    <tr style=\"text-align: right;\">\n",
              "      <th></th>\n",
              "      <th>drive-wheels</th>\n",
              "      <th>price</th>\n",
              "    </tr>\n",
              "  </thead>\n",
              "  <tbody>\n",
              "    <tr>\n",
              "      <th>0</th>\n",
              "      <td>4wd</td>\n",
              "      <td>10241.000000</td>\n",
              "    </tr>\n",
              "    <tr>\n",
              "      <th>1</th>\n",
              "      <td>fwd</td>\n",
              "      <td>9244.779661</td>\n",
              "    </tr>\n",
              "    <tr>\n",
              "      <th>2</th>\n",
              "      <td>rwd</td>\n",
              "      <td>19757.613333</td>\n",
              "    </tr>\n",
              "  </tbody>\n",
              "</table>\n",
              "</div>"
            ],
            "text/plain": [
              "  drive-wheels         price\n",
              "0          4wd  10241.000000\n",
              "1          fwd   9244.779661\n",
              "2          rwd  19757.613333"
            ]
          },
          "metadata": {
            "tags": []
          },
          "execution_count": 27
        }
      ]
    },
    {
      "cell_type": "code",
      "metadata": {
        "id": "v8ACsI1E8XEq",
        "colab_type": "code",
        "colab": {
          "base_uri": "https://localhost:8080/",
          "height": 452
        },
        "outputId": "de8e1a83-0306-43f9-8ab2-631fe62a17d8"
      },
      "source": [
        "df_gptest = df[['drive-wheels','body-style','price']]\n",
        "grouped_test1 = df_gptest.groupby(['drive-wheels','body-style'],as_index=False).mean()\n",
        "grouped_test1"
      ],
      "execution_count": 28,
      "outputs": [
        {
          "output_type": "execute_result",
          "data": {
            "text/html": [
              "<div>\n",
              "<style scoped>\n",
              "    .dataframe tbody tr th:only-of-type {\n",
              "        vertical-align: middle;\n",
              "    }\n",
              "\n",
              "    .dataframe tbody tr th {\n",
              "        vertical-align: top;\n",
              "    }\n",
              "\n",
              "    .dataframe thead th {\n",
              "        text-align: right;\n",
              "    }\n",
              "</style>\n",
              "<table border=\"1\" class=\"dataframe\">\n",
              "  <thead>\n",
              "    <tr style=\"text-align: right;\">\n",
              "      <th></th>\n",
              "      <th>drive-wheels</th>\n",
              "      <th>body-style</th>\n",
              "      <th>price</th>\n",
              "    </tr>\n",
              "  </thead>\n",
              "  <tbody>\n",
              "    <tr>\n",
              "      <th>0</th>\n",
              "      <td>4wd</td>\n",
              "      <td>hatchback</td>\n",
              "      <td>7603.000000</td>\n",
              "    </tr>\n",
              "    <tr>\n",
              "      <th>1</th>\n",
              "      <td>4wd</td>\n",
              "      <td>sedan</td>\n",
              "      <td>12647.333333</td>\n",
              "    </tr>\n",
              "    <tr>\n",
              "      <th>2</th>\n",
              "      <td>4wd</td>\n",
              "      <td>wagon</td>\n",
              "      <td>9095.750000</td>\n",
              "    </tr>\n",
              "    <tr>\n",
              "      <th>3</th>\n",
              "      <td>fwd</td>\n",
              "      <td>convertible</td>\n",
              "      <td>11595.000000</td>\n",
              "    </tr>\n",
              "    <tr>\n",
              "      <th>4</th>\n",
              "      <td>fwd</td>\n",
              "      <td>hardtop</td>\n",
              "      <td>8249.000000</td>\n",
              "    </tr>\n",
              "    <tr>\n",
              "      <th>5</th>\n",
              "      <td>fwd</td>\n",
              "      <td>hatchback</td>\n",
              "      <td>8396.387755</td>\n",
              "    </tr>\n",
              "    <tr>\n",
              "      <th>6</th>\n",
              "      <td>fwd</td>\n",
              "      <td>sedan</td>\n",
              "      <td>9811.800000</td>\n",
              "    </tr>\n",
              "    <tr>\n",
              "      <th>7</th>\n",
              "      <td>fwd</td>\n",
              "      <td>wagon</td>\n",
              "      <td>9997.333333</td>\n",
              "    </tr>\n",
              "    <tr>\n",
              "      <th>8</th>\n",
              "      <td>rwd</td>\n",
              "      <td>convertible</td>\n",
              "      <td>23949.600000</td>\n",
              "    </tr>\n",
              "    <tr>\n",
              "      <th>9</th>\n",
              "      <td>rwd</td>\n",
              "      <td>hardtop</td>\n",
              "      <td>24202.714286</td>\n",
              "    </tr>\n",
              "    <tr>\n",
              "      <th>10</th>\n",
              "      <td>rwd</td>\n",
              "      <td>hatchback</td>\n",
              "      <td>14337.777778</td>\n",
              "    </tr>\n",
              "    <tr>\n",
              "      <th>11</th>\n",
              "      <td>rwd</td>\n",
              "      <td>sedan</td>\n",
              "      <td>21711.833333</td>\n",
              "    </tr>\n",
              "    <tr>\n",
              "      <th>12</th>\n",
              "      <td>rwd</td>\n",
              "      <td>wagon</td>\n",
              "      <td>16994.222222</td>\n",
              "    </tr>\n",
              "  </tbody>\n",
              "</table>\n",
              "</div>"
            ],
            "text/plain": [
              "   drive-wheels   body-style         price\n",
              "0           4wd    hatchback   7603.000000\n",
              "1           4wd        sedan  12647.333333\n",
              "2           4wd        wagon   9095.750000\n",
              "3           fwd  convertible  11595.000000\n",
              "4           fwd      hardtop   8249.000000\n",
              "5           fwd    hatchback   8396.387755\n",
              "6           fwd        sedan   9811.800000\n",
              "7           fwd        wagon   9997.333333\n",
              "8           rwd  convertible  23949.600000\n",
              "9           rwd      hardtop  24202.714286\n",
              "10          rwd    hatchback  14337.777778\n",
              "11          rwd        sedan  21711.833333\n",
              "12          rwd        wagon  16994.222222"
            ]
          },
          "metadata": {
            "tags": []
          },
          "execution_count": 28
        }
      ]
    },
    {
      "cell_type": "code",
      "metadata": {
        "id": "WdM3kyt88Z7b",
        "colab_type": "code",
        "colab": {
          "base_uri": "https://localhost:8080/",
          "height": 204
        },
        "outputId": "6decf5cb-f47c-432a-e0d7-a28af85c3cd3"
      },
      "source": [
        "grouped_pivot = grouped_test1.pivot(index='drive-wheels',columns='body-style')\n",
        "grouped_pivot"
      ],
      "execution_count": 29,
      "outputs": [
        {
          "output_type": "execute_result",
          "data": {
            "text/html": [
              "<div>\n",
              "<style scoped>\n",
              "    .dataframe tbody tr th:only-of-type {\n",
              "        vertical-align: middle;\n",
              "    }\n",
              "\n",
              "    .dataframe tbody tr th {\n",
              "        vertical-align: top;\n",
              "    }\n",
              "\n",
              "    .dataframe thead tr th {\n",
              "        text-align: left;\n",
              "    }\n",
              "\n",
              "    .dataframe thead tr:last-of-type th {\n",
              "        text-align: right;\n",
              "    }\n",
              "</style>\n",
              "<table border=\"1\" class=\"dataframe\">\n",
              "  <thead>\n",
              "    <tr>\n",
              "      <th></th>\n",
              "      <th colspan=\"5\" halign=\"left\">price</th>\n",
              "    </tr>\n",
              "    <tr>\n",
              "      <th>body-style</th>\n",
              "      <th>convertible</th>\n",
              "      <th>hardtop</th>\n",
              "      <th>hatchback</th>\n",
              "      <th>sedan</th>\n",
              "      <th>wagon</th>\n",
              "    </tr>\n",
              "    <tr>\n",
              "      <th>drive-wheels</th>\n",
              "      <th></th>\n",
              "      <th></th>\n",
              "      <th></th>\n",
              "      <th></th>\n",
              "      <th></th>\n",
              "    </tr>\n",
              "  </thead>\n",
              "  <tbody>\n",
              "    <tr>\n",
              "      <th>4wd</th>\n",
              "      <td>NaN</td>\n",
              "      <td>NaN</td>\n",
              "      <td>7603.000000</td>\n",
              "      <td>12647.333333</td>\n",
              "      <td>9095.750000</td>\n",
              "    </tr>\n",
              "    <tr>\n",
              "      <th>fwd</th>\n",
              "      <td>11595.0</td>\n",
              "      <td>8249.000000</td>\n",
              "      <td>8396.387755</td>\n",
              "      <td>9811.800000</td>\n",
              "      <td>9997.333333</td>\n",
              "    </tr>\n",
              "    <tr>\n",
              "      <th>rwd</th>\n",
              "      <td>23949.6</td>\n",
              "      <td>24202.714286</td>\n",
              "      <td>14337.777778</td>\n",
              "      <td>21711.833333</td>\n",
              "      <td>16994.222222</td>\n",
              "    </tr>\n",
              "  </tbody>\n",
              "</table>\n",
              "</div>"
            ],
            "text/plain": [
              "                   price                ...                            \n",
              "body-style   convertible       hardtop  ...         sedan         wagon\n",
              "drive-wheels                            ...                            \n",
              "4wd                  NaN           NaN  ...  12647.333333   9095.750000\n",
              "fwd              11595.0   8249.000000  ...   9811.800000   9997.333333\n",
              "rwd              23949.6  24202.714286  ...  21711.833333  16994.222222\n",
              "\n",
              "[3 rows x 5 columns]"
            ]
          },
          "metadata": {
            "tags": []
          },
          "execution_count": 29
        }
      ]
    },
    {
      "cell_type": "code",
      "metadata": {
        "id": "Qke5zcoU8b7L",
        "colab_type": "code",
        "colab": {
          "base_uri": "https://localhost:8080/",
          "height": 204
        },
        "outputId": "c9e811e8-85be-4682-a4b3-fba6dca1331a"
      },
      "source": [
        "grouped_pivot = grouped_pivot.fillna(0) #fill missing values with 0\n",
        "grouped_pivot"
      ],
      "execution_count": 30,
      "outputs": [
        {
          "output_type": "execute_result",
          "data": {
            "text/html": [
              "<div>\n",
              "<style scoped>\n",
              "    .dataframe tbody tr th:only-of-type {\n",
              "        vertical-align: middle;\n",
              "    }\n",
              "\n",
              "    .dataframe tbody tr th {\n",
              "        vertical-align: top;\n",
              "    }\n",
              "\n",
              "    .dataframe thead tr th {\n",
              "        text-align: left;\n",
              "    }\n",
              "\n",
              "    .dataframe thead tr:last-of-type th {\n",
              "        text-align: right;\n",
              "    }\n",
              "</style>\n",
              "<table border=\"1\" class=\"dataframe\">\n",
              "  <thead>\n",
              "    <tr>\n",
              "      <th></th>\n",
              "      <th colspan=\"5\" halign=\"left\">price</th>\n",
              "    </tr>\n",
              "    <tr>\n",
              "      <th>body-style</th>\n",
              "      <th>convertible</th>\n",
              "      <th>hardtop</th>\n",
              "      <th>hatchback</th>\n",
              "      <th>sedan</th>\n",
              "      <th>wagon</th>\n",
              "    </tr>\n",
              "    <tr>\n",
              "      <th>drive-wheels</th>\n",
              "      <th></th>\n",
              "      <th></th>\n",
              "      <th></th>\n",
              "      <th></th>\n",
              "      <th></th>\n",
              "    </tr>\n",
              "  </thead>\n",
              "  <tbody>\n",
              "    <tr>\n",
              "      <th>4wd</th>\n",
              "      <td>0.0</td>\n",
              "      <td>0.000000</td>\n",
              "      <td>7603.000000</td>\n",
              "      <td>12647.333333</td>\n",
              "      <td>9095.750000</td>\n",
              "    </tr>\n",
              "    <tr>\n",
              "      <th>fwd</th>\n",
              "      <td>11595.0</td>\n",
              "      <td>8249.000000</td>\n",
              "      <td>8396.387755</td>\n",
              "      <td>9811.800000</td>\n",
              "      <td>9997.333333</td>\n",
              "    </tr>\n",
              "    <tr>\n",
              "      <th>rwd</th>\n",
              "      <td>23949.6</td>\n",
              "      <td>24202.714286</td>\n",
              "      <td>14337.777778</td>\n",
              "      <td>21711.833333</td>\n",
              "      <td>16994.222222</td>\n",
              "    </tr>\n",
              "  </tbody>\n",
              "</table>\n",
              "</div>"
            ],
            "text/plain": [
              "                   price                ...                            \n",
              "body-style   convertible       hardtop  ...         sedan         wagon\n",
              "drive-wheels                            ...                            \n",
              "4wd                  0.0      0.000000  ...  12647.333333   9095.750000\n",
              "fwd              11595.0   8249.000000  ...   9811.800000   9997.333333\n",
              "rwd              23949.6  24202.714286  ...  21711.833333  16994.222222\n",
              "\n",
              "[3 rows x 5 columns]"
            ]
          },
          "metadata": {
            "tags": []
          },
          "execution_count": 30
        }
      ]
    },
    {
      "cell_type": "code",
      "metadata": {
        "id": "2ogXn_iX8fUq",
        "colab_type": "code",
        "colab": {
          "base_uri": "https://localhost:8080/",
          "height": 204
        },
        "outputId": "9d06b157-0112-460a-8e66-db79cd105570"
      },
      "source": [
        "df_gptest2 = df[['body-style','price']]\n",
        "grouped_test_bodystyle = df_gptest2.groupby(['body-style'],as_index= False).mean()\n",
        "grouped_test_bodystyle"
      ],
      "execution_count": 31,
      "outputs": [
        {
          "output_type": "execute_result",
          "data": {
            "text/html": [
              "<div>\n",
              "<style scoped>\n",
              "    .dataframe tbody tr th:only-of-type {\n",
              "        vertical-align: middle;\n",
              "    }\n",
              "\n",
              "    .dataframe tbody tr th {\n",
              "        vertical-align: top;\n",
              "    }\n",
              "\n",
              "    .dataframe thead th {\n",
              "        text-align: right;\n",
              "    }\n",
              "</style>\n",
              "<table border=\"1\" class=\"dataframe\">\n",
              "  <thead>\n",
              "    <tr style=\"text-align: right;\">\n",
              "      <th></th>\n",
              "      <th>body-style</th>\n",
              "      <th>price</th>\n",
              "    </tr>\n",
              "  </thead>\n",
              "  <tbody>\n",
              "    <tr>\n",
              "      <th>0</th>\n",
              "      <td>convertible</td>\n",
              "      <td>21890.500000</td>\n",
              "    </tr>\n",
              "    <tr>\n",
              "      <th>1</th>\n",
              "      <td>hardtop</td>\n",
              "      <td>22208.500000</td>\n",
              "    </tr>\n",
              "    <tr>\n",
              "      <th>2</th>\n",
              "      <td>hatchback</td>\n",
              "      <td>9957.441176</td>\n",
              "    </tr>\n",
              "    <tr>\n",
              "      <th>3</th>\n",
              "      <td>sedan</td>\n",
              "      <td>14459.755319</td>\n",
              "    </tr>\n",
              "    <tr>\n",
              "      <th>4</th>\n",
              "      <td>wagon</td>\n",
              "      <td>12371.960000</td>\n",
              "    </tr>\n",
              "  </tbody>\n",
              "</table>\n",
              "</div>"
            ],
            "text/plain": [
              "    body-style         price\n",
              "0  convertible  21890.500000\n",
              "1      hardtop  22208.500000\n",
              "2    hatchback   9957.441176\n",
              "3        sedan  14459.755319\n",
              "4        wagon  12371.960000"
            ]
          },
          "metadata": {
            "tags": []
          },
          "execution_count": 31
        }
      ]
    },
    {
      "cell_type": "code",
      "metadata": {
        "id": "0sU50nBS8jM6",
        "colab_type": "code",
        "colab": {}
      },
      "source": [
        "import matplotlib.pyplot as plt\n",
        "%matplotlib inline "
      ],
      "execution_count": 0,
      "outputs": []
    },
    {
      "cell_type": "code",
      "metadata": {
        "id": "HSSWY_dk8lW7",
        "colab_type": "code",
        "colab": {
          "base_uri": "https://localhost:8080/",
          "height": 269
        },
        "outputId": "b371fe95-f1b9-47b0-cb2c-033da3e94731"
      },
      "source": [
        "plt.pcolor(grouped_pivot, cmap='RdBu')\n",
        "plt.colorbar()\n",
        "plt.show()"
      ],
      "execution_count": 33,
      "outputs": [
        {
          "output_type": "display_data",
          "data": {
            "image/png": "iVBORw0KGgoAAAANSUhEUgAAAXMAAAD8CAYAAACFK0QrAAAABHNCSVQICAgIfAhkiAAAAAlwSFlz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\n84iIFkgwj4hogQTziIgWSDCPiGiB/wf5jIH/Im13mgAAAABJRU5ErkJggg==\n",
            "text/plain": [
              "<Figure size 432x288 with 2 Axes>"
            ]
          },
          "metadata": {
            "tags": []
          }
        }
      ]
    },
    {
      "cell_type": "code",
      "metadata": {
        "id": "Om2Nv9Kg8nZb",
        "colab_type": "code",
        "colab": {
          "base_uri": "https://localhost:8080/",
          "height": 311
        },
        "outputId": "9e56b0fd-8024-49da-8b63-06e36a3f7f74"
      },
      "source": [
        "fig, ax = plt.subplots()\n",
        "im = ax.pcolor(grouped_pivot, cmap='RdBu')\n",
        "\n",
        "#label names\n",
        "row_labels = grouped_pivot.columns.levels[1]\n",
        "col_labels = grouped_pivot.index\n",
        "\n",
        "#move ticks and labels to the center\n",
        "ax.set_xticks(np.arange(grouped_pivot.shape[1]) + 0.5, minor=False)\n",
        "ax.set_yticks(np.arange(grouped_pivot.shape[0]) + 0.5, minor=False)\n",
        "\n",
        "#insert labels\n",
        "ax.set_xticklabels(row_labels, minor=False)\n",
        "ax.set_yticklabels(col_labels, minor=False)\n",
        "\n",
        "#rotate label if too long\n",
        "plt.xticks(rotation=90)\n",
        "\n",
        "fig.colorbar(im)\n",
        "plt.show()"
      ],
      "execution_count": 34,
      "outputs": [
        {
          "output_type": "display_data",
          "data": {
            "image/png": "iVBORw0KGgoAAAANSUhEUgAAAXgAAAEmCAYAAABoGYshAAAABHNCSVQICAgIfAhkiAAAAAlwSFlz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\n",
            "text/plain": [
              "<Figure size 432x288 with 2 Axes>"
            ]
          },
          "metadata": {
            "tags": []
          }
        }
      ]
    },
    {
      "cell_type": "markdown",
      "metadata": {
        "id": "9ujkTiPN9rl3",
        "colab_type": "text"
      },
      "source": [
        "**Correlation and Causation**"
      ]
    },
    {
      "cell_type": "code",
      "metadata": {
        "id": "rga_9ECA8pkr",
        "colab_type": "code",
        "colab": {
          "base_uri": "https://localhost:8080/",
          "height": 689
        },
        "outputId": "f2fe9dfc-19b1-4fbd-c926-2fd569805554"
      },
      "source": [
        "df.corr()"
      ],
      "execution_count": 35,
      "outputs": [
        {
          "output_type": "execute_result",
          "data": {
            "text/html": [
              "<div>\n",
              "<style scoped>\n",
              "    .dataframe tbody tr th:only-of-type {\n",
              "        vertical-align: middle;\n",
              "    }\n",
              "\n",
              "    .dataframe tbody tr th {\n",
              "        vertical-align: top;\n",
              "    }\n",
              "\n",
              "    .dataframe thead th {\n",
              "        text-align: right;\n",
              "    }\n",
              "</style>\n",
              "<table border=\"1\" class=\"dataframe\">\n",
              "  <thead>\n",
              "    <tr style=\"text-align: right;\">\n",
              "      <th></th>\n",
              "      <th>symboling</th>\n",
              "      <th>normalized-losses</th>\n",
              "      <th>wheel-base</th>\n",
              "      <th>length</th>\n",
              "      <th>width</th>\n",
              "      <th>height</th>\n",
              "      <th>curb-weight</th>\n",
              "      <th>engine-size</th>\n",
              "      <th>bore</th>\n",
              "      <th>stroke</th>\n",
              "      <th>compression-ratio</th>\n",
              "      <th>horsepower</th>\n",
              "      <th>peak-rpm</th>\n",
              "      <th>city-mpg</th>\n",
              "      <th>highway-mpg</th>\n",
              "      <th>price</th>\n",
              "      <th>city-L/100km</th>\n",
              "      <th>diesel</th>\n",
              "      <th>gas</th>\n",
              "    </tr>\n",
              "  </thead>\n",
              "  <tbody>\n",
              "    <tr>\n",
              "      <th>symboling</th>\n",
              "      <td>1.000000</td>\n",
              "      <td>0.466264</td>\n",
              "      <td>-0.535987</td>\n",
              "      <td>-0.365404</td>\n",
              "      <td>-0.242423</td>\n",
              "      <td>-0.550160</td>\n",
              "      <td>-0.233118</td>\n",
              "      <td>-0.110581</td>\n",
              "      <td>-0.140019</td>\n",
              "      <td>-0.008245</td>\n",
              "      <td>-0.182196</td>\n",
              "      <td>0.075819</td>\n",
              "      <td>0.279740</td>\n",
              "      <td>-0.035527</td>\n",
              "      <td>0.036233</td>\n",
              "      <td>-0.082391</td>\n",
              "      <td>0.066171</td>\n",
              "      <td>-0.196735</td>\n",
              "      <td>0.196735</td>\n",
              "    </tr>\n",
              "    <tr>\n",
              "      <th>normalized-losses</th>\n",
              "      <td>0.466264</td>\n",
              "      <td>1.000000</td>\n",
              "      <td>-0.056661</td>\n",
              "      <td>0.019424</td>\n",
              "      <td>0.086802</td>\n",
              "      <td>-0.373737</td>\n",
              "      <td>0.099404</td>\n",
              "      <td>0.112360</td>\n",
              "      <td>-0.029862</td>\n",
              "      <td>0.055563</td>\n",
              "      <td>-0.114713</td>\n",
              "      <td>0.217299</td>\n",
              "      <td>0.239543</td>\n",
              "      <td>-0.225016</td>\n",
              "      <td>-0.181877</td>\n",
              "      <td>0.133999</td>\n",
              "      <td>0.238567</td>\n",
              "      <td>-0.101546</td>\n",
              "      <td>0.101546</td>\n",
              "    </tr>\n",
              "    <tr>\n",
              "      <th>wheel-base</th>\n",
              "      <td>-0.535987</td>\n",
              "      <td>-0.056661</td>\n",
              "      <td>1.000000</td>\n",
              "      <td>0.876024</td>\n",
              "      <td>0.814507</td>\n",
              "      <td>0.590742</td>\n",
              "      <td>0.782097</td>\n",
              "      <td>0.572027</td>\n",
              "      <td>0.493244</td>\n",
              "      <td>0.158502</td>\n",
              "      <td>0.250313</td>\n",
              "      <td>0.371147</td>\n",
              "      <td>-0.360305</td>\n",
              "      <td>-0.470606</td>\n",
              "      <td>-0.543304</td>\n",
              "      <td>0.584642</td>\n",
              "      <td>0.476153</td>\n",
              "      <td>0.307237</td>\n",
              "      <td>-0.307237</td>\n",
              "    </tr>\n",
              "    <tr>\n",
              "      <th>length</th>\n",
              "      <td>-0.365404</td>\n",
              "      <td>0.019424</td>\n",
              "      <td>0.876024</td>\n",
              "      <td>1.000000</td>\n",
              "      <td>0.857170</td>\n",
              "      <td>0.492063</td>\n",
              "      <td>0.880665</td>\n",
              "      <td>0.685025</td>\n",
              "      <td>0.608971</td>\n",
              "      <td>0.124139</td>\n",
              "      <td>0.159733</td>\n",
              "      <td>0.579821</td>\n",
              "      <td>-0.285970</td>\n",
              "      <td>-0.665192</td>\n",
              "      <td>-0.698142</td>\n",
              "      <td>0.690628</td>\n",
              "      <td>0.657373</td>\n",
              "      <td>0.211187</td>\n",
              "      <td>-0.211187</td>\n",
              "    </tr>\n",
              "    <tr>\n",
              "      <th>width</th>\n",
              "      <td>-0.242423</td>\n",
              "      <td>0.086802</td>\n",
              "      <td>0.814507</td>\n",
              "      <td>0.857170</td>\n",
              "      <td>1.000000</td>\n",
              "      <td>0.306002</td>\n",
              "      <td>0.866201</td>\n",
              "      <td>0.729436</td>\n",
              "      <td>0.544885</td>\n",
              "      <td>0.188829</td>\n",
              "      <td>0.189867</td>\n",
              "      <td>0.615077</td>\n",
              "      <td>-0.245800</td>\n",
              "      <td>-0.633531</td>\n",
              "      <td>-0.680635</td>\n",
              "      <td>0.751265</td>\n",
              "      <td>0.673363</td>\n",
              "      <td>0.244356</td>\n",
              "      <td>-0.244356</td>\n",
              "    </tr>\n",
              "    <tr>\n",
              "      <th>height</th>\n",
              "      <td>-0.550160</td>\n",
              "      <td>-0.373737</td>\n",
              "      <td>0.590742</td>\n",
              "      <td>0.492063</td>\n",
              "      <td>0.306002</td>\n",
              "      <td>1.000000</td>\n",
              "      <td>0.307581</td>\n",
              "      <td>0.074694</td>\n",
              "      <td>0.180449</td>\n",
              "      <td>-0.062704</td>\n",
              "      <td>0.259737</td>\n",
              "      <td>-0.087027</td>\n",
              "      <td>-0.309974</td>\n",
              "      <td>-0.049800</td>\n",
              "      <td>-0.104812</td>\n",
              "      <td>0.135486</td>\n",
              "      <td>0.003811</td>\n",
              "      <td>0.281578</td>\n",
              "      <td>-0.281578</td>\n",
              "    </tr>\n",
              "    <tr>\n",
              "      <th>curb-weight</th>\n",
              "      <td>-0.233118</td>\n",
              "      <td>0.099404</td>\n",
              "      <td>0.782097</td>\n",
              "      <td>0.880665</td>\n",
              "      <td>0.866201</td>\n",
              "      <td>0.307581</td>\n",
              "      <td>1.000000</td>\n",
              "      <td>0.849072</td>\n",
              "      <td>0.644060</td>\n",
              "      <td>0.167562</td>\n",
              "      <td>0.156433</td>\n",
              "      <td>0.757976</td>\n",
              "      <td>-0.279361</td>\n",
              "      <td>-0.749543</td>\n",
              "      <td>-0.794889</td>\n",
              "      <td>0.834415</td>\n",
              "      <td>0.785353</td>\n",
              "      <td>0.221046</td>\n",
              "      <td>-0.221046</td>\n",
              "    </tr>\n",
              "    <tr>\n",
              "      <th>engine-size</th>\n",
              "      <td>-0.110581</td>\n",
              "      <td>0.112360</td>\n",
              "      <td>0.572027</td>\n",
              "      <td>0.685025</td>\n",
              "      <td>0.729436</td>\n",
              "      <td>0.074694</td>\n",
              "      <td>0.849072</td>\n",
              "      <td>1.000000</td>\n",
              "      <td>0.572609</td>\n",
              "      <td>0.209523</td>\n",
              "      <td>0.028889</td>\n",
              "      <td>0.822676</td>\n",
              "      <td>-0.256733</td>\n",
              "      <td>-0.650546</td>\n",
              "      <td>-0.679571</td>\n",
              "      <td>0.872335</td>\n",
              "      <td>0.745059</td>\n",
              "      <td>0.070779</td>\n",
              "      <td>-0.070779</td>\n",
              "    </tr>\n",
              "    <tr>\n",
              "      <th>bore</th>\n",
              "      <td>-0.140019</td>\n",
              "      <td>-0.029862</td>\n",
              "      <td>0.493244</td>\n",
              "      <td>0.608971</td>\n",
              "      <td>0.544885</td>\n",
              "      <td>0.180449</td>\n",
              "      <td>0.644060</td>\n",
              "      <td>0.572609</td>\n",
              "      <td>1.000000</td>\n",
              "      <td>-0.055390</td>\n",
              "      <td>0.001263</td>\n",
              "      <td>0.566936</td>\n",
              "      <td>-0.267392</td>\n",
              "      <td>-0.582027</td>\n",
              "      <td>-0.591309</td>\n",
              "      <td>0.543155</td>\n",
              "      <td>0.554610</td>\n",
              "      <td>0.054458</td>\n",
              "      <td>-0.054458</td>\n",
              "    </tr>\n",
              "    <tr>\n",
              "      <th>stroke</th>\n",
              "      <td>-0.008245</td>\n",
              "      <td>0.055563</td>\n",
              "      <td>0.158502</td>\n",
              "      <td>0.124139</td>\n",
              "      <td>0.188829</td>\n",
              "      <td>-0.062704</td>\n",
              "      <td>0.167562</td>\n",
              "      <td>0.209523</td>\n",
              "      <td>-0.055390</td>\n",
              "      <td>1.000000</td>\n",
              "      <td>0.187923</td>\n",
              "      <td>0.098462</td>\n",
              "      <td>-0.065713</td>\n",
              "      <td>-0.034696</td>\n",
              "      <td>-0.035201</td>\n",
              "      <td>0.082310</td>\n",
              "      <td>0.037300</td>\n",
              "      <td>0.241303</td>\n",
              "      <td>-0.241303</td>\n",
              "    </tr>\n",
              "    <tr>\n",
              "      <th>compression-ratio</th>\n",
              "      <td>-0.182196</td>\n",
              "      <td>-0.114713</td>\n",
              "      <td>0.250313</td>\n",
              "      <td>0.159733</td>\n",
              "      <td>0.189867</td>\n",
              "      <td>0.259737</td>\n",
              "      <td>0.156433</td>\n",
              "      <td>0.028889</td>\n",
              "      <td>0.001263</td>\n",
              "      <td>0.187923</td>\n",
              "      <td>1.000000</td>\n",
              "      <td>-0.214514</td>\n",
              "      <td>-0.435780</td>\n",
              "      <td>0.331425</td>\n",
              "      <td>0.268465</td>\n",
              "      <td>0.071107</td>\n",
              "      <td>-0.299372</td>\n",
              "      <td>0.985231</td>\n",
              "      <td>-0.985231</td>\n",
              "    </tr>\n",
              "    <tr>\n",
              "      <th>horsepower</th>\n",
              "      <td>0.075819</td>\n",
              "      <td>0.217299</td>\n",
              "      <td>0.371147</td>\n",
              "      <td>0.579821</td>\n",
              "      <td>0.615077</td>\n",
              "      <td>-0.087027</td>\n",
              "      <td>0.757976</td>\n",
              "      <td>0.822676</td>\n",
              "      <td>0.566936</td>\n",
              "      <td>0.098462</td>\n",
              "      <td>-0.214514</td>\n",
              "      <td>1.000000</td>\n",
              "      <td>0.107885</td>\n",
              "      <td>-0.822214</td>\n",
              "      <td>-0.804575</td>\n",
              "      <td>0.809575</td>\n",
              "      <td>0.889488</td>\n",
              "      <td>-0.169053</td>\n",
              "      <td>0.169053</td>\n",
              "    </tr>\n",
              "    <tr>\n",
              "      <th>peak-rpm</th>\n",
              "      <td>0.279740</td>\n",
              "      <td>0.239543</td>\n",
              "      <td>-0.360305</td>\n",
              "      <td>-0.285970</td>\n",
              "      <td>-0.245800</td>\n",
              "      <td>-0.309974</td>\n",
              "      <td>-0.279361</td>\n",
              "      <td>-0.256733</td>\n",
              "      <td>-0.267392</td>\n",
              "      <td>-0.065713</td>\n",
              "      <td>-0.435780</td>\n",
              "      <td>0.107885</td>\n",
              "      <td>1.000000</td>\n",
              "      <td>-0.115413</td>\n",
              "      <td>-0.058598</td>\n",
              "      <td>-0.101616</td>\n",
              "      <td>0.115830</td>\n",
              "      <td>-0.475812</td>\n",
              "      <td>0.475812</td>\n",
              "    </tr>\n",
              "    <tr>\n",
              "      <th>city-mpg</th>\n",
              "      <td>-0.035527</td>\n",
              "      <td>-0.225016</td>\n",
              "      <td>-0.470606</td>\n",
              "      <td>-0.665192</td>\n",
              "      <td>-0.633531</td>\n",
              "      <td>-0.049800</td>\n",
              "      <td>-0.749543</td>\n",
              "      <td>-0.650546</td>\n",
              "      <td>-0.582027</td>\n",
              "      <td>-0.034696</td>\n",
              "      <td>0.331425</td>\n",
              "      <td>-0.822214</td>\n",
              "      <td>-0.115413</td>\n",
              "      <td>1.000000</td>\n",
              "      <td>0.972044</td>\n",
              "      <td>-0.686571</td>\n",
              "      <td>-0.949713</td>\n",
              "      <td>0.265676</td>\n",
              "      <td>-0.265676</td>\n",
              "    </tr>\n",
              "    <tr>\n",
              "      <th>highway-mpg</th>\n",
              "      <td>0.036233</td>\n",
              "      <td>-0.181877</td>\n",
              "      <td>-0.543304</td>\n",
              "      <td>-0.698142</td>\n",
              "      <td>-0.680635</td>\n",
              "      <td>-0.104812</td>\n",
              "      <td>-0.794889</td>\n",
              "      <td>-0.679571</td>\n",
              "      <td>-0.591309</td>\n",
              "      <td>-0.035201</td>\n",
              "      <td>0.268465</td>\n",
              "      <td>-0.804575</td>\n",
              "      <td>-0.058598</td>\n",
              "      <td>0.972044</td>\n",
              "      <td>1.000000</td>\n",
              "      <td>-0.704692</td>\n",
              "      <td>-0.930028</td>\n",
              "      <td>0.198690</td>\n",
              "      <td>-0.198690</td>\n",
              "    </tr>\n",
              "    <tr>\n",
              "      <th>price</th>\n",
              "      <td>-0.082391</td>\n",
              "      <td>0.133999</td>\n",
              "      <td>0.584642</td>\n",
              "      <td>0.690628</td>\n",
              "      <td>0.751265</td>\n",
              "      <td>0.135486</td>\n",
              "      <td>0.834415</td>\n",
              "      <td>0.872335</td>\n",
              "      <td>0.543155</td>\n",
              "      <td>0.082310</td>\n",
              "      <td>0.071107</td>\n",
              "      <td>0.809575</td>\n",
              "      <td>-0.101616</td>\n",
              "      <td>-0.686571</td>\n",
              "      <td>-0.704692</td>\n",
              "      <td>1.000000</td>\n",
              "      <td>0.789898</td>\n",
              "      <td>0.110326</td>\n",
              "      <td>-0.110326</td>\n",
              "    </tr>\n",
              "    <tr>\n",
              "      <th>city-L/100km</th>\n",
              "      <td>0.066171</td>\n",
              "      <td>0.238567</td>\n",
              "      <td>0.476153</td>\n",
              "      <td>0.657373</td>\n",
              "      <td>0.673363</td>\n",
              "      <td>0.003811</td>\n",
              "      <td>0.785353</td>\n",
              "      <td>0.745059</td>\n",
              "      <td>0.554610</td>\n",
              "      <td>0.037300</td>\n",
              "      <td>-0.299372</td>\n",
              "      <td>0.889488</td>\n",
              "      <td>0.115830</td>\n",
              "      <td>-0.949713</td>\n",
              "      <td>-0.930028</td>\n",
              "      <td>0.789898</td>\n",
              "      <td>1.000000</td>\n",
              "      <td>-0.241282</td>\n",
              "      <td>0.241282</td>\n",
              "    </tr>\n",
              "    <tr>\n",
              "      <th>diesel</th>\n",
              "      <td>-0.196735</td>\n",
              "      <td>-0.101546</td>\n",
              "      <td>0.307237</td>\n",
              "      <td>0.211187</td>\n",
              "      <td>0.244356</td>\n",
              "      <td>0.281578</td>\n",
              "      <td>0.221046</td>\n",
              "      <td>0.070779</td>\n",
              "      <td>0.054458</td>\n",
              "      <td>0.241303</td>\n",
              "      <td>0.985231</td>\n",
              "      <td>-0.169053</td>\n",
              "      <td>-0.475812</td>\n",
              "      <td>0.265676</td>\n",
              "      <td>0.198690</td>\n",
              "      <td>0.110326</td>\n",
              "      <td>-0.241282</td>\n",
              "      <td>1.000000</td>\n",
              "      <td>-1.000000</td>\n",
              "    </tr>\n",
              "    <tr>\n",
              "      <th>gas</th>\n",
              "      <td>0.196735</td>\n",
              "      <td>0.101546</td>\n",
              "      <td>-0.307237</td>\n",
              "      <td>-0.211187</td>\n",
              "      <td>-0.244356</td>\n",
              "      <td>-0.281578</td>\n",
              "      <td>-0.221046</td>\n",
              "      <td>-0.070779</td>\n",
              "      <td>-0.054458</td>\n",
              "      <td>-0.241303</td>\n",
              "      <td>-0.985231</td>\n",
              "      <td>0.169053</td>\n",
              "      <td>0.475812</td>\n",
              "      <td>-0.265676</td>\n",
              "      <td>-0.198690</td>\n",
              "      <td>-0.110326</td>\n",
              "      <td>0.241282</td>\n",
              "      <td>-1.000000</td>\n",
              "      <td>1.000000</td>\n",
              "    </tr>\n",
              "  </tbody>\n",
              "</table>\n",
              "</div>"
            ],
            "text/plain": [
              "                   symboling  normalized-losses  ...    diesel       gas\n",
              "symboling           1.000000           0.466264  ... -0.196735  0.196735\n",
              "normalized-losses   0.466264           1.000000  ... -0.101546  0.101546\n",
              "wheel-base         -0.535987          -0.056661  ...  0.307237 -0.307237\n",
              "length             -0.365404           0.019424  ...  0.211187 -0.211187\n",
              "width              -0.242423           0.086802  ...  0.244356 -0.244356\n",
              "height             -0.550160          -0.373737  ...  0.281578 -0.281578\n",
              "curb-weight        -0.233118           0.099404  ...  0.221046 -0.221046\n",
              "engine-size        -0.110581           0.112360  ...  0.070779 -0.070779\n",
              "bore               -0.140019          -0.029862  ...  0.054458 -0.054458\n",
              "stroke             -0.008245           0.055563  ...  0.241303 -0.241303\n",
              "compression-ratio  -0.182196          -0.114713  ...  0.985231 -0.985231\n",
              "horsepower          0.075819           0.217299  ... -0.169053  0.169053\n",
              "peak-rpm            0.279740           0.239543  ... -0.475812  0.475812\n",
              "city-mpg           -0.035527          -0.225016  ...  0.265676 -0.265676\n",
              "highway-mpg         0.036233          -0.181877  ...  0.198690 -0.198690\n",
              "price              -0.082391           0.133999  ...  0.110326 -0.110326\n",
              "city-L/100km        0.066171           0.238567  ... -0.241282  0.241282\n",
              "diesel             -0.196735          -0.101546  ...  1.000000 -1.000000\n",
              "gas                 0.196735           0.101546  ... -1.000000  1.000000\n",
              "\n",
              "[19 rows x 19 columns]"
            ]
          },
          "metadata": {
            "tags": []
          },
          "execution_count": 35
        }
      ]
    },
    {
      "cell_type": "code",
      "metadata": {
        "id": "-sIqDo--8sBM",
        "colab_type": "code",
        "colab": {}
      },
      "source": [
        "from scipy import stats"
      ],
      "execution_count": 0,
      "outputs": []
    },
    {
      "cell_type": "code",
      "metadata": {
        "id": "IKiBUx9l8uPL",
        "colab_type": "code",
        "colab": {
          "base_uri": "https://localhost:8080/",
          "height": 34
        },
        "outputId": "08161f81-d501-43c9-e240-123c807db5af"
      },
      "source": [
        "pearson_coef, p_value = stats.pearsonr(df['wheel-base'], df['price'])\n",
        "print(\"The Pearson Correlation Coefficient is\", pearson_coef, \" with a P-value of P =\", p_value)"
      ],
      "execution_count": 37,
      "outputs": [
        {
          "output_type": "stream",
          "text": [
            "The Pearson Correlation Coefficient is 0.584641822265508  with a P-value of P = 8.076488270733218e-20\n"
          ],
          "name": "stdout"
        }
      ]
    },
    {
      "cell_type": "code",
      "metadata": {
        "id": "gnrLD6Id8wFr",
        "colab_type": "code",
        "colab": {
          "base_uri": "https://localhost:8080/",
          "height": 34
        },
        "outputId": "abfa835e-fca0-469a-b8ec-9048ac5db387"
      },
      "source": [
        "pearson_coef, p_value = stats.pearsonr(df['horsepower'], df['price'])\n",
        "print(\"The Pearson Correlation Coefficient is\", pearson_coef, \" with a P-value of P = \", p_value) "
      ],
      "execution_count": 38,
      "outputs": [
        {
          "output_type": "stream",
          "text": [
            "The Pearson Correlation Coefficient is 0.8095745670036559  with a P-value of P =  6.369057428260101e-48\n"
          ],
          "name": "stdout"
        }
      ]
    },
    {
      "cell_type": "code",
      "metadata": {
        "id": "-hFm58_A8y1r",
        "colab_type": "code",
        "colab": {
          "base_uri": "https://localhost:8080/",
          "height": 34
        },
        "outputId": "9c33c313-5cb7-4208-a0ad-2cb2937c0b7e"
      },
      "source": [
        "pearson_coef, p_value = stats.pearsonr(df['length'], df['price'])\n",
        "print(\"The Pearson Correlation Coefficient is\", pearson_coef, \" with a P-value of P = \", p_value)  "
      ],
      "execution_count": 39,
      "outputs": [
        {
          "output_type": "stream",
          "text": [
            "The Pearson Correlation Coefficient is 0.6906283804483638  with a P-value of P =  8.016477466159556e-30\n"
          ],
          "name": "stdout"
        }
      ]
    },
    {
      "cell_type": "code",
      "metadata": {
        "id": "vRS_hqtl80sK",
        "colab_type": "code",
        "colab": {
          "base_uri": "https://localhost:8080/",
          "height": 34
        },
        "outputId": "65f7ba30-7adc-4c0a-cdc1-5bbf8a0a2b3a"
      },
      "source": [
        "pearson_coef, p_value = stats.pearsonr(df['width'], df['price'])\n",
        "print(\"The Pearson Correlation Coefficient is\", pearson_coef, \" with a P-value of P =\", p_value ) "
      ],
      "execution_count": 40,
      "outputs": [
        {
          "output_type": "stream",
          "text": [
            "The Pearson Correlation Coefficient is 0.7512653440522673  with a P-value of P = 9.200335510481646e-38\n"
          ],
          "name": "stdout"
        }
      ]
    },
    {
      "cell_type": "code",
      "metadata": {
        "id": "_jr1nrcH84EL",
        "colab_type": "code",
        "colab": {
          "base_uri": "https://localhost:8080/",
          "height": 34
        },
        "outputId": "55b96712-5ebd-48f5-a608-13614aefacde"
      },
      "source": [
        "pearson_coef, p_value = stats.pearsonr(df['curb-weight'], df['price'])\n",
        "print( \"The Pearson Correlation Coefficient is\", pearson_coef, \" with a P-value of P = \", p_value)  "
      ],
      "execution_count": 41,
      "outputs": [
        {
          "output_type": "stream",
          "text": [
            "The Pearson Correlation Coefficient is 0.8344145257702843  with a P-value of P =  2.189577238894065e-53\n"
          ],
          "name": "stdout"
        }
      ]
    },
    {
      "cell_type": "code",
      "metadata": {
        "id": "9ckxYfS688Hr",
        "colab_type": "code",
        "colab": {
          "base_uri": "https://localhost:8080/",
          "height": 34
        },
        "outputId": "6c09b06d-ae5e-4f64-d656-06fbd1a8cde3"
      },
      "source": [
        "pearson_coef, p_value = stats.pearsonr(df['engine-size'], df['price'])\n",
        "print(\"The Pearson Correlation Coefficient is\", pearson_coef, \" with a P-value of P =\", p_value) "
      ],
      "execution_count": 42,
      "outputs": [
        {
          "output_type": "stream",
          "text": [
            "The Pearson Correlation Coefficient is 0.8723351674455185  with a P-value of P = 9.265491622198389e-64\n"
          ],
          "name": "stdout"
        }
      ]
    },
    {
      "cell_type": "code",
      "metadata": {
        "id": "M_4ZUK4i89sU",
        "colab_type": "code",
        "colab": {
          "base_uri": "https://localhost:8080/",
          "height": 34
        },
        "outputId": "c400ea59-1d1f-42ae-d258-45fdb272772b"
      },
      "source": [
        "pearson_coef, p_value = stats.pearsonr(df['bore'], df['price'])\n",
        "print(\"The Pearson Correlation Coefficient is\", pearson_coef, \" with a P-value of P =  \", p_value ) "
      ],
      "execution_count": 43,
      "outputs": [
        {
          "output_type": "stream",
          "text": [
            "The Pearson Correlation Coefficient is 0.5431553832626602  with a P-value of P =   8.049189483935489e-17\n"
          ],
          "name": "stdout"
        }
      ]
    },
    {
      "cell_type": "code",
      "metadata": {
        "id": "lS4Z25TC8_mr",
        "colab_type": "code",
        "colab": {
          "base_uri": "https://localhost:8080/",
          "height": 34
        },
        "outputId": "e44099df-24aa-40c9-c8b4-fda2c3dae494"
      },
      "source": [
        "pearson_coef, p_value = stats.pearsonr(df['city-mpg'], df['price'])\n",
        "print(\"The Pearson Correlation Coefficient is\", pearson_coef, \" with a P-value of P = \", p_value)  "
      ],
      "execution_count": 44,
      "outputs": [
        {
          "output_type": "stream",
          "text": [
            "The Pearson Correlation Coefficient is -0.6865710067844678  with a P-value of P =  2.321132065567641e-29\n"
          ],
          "name": "stdout"
        }
      ]
    },
    {
      "cell_type": "code",
      "metadata": {
        "id": "cly_7LUU9BO7",
        "colab_type": "code",
        "colab": {
          "base_uri": "https://localhost:8080/",
          "height": 34
        },
        "outputId": "7584f0ac-6a20-48d9-9d67-f838cb5bacdd"
      },
      "source": [
        "pearson_coef, p_value = stats.pearsonr(df['highway-mpg'], df['price'])\n",
        "print( \"The Pearson Correlation Coefficient is\", pearson_coef, \" with a P-value of P = \", p_value )"
      ],
      "execution_count": 46,
      "outputs": [
        {
          "output_type": "stream",
          "text": [
            "The Pearson Correlation Coefficient is -0.704692265058953  with a P-value of P =  1.7495471144476358e-31\n"
          ],
          "name": "stdout"
        }
      ]
    },
    {
      "cell_type": "markdown",
      "metadata": {
        "id": "nfk-VPNa9ciw",
        "colab_type": "text"
      },
      "source": [
        "**ANOVA**"
      ]
    },
    {
      "cell_type": "code",
      "metadata": {
        "id": "BU7ks3XL9DeM",
        "colab_type": "code",
        "colab": {
          "base_uri": "https://localhost:8080/",
          "height": 235
        },
        "outputId": "6d042835-3893-4557-d837-a4e5ae56e866"
      },
      "source": [
        "grouped_test2=df_gptest[['drive-wheels', 'price']].groupby(['drive-wheels'])\n",
        "grouped_test2.head(2)"
      ],
      "execution_count": 56,
      "outputs": [
        {
          "output_type": "execute_result",
          "data": {
            "text/html": [
              "<div>\n",
              "<style scoped>\n",
              "    .dataframe tbody tr th:only-of-type {\n",
              "        vertical-align: middle;\n",
              "    }\n",
              "\n",
              "    .dataframe tbody tr th {\n",
              "        vertical-align: top;\n",
              "    }\n",
              "\n",
              "    .dataframe thead th {\n",
              "        text-align: right;\n",
              "    }\n",
              "</style>\n",
              "<table border=\"1\" class=\"dataframe\">\n",
              "  <thead>\n",
              "    <tr style=\"text-align: right;\">\n",
              "      <th></th>\n",
              "      <th>drive-wheels</th>\n",
              "      <th>price</th>\n",
              "    </tr>\n",
              "  </thead>\n",
              "  <tbody>\n",
              "    <tr>\n",
              "      <th>0</th>\n",
              "      <td>rwd</td>\n",
              "      <td>13495.0</td>\n",
              "    </tr>\n",
              "    <tr>\n",
              "      <th>1</th>\n",
              "      <td>rwd</td>\n",
              "      <td>16500.0</td>\n",
              "    </tr>\n",
              "    <tr>\n",
              "      <th>3</th>\n",
              "      <td>fwd</td>\n",
              "      <td>13950.0</td>\n",
              "    </tr>\n",
              "    <tr>\n",
              "      <th>4</th>\n",
              "      <td>4wd</td>\n",
              "      <td>17450.0</td>\n",
              "    </tr>\n",
              "    <tr>\n",
              "      <th>5</th>\n",
              "      <td>fwd</td>\n",
              "      <td>15250.0</td>\n",
              "    </tr>\n",
              "    <tr>\n",
              "      <th>136</th>\n",
              "      <td>4wd</td>\n",
              "      <td>7603.0</td>\n",
              "    </tr>\n",
              "  </tbody>\n",
              "</table>\n",
              "</div>"
            ],
            "text/plain": [
              "    drive-wheels    price\n",
              "0            rwd  13495.0\n",
              "1            rwd  16500.0\n",
              "3            fwd  13950.0\n",
              "4            4wd  17450.0\n",
              "5            fwd  15250.0\n",
              "136          4wd   7603.0"
            ]
          },
          "metadata": {
            "tags": []
          },
          "execution_count": 56
        }
      ]
    },
    {
      "cell_type": "code",
      "metadata": {
        "id": "x6JrFo7H9HMe",
        "colab_type": "code",
        "colab": {
          "base_uri": "https://localhost:8080/",
          "height": 419
        },
        "outputId": "7b2e2a39-ffa3-4f70-9fd7-76e85e3bc812"
      },
      "source": [
        "df_gptest"
      ],
      "execution_count": 48,
      "outputs": [
        {
          "output_type": "execute_result",
          "data": {
            "text/html": [
              "<div>\n",
              "<style scoped>\n",
              "    .dataframe tbody tr th:only-of-type {\n",
              "        vertical-align: middle;\n",
              "    }\n",
              "\n",
              "    .dataframe tbody tr th {\n",
              "        vertical-align: top;\n",
              "    }\n",
              "\n",
              "    .dataframe thead th {\n",
              "        text-align: right;\n",
              "    }\n",
              "</style>\n",
              "<table border=\"1\" class=\"dataframe\">\n",
              "  <thead>\n",
              "    <tr style=\"text-align: right;\">\n",
              "      <th></th>\n",
              "      <th>drive-wheels</th>\n",
              "      <th>body-style</th>\n",
              "      <th>price</th>\n",
              "    </tr>\n",
              "  </thead>\n",
              "  <tbody>\n",
              "    <tr>\n",
              "      <th>0</th>\n",
              "      <td>rwd</td>\n",
              "      <td>convertible</td>\n",
              "      <td>13495.0</td>\n",
              "    </tr>\n",
              "    <tr>\n",
              "      <th>1</th>\n",
              "      <td>rwd</td>\n",
              "      <td>convertible</td>\n",
              "      <td>16500.0</td>\n",
              "    </tr>\n",
              "    <tr>\n",
              "      <th>2</th>\n",
              "      <td>rwd</td>\n",
              "      <td>hatchback</td>\n",
              "      <td>16500.0</td>\n",
              "    </tr>\n",
              "    <tr>\n",
              "      <th>3</th>\n",
              "      <td>fwd</td>\n",
              "      <td>sedan</td>\n",
              "      <td>13950.0</td>\n",
              "    </tr>\n",
              "    <tr>\n",
              "      <th>4</th>\n",
              "      <td>4wd</td>\n",
              "      <td>sedan</td>\n",
              "      <td>17450.0</td>\n",
              "    </tr>\n",
              "    <tr>\n",
              "      <th>...</th>\n",
              "      <td>...</td>\n",
              "      <td>...</td>\n",
              "      <td>...</td>\n",
              "    </tr>\n",
              "    <tr>\n",
              "      <th>196</th>\n",
              "      <td>rwd</td>\n",
              "      <td>sedan</td>\n",
              "      <td>16845.0</td>\n",
              "    </tr>\n",
              "    <tr>\n",
              "      <th>197</th>\n",
              "      <td>rwd</td>\n",
              "      <td>sedan</td>\n",
              "      <td>19045.0</td>\n",
              "    </tr>\n",
              "    <tr>\n",
              "      <th>198</th>\n",
              "      <td>rwd</td>\n",
              "      <td>sedan</td>\n",
              "      <td>21485.0</td>\n",
              "    </tr>\n",
              "    <tr>\n",
              "      <th>199</th>\n",
              "      <td>rwd</td>\n",
              "      <td>sedan</td>\n",
              "      <td>22470.0</td>\n",
              "    </tr>\n",
              "    <tr>\n",
              "      <th>200</th>\n",
              "      <td>rwd</td>\n",
              "      <td>sedan</td>\n",
              "      <td>22625.0</td>\n",
              "    </tr>\n",
              "  </tbody>\n",
              "</table>\n",
              "<p>201 rows × 3 columns</p>\n",
              "</div>"
            ],
            "text/plain": [
              "    drive-wheels   body-style    price\n",
              "0            rwd  convertible  13495.0\n",
              "1            rwd  convertible  16500.0\n",
              "2            rwd    hatchback  16500.0\n",
              "3            fwd        sedan  13950.0\n",
              "4            4wd        sedan  17450.0\n",
              "..           ...          ...      ...\n",
              "196          rwd        sedan  16845.0\n",
              "197          rwd        sedan  19045.0\n",
              "198          rwd        sedan  21485.0\n",
              "199          rwd        sedan  22470.0\n",
              "200          rwd        sedan  22625.0\n",
              "\n",
              "[201 rows x 3 columns]"
            ]
          },
          "metadata": {
            "tags": []
          },
          "execution_count": 48
        }
      ]
    },
    {
      "cell_type": "code",
      "metadata": {
        "id": "VIR9RCB09I-L",
        "colab_type": "code",
        "colab": {
          "base_uri": "https://localhost:8080/",
          "height": 170
        },
        "outputId": "5b4d6a1e-1229-4d01-a9dc-4ea8ee1a4129"
      },
      "source": [
        "grouped_test2.get_group('4wd')['price']"
      ],
      "execution_count": 49,
      "outputs": [
        {
          "output_type": "execute_result",
          "data": {
            "text/plain": [
              "4      17450.0\n",
              "136     7603.0\n",
              "140     9233.0\n",
              "141    11259.0\n",
              "144     8013.0\n",
              "145    11694.0\n",
              "150     7898.0\n",
              "151     8778.0\n",
              "Name: price, dtype: float64"
            ]
          },
          "metadata": {
            "tags": []
          },
          "execution_count": 49
        }
      ]
    },
    {
      "cell_type": "code",
      "metadata": {
        "id": "pVnvTzFy9Mdc",
        "colab_type": "code",
        "colab": {
          "base_uri": "https://localhost:8080/",
          "height": 34
        },
        "outputId": "d6e6260f-499c-45f9-a7e8-d5b4b234a840"
      },
      "source": [
        "# ANOVA\n",
        "f_val, p_val = stats.f_oneway(grouped_test2.get_group('fwd')['price'], grouped_test2.get_group('rwd')['price'], grouped_test2.get_group('4wd')['price'])  \n",
        " \n",
        "print( \"ANOVA results: F=\", f_val, \", P =\", p_val)  "
      ],
      "execution_count": 50,
      "outputs": [
        {
          "output_type": "stream",
          "text": [
            "ANOVA results: F= 67.95406500780399 , P = 3.3945443577151245e-23\n"
          ],
          "name": "stdout"
        }
      ]
    },
    {
      "cell_type": "code",
      "metadata": {
        "id": "7sbreg5Z9O7L",
        "colab_type": "code",
        "colab": {
          "base_uri": "https://localhost:8080/",
          "height": 34
        },
        "outputId": "28093b80-8944-4255-94a7-06f7cf1099aa"
      },
      "source": [
        "f_val, p_val = stats.f_oneway(grouped_test2.get_group('fwd')['price'], grouped_test2.get_group('rwd')['price'])  \n",
        " \n",
        "print( \"ANOVA results: F=\", f_val, \", P =\", p_val )"
      ],
      "execution_count": 51,
      "outputs": [
        {
          "output_type": "stream",
          "text": [
            "ANOVA results: F= 130.5533160959111 , P = 2.2355306355677845e-23\n"
          ],
          "name": "stdout"
        }
      ]
    },
    {
      "cell_type": "code",
      "metadata": {
        "id": "Oyy3KARb9Rfs",
        "colab_type": "code",
        "colab": {
          "base_uri": "https://localhost:8080/",
          "height": 34
        },
        "outputId": "93c92ed5-42cf-4be1-f1d4-5e9ba0f2f00d"
      },
      "source": [
        "f_val, p_val = stats.f_oneway(grouped_test2.get_group('4wd')['price'], grouped_test2.get_group('rwd')['price'])  \n",
        "   \n",
        "print( \"ANOVA results: F=\", f_val, \", P =\", p_val)  "
      ],
      "execution_count": 52,
      "outputs": [
        {
          "output_type": "stream",
          "text": [
            "ANOVA results: F= 8.580681368924756 , P = 0.004411492211225333\n"
          ],
          "name": "stdout"
        }
      ]
    },
    {
      "cell_type": "code",
      "metadata": {
        "id": "4i0F2Ofs9TFL",
        "colab_type": "code",
        "colab": {
          "base_uri": "https://localhost:8080/",
          "height": 34
        },
        "outputId": "f054f705-3d7d-4879-ff8a-d0fac32b96e2"
      },
      "source": [
        "f_val, p_val = stats.f_oneway(grouped_test2.get_group('4wd')['price'], grouped_test2.get_group('fwd')['price'])  \n",
        " \n",
        "print(\"ANOVA results: F=\", f_val, \", P =\", p_val)  "
      ],
      "execution_count": 53,
      "outputs": [
        {
          "output_type": "stream",
          "text": [
            "ANOVA results: F= 0.665465750252303 , P = 0.41620116697845666\n"
          ],
          "name": "stdout"
        }
      ]
    },
    {
      "cell_type": "code",
      "metadata": {
        "id": "Bv1pb1DM9U07",
        "colab_type": "code",
        "colab": {}
      },
      "source": [
        ""
      ],
      "execution_count": 0,
      "outputs": []
    }
  ]
}
