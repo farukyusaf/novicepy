{
  "nbformat": 4,
  "nbformat_minor": 0,
  "metadata": {
    "colab": {
      "name": "Untitled33.ipynb",
      "provenance": [],
      "authorship_tag": "ABX9TyOwbNZNmyB4XPibeQPY2LEf"
    },
    "kernelspec": {
      "name": "python3",
      "display_name": "Python 3"
    }
  },
  "cells": [
    {
      "cell_type": "markdown",
      "metadata": {
        "id": "P6u4MgfodHoY",
        "colab_type": "text"
      },
      "source": [
        "Quantitative Economics with Python\n",
        "\n",
        "Thomas J. Sargent John Stachurski\n"
      ]
    },
    {
      "cell_type": "markdown",
      "metadata": {
        "id": "YCpYIMQrW3oA",
        "colab_type": "text"
      },
      "source": [
        "## Overview\n",
        "\n",
        "Linear regression is a standard tool for analyzing the relationship between two or more variables.\n",
        "\n",
        "In this lecture, we’ll use the Python package `statsmodels` to estimate, interpret, and visualize linear regression models.\n",
        "\n",
        "Along the way, we’ll discuss a variety of topics, including\n",
        "\n",
        "- simple and multivariate linear regression  \n",
        "- visualization  \n",
        "- endogeneity and omitted variable bias  \n",
        "- two-stage least squares  \n",
        "\n",
        "\n",
        "As an example, we will replicate results from Acemoglu, Johnson and Robinson’s seminal paper [[AJR01]](https://python-programming.quantecon.org/zreferences.html#acemoglu2001).\n",
        "\n",
        "- A copy of the paper can be downloaded [here](https://economics.mit.edu/files/4123).  \n",
        "\n",
        "\n",
        "In the paper, the authors emphasize the importance of institutions in economic development.\n",
        "\n",
        "The main contribution is the use of settler mortality rates as a source of *exogenous* variation in institutional differences.\n"
      ]
    },
    {
      "cell_type": "markdown",
      "metadata": {
        "id": "rLufYPuAW3n6",
        "colab_type": "text"
      },
      "source": [
        "# Linear Regression in Python"
      ]
    },
    {
      "cell_type": "code",
      "metadata": {
        "id": "zJJnW67GbYSR",
        "colab_type": "code",
        "colab": {
          "base_uri": "https://localhost:8080/",
          "height": 365
        },
        "outputId": "056385ee-9683-4c4b-dfe4-6d2fa28247d7"
      },
      "source": [
        "!pip install linearmodels"
      ],
      "execution_count": 1,
      "outputs": [
        {
          "output_type": "stream",
          "text": [
            "Collecting linearmodels\n",
            "\u001b[?25l  Downloading https://files.pythonhosted.org/packages/33/98/9606898621df26cad70021f928ab977926a7ed6ad30a10572cc93f67a970/linearmodels-4.17-cp36-cp36m-manylinux1_x86_64.whl (1.5MB)\n",
            "\u001b[K     |████████████████████████████████| 1.5MB 2.8MB/s \n",
            "\u001b[?25hRequirement already satisfied: Cython>=0.29.14 in /usr/local/lib/python3.6/dist-packages (from linearmodels) (0.29.20)\n",
            "Requirement already satisfied: numpy>=1.15 in /usr/local/lib/python3.6/dist-packages (from linearmodels) (1.18.5)\n",
            "Collecting mypy-extensions>=0.4\n",
            "  Downloading https://files.pythonhosted.org/packages/5c/eb/975c7c080f3223a5cdaff09612f3a5221e4ba534f7039db34c35d95fa6a5/mypy_extensions-0.4.3-py2.py3-none-any.whl\n",
            "Requirement already satisfied: pandas>=0.23 in /usr/local/lib/python3.6/dist-packages (from linearmodels) (1.0.4)\n",
            "Requirement already satisfied: scipy>=1 in /usr/local/lib/python3.6/dist-packages (from linearmodels) (1.4.1)\n",
            "Requirement already satisfied: patsy in /usr/local/lib/python3.6/dist-packages (from linearmodels) (0.5.1)\n",
            "Requirement already satisfied: statsmodels>=0.9 in /usr/local/lib/python3.6/dist-packages (from linearmodels) (0.10.2)\n",
            "Collecting property-cached>=1.6.3\n",
            "  Downloading https://files.pythonhosted.org/packages/5c/6c/94d8e520b20a2502e508e1c558f338061cf409cbee78fd6a3a5c6ae812bd/property_cached-1.6.4-py2.py3-none-any.whl\n",
            "Requirement already satisfied: python-dateutil>=2.6.1 in /usr/local/lib/python3.6/dist-packages (from pandas>=0.23->linearmodels) (2.8.1)\n",
            "Requirement already satisfied: pytz>=2017.2 in /usr/local/lib/python3.6/dist-packages (from pandas>=0.23->linearmodels) (2018.9)\n",
            "Requirement already satisfied: six in /usr/local/lib/python3.6/dist-packages (from patsy->linearmodels) (1.12.0)\n",
            "Installing collected packages: mypy-extensions, property-cached, linearmodels\n",
            "Successfully installed linearmodels-4.17 mypy-extensions-0.4.3 property-cached-1.6.4\n"
          ],
          "name": "stdout"
        }
      ]
    },
    {
      "cell_type": "code",
      "metadata": {
        "id": "Dxa5y0a9bbWi",
        "colab_type": "code",
        "colab": {
          "base_uri": "https://localhost:8080/",
          "height": 74
        },
        "outputId": "e329645d-7e07-4f0b-ff55-f37a1f76824c"
      },
      "source": [
        "import numpy as np\n",
        "import matplotlib.pyplot as plt\n",
        "%matplotlib inline\n",
        "import pandas as pd\n",
        "import statsmodels.api as sm\n",
        "from statsmodels.iolib.summary2 import summary_col\n",
        "from linearmodels.iv import IV2SLS"
      ],
      "execution_count": 2,
      "outputs": [
        {
          "output_type": "stream",
          "text": [
            "/usr/local/lib/python3.6/dist-packages/statsmodels/tools/_testing.py:19: FutureWarning: pandas.util.testing is deprecated. Use the functions in the public API at pandas.testing instead.\n",
            "  import pandas.util.testing as tm\n"
          ],
          "name": "stderr"
        }
      ]
    },
    {
      "cell_type": "code",
      "metadata": {
        "id": "SZ354qrJbgra",
        "colab_type": "code",
        "colab": {
          "base_uri": "https://localhost:8080/",
          "height": 198
        },
        "outputId": "6cfd2442-cb31-4ce6-f4d8-9b1fb1bc1f2a"
      },
      "source": [
        "df1 = pd.read_stata('https://github.com/QuantEcon/lecture-python/blob/master/source/_static/lecture_specific/ols/maketable1.dta?raw=true')\n",
        "df1.head()"
      ],
      "execution_count": 3,
      "outputs": [
        {
          "output_type": "execute_result",
          "data": {
            "text/html": [
              "<div>\n",
              "<style scoped>\n",
              "    .dataframe tbody tr th:only-of-type {\n",
              "        vertical-align: middle;\n",
              "    }\n",
              "\n",
              "    .dataframe tbody tr th {\n",
              "        vertical-align: top;\n",
              "    }\n",
              "\n",
              "    .dataframe thead th {\n",
              "        text-align: right;\n",
              "    }\n",
              "</style>\n",
              "<table border=\"1\" class=\"dataframe\">\n",
              "  <thead>\n",
              "    <tr style=\"text-align: right;\">\n",
              "      <th></th>\n",
              "      <th>shortnam</th>\n",
              "      <th>euro1900</th>\n",
              "      <th>excolony</th>\n",
              "      <th>avexpr</th>\n",
              "      <th>logpgp95</th>\n",
              "      <th>cons1</th>\n",
              "      <th>cons90</th>\n",
              "      <th>democ00a</th>\n",
              "      <th>cons00a</th>\n",
              "      <th>extmort4</th>\n",
              "      <th>logem4</th>\n",
              "      <th>loghjypl</th>\n",
              "      <th>baseco</th>\n",
              "    </tr>\n",
              "  </thead>\n",
              "  <tbody>\n",
              "    <tr>\n",
              "      <th>0</th>\n",
              "      <td>AFG</td>\n",
              "      <td>0.000000</td>\n",
              "      <td>1.0</td>\n",
              "      <td>NaN</td>\n",
              "      <td>NaN</td>\n",
              "      <td>1.0</td>\n",
              "      <td>2.0</td>\n",
              "      <td>1.0</td>\n",
              "      <td>1.0</td>\n",
              "      <td>93.699997</td>\n",
              "      <td>4.540098</td>\n",
              "      <td>NaN</td>\n",
              "      <td>NaN</td>\n",
              "    </tr>\n",
              "    <tr>\n",
              "      <th>1</th>\n",
              "      <td>AGO</td>\n",
              "      <td>8.000000</td>\n",
              "      <td>1.0</td>\n",
              "      <td>5.363636</td>\n",
              "      <td>7.770645</td>\n",
              "      <td>3.0</td>\n",
              "      <td>3.0</td>\n",
              "      <td>0.0</td>\n",
              "      <td>1.0</td>\n",
              "      <td>280.000000</td>\n",
              "      <td>5.634789</td>\n",
              "      <td>-3.411248</td>\n",
              "      <td>1.0</td>\n",
              "    </tr>\n",
              "    <tr>\n",
              "      <th>2</th>\n",
              "      <td>ARE</td>\n",
              "      <td>0.000000</td>\n",
              "      <td>1.0</td>\n",
              "      <td>7.181818</td>\n",
              "      <td>9.804219</td>\n",
              "      <td>NaN</td>\n",
              "      <td>NaN</td>\n",
              "      <td>NaN</td>\n",
              "      <td>NaN</td>\n",
              "      <td>NaN</td>\n",
              "      <td>NaN</td>\n",
              "      <td>NaN</td>\n",
              "      <td>NaN</td>\n",
              "    </tr>\n",
              "    <tr>\n",
              "      <th>3</th>\n",
              "      <td>ARG</td>\n",
              "      <td>60.000004</td>\n",
              "      <td>1.0</td>\n",
              "      <td>6.386364</td>\n",
              "      <td>9.133459</td>\n",
              "      <td>1.0</td>\n",
              "      <td>6.0</td>\n",
              "      <td>3.0</td>\n",
              "      <td>3.0</td>\n",
              "      <td>68.900002</td>\n",
              "      <td>4.232656</td>\n",
              "      <td>-0.872274</td>\n",
              "      <td>1.0</td>\n",
              "    </tr>\n",
              "    <tr>\n",
              "      <th>4</th>\n",
              "      <td>ARM</td>\n",
              "      <td>0.000000</td>\n",
              "      <td>0.0</td>\n",
              "      <td>NaN</td>\n",
              "      <td>7.682482</td>\n",
              "      <td>NaN</td>\n",
              "      <td>NaN</td>\n",
              "      <td>NaN</td>\n",
              "      <td>NaN</td>\n",
              "      <td>NaN</td>\n",
              "      <td>NaN</td>\n",
              "      <td>NaN</td>\n",
              "      <td>NaN</td>\n",
              "    </tr>\n",
              "  </tbody>\n",
              "</table>\n",
              "</div>"
            ],
            "text/plain": [
              "  shortnam   euro1900  excolony  ...    logem4  loghjypl  baseco\n",
              "0      AFG   0.000000       1.0  ...  4.540098       NaN     NaN\n",
              "1      AGO   8.000000       1.0  ...  5.634789 -3.411248     1.0\n",
              "2      ARE   0.000000       1.0  ...       NaN       NaN     NaN\n",
              "3      ARG  60.000004       1.0  ...  4.232656 -0.872274     1.0\n",
              "4      ARM   0.000000       0.0  ...       NaN       NaN     NaN\n",
              "\n",
              "[5 rows x 13 columns]"
            ]
          },
          "metadata": {
            "tags": []
          },
          "execution_count": 3
        }
      ]
    },
    {
      "cell_type": "code",
      "metadata": {
        "id": "ePKIoGszbkNe",
        "colab_type": "code",
        "colab": {
          "base_uri": "https://localhost:8080/",
          "height": 361
        },
        "outputId": "e579f4ab-0afd-4921-d96f-37fb2c1f5ef5"
      },
      "source": [
        "plt.style.use('seaborn')\n",
        "\n",
        "df1.plot(x='avexpr', y='logpgp95', kind='scatter')\n",
        "plt.show()"
      ],
      "execution_count": 4,
      "outputs": [
        {
          "output_type": "display_data",
          "data": {
            "image/png": "[encoded data removed]",
            "text/plain": [
              "<Figure size 576x396 with 1 Axes>"
            ]
          },
          "metadata": {
            "tags": []
          }
        }
      ]
    },
    {
      "cell_type": "code",
      "metadata": {
        "id": "W2-VRJ9Ubmlp",
        "colab_type": "code",
        "colab": {
          "base_uri": "https://localhost:8080/",
          "height": 376
        },
        "outputId": "b3eb845d-e0c7-4feb-ef43-ca5b32c0c5f3"
      },
      "source": [
        "# Dropping NA's is required to use numpy's polyfit\n",
        "df1_subset = df1.dropna(subset=['logpgp95', 'avexpr'])\n",
        "\n",
        "# Use only 'base sample' for plotting purposes\n",
        "df1_subset = df1_subset[df1_subset['baseco'] == 1]\n",
        "\n",
        "X = df1_subset['avexpr']\n",
        "y = df1_subset['logpgp95']\n",
        "labels = df1_subset['shortnam']\n",
        "\n",
        "# Replace markers with country labels\n",
        "fig, ax = plt.subplots()\n",
        "ax.scatter(X, y, marker='')\n",
        "\n",
        "for i, label in enumerate(labels):\n",
        "    ax.annotate(label, (X.iloc[i], y.iloc[i]))\n",
        "\n",
        "# Fit a linear trend line\n",
        "ax.plot(np.unique(X),\n",
        "         np.poly1d(np.polyfit(X, y, 1))(np.unique(X)),\n",
        "         color='black')\n",
        "\n",
        "ax.set_xlim([3.3,10.5])\n",
        "ax.set_ylim([4,10.5])\n",
        "ax.set_xlabel('Average Expropriation Risk 1985-95')\n",
        "ax.set_ylabel('Log GDP per capita, PPP, 1995')\n",
        "ax.set_title('Figure 2: OLS relationship between expropriation \\\n",
        "    risk and income')\n",
        "plt.show()"
      ],
      "execution_count": 5,
      "outputs": [
        {
          "output_type": "display_data",
          "data": {
            "image/png": "[encoded data removed]",
            "text/plain": [
              "<Figure size 576x396 with 1 Axes>"
            ]
          },
          "metadata": {
            "tags": []
          }
        }
      ]
    },
    {
      "cell_type": "code",
      "metadata": {
        "id": "OQtlH3RNbwHG",
        "colab_type": "code",
        "colab": {}
      },
      "source": [
        "df1['const'] = 1"
      ],
      "execution_count": 6,
      "outputs": []
    },
    {
      "cell_type": "code",
      "metadata": {
        "id": "rn9WbArIb0Mm",
        "colab_type": "code",
        "colab": {
          "base_uri": "https://localhost:8080/",
          "height": 35
        },
        "outputId": "272929d3-1696-4021-e5cb-cefa5be3b839"
      },
      "source": [
        "reg1 = sm.OLS(endog=df1['logpgp95'], exog=df1[['const', 'avexpr']], \\\n",
        "    missing='drop')\n",
        "type(reg1)"
      ],
      "execution_count": 7,
      "outputs": [
        {
          "output_type": "execute_result",
          "data": {
            "text/plain": [
              "statsmodels.regression.linear_model.OLS"
            ]
          },
          "metadata": {
            "tags": []
          },
          "execution_count": 7
        }
      ]
    },
    {
      "cell_type": "code",
      "metadata": {
        "id": "0dZRLyvqb16r",
        "colab_type": "code",
        "colab": {
          "base_uri": "https://localhost:8080/",
          "height": 35
        },
        "outputId": "d5b0fae5-5c60-4550-e5e6-ad4da4e2f0cf"
      },
      "source": [
        "results = reg1.fit()\n",
        "type(results)"
      ],
      "execution_count": 8,
      "outputs": [
        {
          "output_type": "execute_result",
          "data": {
            "text/plain": [
              "statsmodels.regression.linear_model.RegressionResultsWrapper"
            ]
          },
          "metadata": {
            "tags": []
          },
          "execution_count": 8
        }
      ]
    },
    {
      "cell_type": "code",
      "metadata": {
        "id": "BcvjcXmGb6TW",
        "colab_type": "code",
        "colab": {
          "base_uri": "https://localhost:8080/",
          "height": 472
        },
        "outputId": "2e36396b-1a97-479a-abbe-ccfdc7ea671d"
      },
      "source": [
        "print(results.summary())"
      ],
      "execution_count": 9,
      "outputs": [
        {
          "output_type": "stream",
          "text": [
            "                            OLS Regression Results                            \n",
            "==============================================================================\n",
            "Dep. Variable:               logpgp95   R-squared:                       0.611\n",
            "Model:                            OLS   Adj. R-squared:                  0.608\n",
            "Method:                 Least Squares   F-statistic:                     171.4\n",
            "Date:                Sat, 20 Jun 2020   Prob (F-statistic):           4.16e-24\n",
            "Time:                        06:34:55   Log-Likelihood:                -119.71\n",
            "No. Observations:                 111   AIC:                             243.4\n",
            "Df Residuals:                     109   BIC:                             248.8\n",
            "Df Model:                           1                                         \n",
            "Covariance Type:            nonrobust                                         \n",
            "==============================================================================\n",
            "                 coef    std err          t      P>|t|      [0.025      0.975]\n",
            "------------------------------------------------------------------------------\n",
            "const          4.6261      0.301     15.391      0.000       4.030       5.222\n",
            "avexpr         0.5319      0.041     13.093      0.000       0.451       0.612\n",
            "==============================================================================\n",
            "Omnibus:                        9.251   Durbin-Watson:                   1.689\n",
            "Prob(Omnibus):                  0.010   Jarque-Bera (JB):                9.170\n",
            "Skew:                          -0.680   Prob(JB):                       0.0102\n",
            "Kurtosis:                       3.362   Cond. No.                         33.2\n",
            "==============================================================================\n",
            "\n",
            "Warnings:\n",
            "[1] Standard Errors assume that the covariance matrix of the errors is correctly specified.\n"
          ],
          "name": "stdout"
        }
      ]
    },
    {
      "cell_type": "code",
      "metadata": {
        "id": "sLmqJpAhb-wk",
        "colab_type": "code",
        "colab": {
          "base_uri": "https://localhost:8080/",
          "height": 35
        },
        "outputId": "bbc58106-f144-42c5-fbdc-e22568749437"
      },
      "source": [
        "mean_expr = np.mean(df1_subset['avexpr'])\n",
        "mean_expr"
      ],
      "execution_count": 10,
      "outputs": [
        {
          "output_type": "execute_result",
          "data": {
            "text/plain": [
              "6.515625"
            ]
          },
          "metadata": {
            "tags": []
          },
          "execution_count": 10
        }
      ]
    },
    {
      "cell_type": "code",
      "metadata": {
        "id": "dY06o04ccBEX",
        "colab_type": "code",
        "colab": {
          "base_uri": "https://localhost:8080/",
          "height": 35
        },
        "outputId": "f84c73bb-d638-4803-9099-0ef650ec0057"
      },
      "source": [
        "predicted_logpdp95 = 4.63 + 0.53 * 7.07\n",
        "predicted_logpdp95"
      ],
      "execution_count": 11,
      "outputs": [
        {
          "output_type": "execute_result",
          "data": {
            "text/plain": [
              "8.3771"
            ]
          },
          "metadata": {
            "tags": []
          },
          "execution_count": 11
        }
      ]
    },
    {
      "cell_type": "code",
      "metadata": {
        "id": "Rp5_O-pUcDE1",
        "colab_type": "code",
        "colab": {
          "base_uri": "https://localhost:8080/",
          "height": 35
        },
        "outputId": "98fe9a31-b3f6-4773-afe5-e353cd808b2e"
      },
      "source": [
        "results.predict(exog=[1, mean_expr])"
      ],
      "execution_count": 12,
      "outputs": [
        {
          "output_type": "execute_result",
          "data": {
            "text/plain": [
              "array([8.09156367])"
            ]
          },
          "metadata": {
            "tags": []
          },
          "execution_count": 12
        }
      ]
    },
    {
      "cell_type": "code",
      "metadata": {
        "id": "Y2QLGUcjcGUR",
        "colab_type": "code",
        "colab": {
          "base_uri": "https://localhost:8080/",
          "height": 376
        },
        "outputId": "f2dcb371-4fa4-4d9f-8306-18016f1262a2"
      },
      "source": [
        "# Drop missing observations from whole sample\n",
        "\n",
        "df1_plot = df1.dropna(subset=['logpgp95', 'avexpr'])\n",
        "\n",
        "# Plot predicted values\n",
        "\n",
        "fix, ax = plt.subplots()\n",
        "ax.scatter(df1_plot['avexpr'], results.predict(), alpha=0.5,\n",
        "        label='predicted')\n",
        "\n",
        "# Plot observed values\n",
        "\n",
        "ax.scatter(df1_plot['avexpr'], df1_plot['logpgp95'], alpha=0.5,\n",
        "        label='observed')\n",
        "\n",
        "ax.legend()\n",
        "ax.set_title('OLS predicted values')\n",
        "ax.set_xlabel('avexpr')\n",
        "ax.set_ylabel('logpgp95')\n",
        "plt.show()"
      ],
      "execution_count": 13,
      "outputs": [
        {
          "output_type": "display_data",
          "data": {
            "image/png": "[encoded data removed]",
            "text/plain": [
              "<Figure size 576x396 with 1 Axes>"
            ]
          },
          "metadata": {
            "tags": []
          }
        }
      ]
    },
    {
      "cell_type": "code",
      "metadata": {
        "id": "H2lSQ9QWcJSM",
        "colab_type": "code",
        "colab": {}
      },
      "source": [
        "df2 = pd.read_stata('https://github.com/QuantEcon/lecture-python/blob/master/source/_static/lecture_specific/ols/maketable2.dta?raw=true')\n",
        "\n",
        "# Add constant term to dataset\n",
        "df2['const'] = 1\n",
        "\n",
        "# Create lists of variables to be used in each regression\n",
        "X1 = ['const', 'avexpr']\n",
        "X2 = ['const', 'avexpr', 'lat_abst']\n",
        "X3 = ['const', 'avexpr', 'lat_abst', 'asia', 'africa', 'other']\n",
        "\n",
        "# Estimate an OLS regression for each set of variables\n",
        "reg1 = sm.OLS(df2['logpgp95'], df2[X1], missing='drop').fit()\n",
        "reg2 = sm.OLS(df2['logpgp95'], df2[X2], missing='drop').fit()\n",
        "reg3 = sm.OLS(df2['logpgp95'], df2[X3], missing='drop').fit()"
      ],
      "execution_count": 14,
      "outputs": []
    },
    {
      "cell_type": "code",
      "metadata": {
        "id": "gDvPTUpOcNQd",
        "colab_type": "code",
        "colab": {
          "base_uri": "https://localhost:8080/",
          "height": 399
        },
        "outputId": "25890a11-52c3-4add-f750-a20df8d90849"
      },
      "source": [
        "info_dict={'R-squared' : lambda x: f\"{x.rsquared:.2f}\",\n",
        "           'No. observations' : lambda x: f\"{int(x.nobs):d}\"}\n",
        "\n",
        "results_table = summary_col(results=[reg1,reg2,reg3],\n",
        "                            float_format='%0.2f',\n",
        "                            stars = True,\n",
        "                            model_names=['Model 1',\n",
        "                                         'Model 3',\n",
        "                                         'Model 4'],\n",
        "                            info_dict=info_dict,\n",
        "                            regressor_order=['const',\n",
        "                                             'avexpr',\n",
        "                                             'lat_abst',\n",
        "                                             'asia',\n",
        "                                             'africa'])\n",
        "\n",
        "results_table.add_title('Table 2 - OLS Regressions')\n",
        "\n",
        "print(results_table)"
      ],
      "execution_count": 15,
      "outputs": [
        {
          "output_type": "stream",
          "text": [
            "        Table 2 - OLS Regressions\n",
            "=========================================\n",
            "                 Model 1 Model 3 Model 4 \n",
            "-----------------------------------------\n",
            "const            4.63*** 4.87*** 5.85*** \n",
            "                 (0.30)  (0.33)  (0.34)  \n",
            "avexpr           0.53*** 0.46*** 0.39*** \n",
            "                 (0.04)  (0.06)  (0.05)  \n",
            "lat_abst                 0.87*   0.33    \n",
            "                         (0.49)  (0.45)  \n",
            "asia                             -0.15   \n",
            "                                 (0.15)  \n",
            "africa                           -0.92***\n",
            "                                 (0.17)  \n",
            "other                            0.30    \n",
            "                                 (0.37)  \n",
            "R-squared        0.61    0.62    0.72    \n",
            "No. observations 111     111     111     \n",
            "=========================================\n",
            "Standard errors in parentheses.\n",
            "* p<.1, ** p<.05, ***p<.01\n"
          ],
          "name": "stdout"
        }
      ]
    },
    {
      "cell_type": "code",
      "metadata": {
        "id": "OHqEFHVvcSjs",
        "colab_type": "code",
        "colab": {
          "base_uri": "https://localhost:8080/",
          "height": 376
        },
        "outputId": "8e5e8c41-f315-4626-976c-587c8fe76281"
      },
      "source": [
        "# Dropping NA's is required to use numpy's polyfit\n",
        "df1_subset2 = df1.dropna(subset=['logem4', 'avexpr'])\n",
        "\n",
        "X = df1_subset2['logem4']\n",
        "y = df1_subset2['avexpr']\n",
        "labels = df1_subset2['shortnam']\n",
        "\n",
        "# Replace markers with country labels\n",
        "fig, ax = plt.subplots()\n",
        "ax.scatter(X, y, marker='')\n",
        "\n",
        "for i, label in enumerate(labels):\n",
        "    ax.annotate(label, (X.iloc[i], y.iloc[i]))\n",
        "\n",
        "# Fit a linear trend line\n",
        "ax.plot(np.unique(X),\n",
        "         np.poly1d(np.polyfit(X, y, 1))(np.unique(X)),\n",
        "         color='black')\n",
        "\n",
        "ax.set_xlim([1.8,8.4])\n",
        "ax.set_ylim([3.3,10.4])\n",
        "ax.set_xlabel('Log of Settler Mortality')\n",
        "ax.set_ylabel('Average Expropriation Risk 1985-95')\n",
        "ax.set_title('Figure 3: First-stage relationship between settler mortality \\\n",
        "    and expropriation risk')\n",
        "plt.show()"
      ],
      "execution_count": 16,
      "outputs": [
        {
          "output_type": "display_data",
          "data": {
            "image/png": "[encoded data removed]",
            "text/plain": [
              "<Figure size 576x396 with 1 Axes>"
            ]
          },
          "metadata": {
            "tags": []
          }
        }
      ]
    },
    {
      "cell_type": "code",
      "metadata": {
        "id": "QmHEUNudcXz1",
        "colab_type": "code",
        "colab": {
          "base_uri": "https://localhost:8080/",
          "height": 472
        },
        "outputId": "b325b3ae-3366-4328-ead3-83f7b320ce8b"
      },
      "source": [
        "# Import and select the data\n",
        "df4 = pd.read_stata('https://github.com/QuantEcon/lecture-python/blob/master/source/_static/lecture_specific/ols/maketable4.dta?raw=true')\n",
        "df4 = df4[df4['baseco'] == 1]\n",
        "\n",
        "# Add a constant variable\n",
        "df4['const'] = 1\n",
        "\n",
        "# Fit the first stage regression and print summary\n",
        "results_fs = sm.OLS(df4['avexpr'],\n",
        "                    df4[['const', 'logem4']],\n",
        "                    missing='drop').fit()\n",
        "print(results_fs.summary())"
      ],
      "execution_count": 17,
      "outputs": [
        {
          "output_type": "stream",
          "text": [
            "                            OLS Regression Results                            \n",
            "==============================================================================\n",
            "Dep. Variable:                 avexpr   R-squared:                       0.270\n",
            "Model:                            OLS   Adj. R-squared:                  0.258\n",
            "Method:                 Least Squares   F-statistic:                     22.95\n",
            "Date:                Sat, 20 Jun 2020   Prob (F-statistic):           1.08e-05\n",
            "Time:                        06:36:52   Log-Likelihood:                -104.83\n",
            "No. Observations:                  64   AIC:                             213.7\n",
            "Df Residuals:                      62   BIC:                             218.0\n",
            "Df Model:                           1                                         \n",
            "Covariance Type:            nonrobust                                         \n",
            "==============================================================================\n",
            "                 coef    std err          t      P>|t|      [0.025      0.975]\n",
            "------------------------------------------------------------------------------\n",
            "const          9.3414      0.611     15.296      0.000       8.121      10.562\n",
            "logem4        -0.6068      0.127     -4.790      0.000      -0.860      -0.354\n",
            "==============================================================================\n",
            "Omnibus:                        0.035   Durbin-Watson:                   2.003\n",
            "Prob(Omnibus):                  0.983   Jarque-Bera (JB):                0.172\n",
            "Skew:                           0.045   Prob(JB):                        0.918\n",
            "Kurtosis:                       2.763   Cond. No.                         19.4\n",
            "==============================================================================\n",
            "\n",
            "Warnings:\n",
            "[1] Standard Errors assume that the covariance matrix of the errors is correctly specified.\n"
          ],
          "name": "stdout"
        }
      ]
    },
    {
      "cell_type": "code",
      "metadata": {
        "id": "7sKg2JC8cbN5",
        "colab_type": "code",
        "colab": {
          "base_uri": "https://localhost:8080/",
          "height": 472
        },
        "outputId": "ecb2fd65-ae8d-4435-d9e6-79e5ed8f2c28"
      },
      "source": [
        "df4['predicted_avexpr'] = results_fs.predict()\n",
        "\n",
        "results_ss = sm.OLS(df4['logpgp95'],\n",
        "                    df4[['const', 'predicted_avexpr']]).fit()\n",
        "print(results_ss.summary())"
      ],
      "execution_count": 18,
      "outputs": [
        {
          "output_type": "stream",
          "text": [
            "                            OLS Regression Results                            \n",
            "==============================================================================\n",
            "Dep. Variable:               logpgp95   R-squared:                       0.477\n",
            "Model:                            OLS   Adj. R-squared:                  0.469\n",
            "Method:                 Least Squares   F-statistic:                     56.60\n",
            "Date:                Sat, 20 Jun 2020   Prob (F-statistic):           2.66e-10\n",
            "Time:                        06:37:05   Log-Likelihood:                -72.268\n",
            "No. Observations:                  64   AIC:                             148.5\n",
            "Df Residuals:                      62   BIC:                             152.9\n",
            "Df Model:                           1                                         \n",
            "Covariance Type:            nonrobust                                         \n",
            "====================================================================================\n",
            "                       coef    std err          t      P>|t|      [0.025      0.975]\n",
            "------------------------------------------------------------------------------------\n",
            "const                1.9097      0.823      2.320      0.024       0.264       3.555\n",
            "predicted_avexpr     0.9443      0.126      7.523      0.000       0.693       1.195\n",
            "==============================================================================\n",
            "Omnibus:                       10.547   Durbin-Watson:                   2.137\n",
            "Prob(Omnibus):                  0.005   Jarque-Bera (JB):               11.010\n",
            "Skew:                          -0.790   Prob(JB):                      0.00407\n",
            "Kurtosis:                       4.277   Cond. No.                         58.1\n",
            "==============================================================================\n",
            "\n",
            "Warnings:\n",
            "[1] Standard Errors assume that the covariance matrix of the errors is correctly specified.\n"
          ],
          "name": "stdout"
        }
      ]
    },
    {
      "cell_type": "code",
      "metadata": {
        "id": "07QLA0upceor",
        "colab_type": "code",
        "colab": {
          "base_uri": "https://localhost:8080/",
          "height": 399
        },
        "outputId": "308ca2ee-14cf-4577-e3fb-b21332ee0010"
      },
      "source": [
        "iv = IV2SLS(dependent=df4['logpgp95'],\n",
        "            exog=df4['const'],\n",
        "            endog=df4['avexpr'],\n",
        "            instruments=df4['logem4']).fit(cov_type='unadjusted')\n",
        "\n",
        "print(iv.summary)"
      ],
      "execution_count": 19,
      "outputs": [
        {
          "output_type": "stream",
          "text": [
            "                          IV-2SLS Estimation Summary                          \n",
            "==============================================================================\n",
            "Dep. Variable:               logpgp95   R-squared:                      0.1870\n",
            "Estimator:                    IV-2SLS   Adj. R-squared:                 0.1739\n",
            "No. Observations:                  64   F-statistic:                    37.568\n",
            "Date:                Sat, Jun 20 2020   P-value (F-stat)                0.0000\n",
            "Time:                        06:37:14   Distribution:                  chi2(1)\n",
            "Cov. Estimator:            unadjusted                                         \n",
            "                                                                              \n",
            "                             Parameter Estimates                              \n",
            "==============================================================================\n",
            "            Parameter  Std. Err.     T-stat    P-value    Lower CI    Upper CI\n",
            "------------------------------------------------------------------------------\n",
            "const          1.9097     1.0106     1.8897     0.0588     -0.0710      3.8903\n",
            "avexpr         0.9443     0.1541     6.1293     0.0000      0.6423      1.2462\n",
            "==============================================================================\n",
            "\n",
            "Endogenous: avexpr\n",
            "Instruments: logem4\n",
            "Unadjusted Covariance (Homoskedastic)\n",
            "Debiased: False\n"
          ],
          "name": "stdout"
        }
      ]
    },
    {
      "cell_type": "code",
      "metadata": {
        "id": "4qMatPh8cgy7",
        "colab_type": "code",
        "colab": {}
      },
      "source": [
        ""
      ],
      "execution_count": null,
      "outputs": []
    },
    {
      "cell_type": "markdown",
      "metadata": {
        "id": "S9VOyHZtW3o1",
        "colab_type": "text"
      },
      "source": [
        "### Exercise 1\n",
        "\n",
        "In the lecture, we think the original model suffers from endogeneity\n",
        "bias due to the likely effect income has on institutional development.\n",
        "\n",
        "Although endogeneity is often best identified by thinking about the data\n",
        "and model, we can formally test for endogeneity using the **Hausman\n",
        "test**.\n",
        "\n",
        "We want to test for correlation between the endogenous variable,\n",
        "$ avexpr_i $, and the errors, $ u_i $\n",
        "\n",
        "$$\n",
        "\\begin{aligned}\n",
        " H_0 : Cov(avexpr_i, u_i) = 0  \\quad (no\\ endogeneity) \\\\\n",
        " H_1 : Cov(avexpr_i, u_i) \\neq 0 \\quad (endogeneity)\n",
        " \\end{aligned}\n",
        "$$\n",
        "\n",
        "This test is running in two stages.\n",
        "\n",
        "First, we regress $ avexpr_i $ on the instrument, $ logem4_i $\n",
        "\n",
        "$$\n",
        "avexpr_i = \\pi_0 + \\pi_1 logem4_i + \\upsilon_i\n",
        "$$\n",
        "\n",
        "Second, we retrieve the residuals $ \\hat{\\upsilon}_i $ and include\n",
        "them in the original equation\n",
        "\n",
        "$$\n",
        "logpgp95_i = \\beta_0 + \\beta_1 avexpr_i + \\alpha \\hat{\\upsilon}_i + u_i\n",
        "$$\n",
        "\n",
        "If $ \\alpha $ is statistically significant (with a p-value < 0.05),\n",
        "then we reject the null hypothesis and conclude that $ avexpr_i $ is\n",
        "endogenous.\n",
        "\n",
        "Using the above information, estimate a Hausman test and interpret your\n",
        "results."
      ]
    },
    {
      "cell_type": "code",
      "metadata": {
        "id": "HcD2bQsCcx29",
        "colab_type": "code",
        "colab": {
          "base_uri": "https://localhost:8080/",
          "height": 490
        },
        "outputId": "40e10a49-2aa5-4099-f09a-dba4c8d19263"
      },
      "source": [
        "# Load in data\n",
        "df4 = pd.read_stata('https://github.com/QuantEcon/lecture-python/blob/master/source/_static/lecture_specific/ols/maketable4.dta?raw=true')\n",
        "\n",
        "# Add a constant term\n",
        "df4['const'] = 1\n",
        "\n",
        "# Estimate the first stage regression\n",
        "reg1 = sm.OLS(endog=df4['avexpr'],\n",
        "              exog=df4[['const', 'logem4']],\n",
        "              missing='drop').fit()\n",
        "\n",
        "# Retrieve the residuals\n",
        "df4['resid'] = reg1.resid\n",
        "\n",
        "# Estimate the second stage residuals\n",
        "reg2 = sm.OLS(endog=df4['logpgp95'],\n",
        "              exog=df4[['const', 'avexpr', 'resid']],\n",
        "              missing='drop').fit()\n",
        "\n",
        "print(reg2.summary())"
      ],
      "execution_count": 20,
      "outputs": [
        {
          "output_type": "stream",
          "text": [
            "                            OLS Regression Results                            \n",
            "==============================================================================\n",
            "Dep. Variable:               logpgp95   R-squared:                       0.689\n",
            "Model:                            OLS   Adj. R-squared:                  0.679\n",
            "Method:                 Least Squares   F-statistic:                     74.05\n",
            "Date:                Sat, 20 Jun 2020   Prob (F-statistic):           1.07e-17\n",
            "Time:                        06:38:36   Log-Likelihood:                -62.031\n",
            "No. Observations:                  70   AIC:                             130.1\n",
            "Df Residuals:                      67   BIC:                             136.8\n",
            "Df Model:                           2                                         \n",
            "Covariance Type:            nonrobust                                         \n",
            "==============================================================================\n",
            "                 coef    std err          t      P>|t|      [0.025      0.975]\n",
            "------------------------------------------------------------------------------\n",
            "const          2.4782      0.547      4.530      0.000       1.386       3.570\n",
            "avexpr         0.8564      0.082     10.406      0.000       0.692       1.021\n",
            "resid         -0.4951      0.099     -5.017      0.000      -0.692      -0.298\n",
            "==============================================================================\n",
            "Omnibus:                       17.597   Durbin-Watson:                   2.086\n",
            "Prob(Omnibus):                  0.000   Jarque-Bera (JB):               23.194\n",
            "Skew:                          -1.054   Prob(JB):                     9.19e-06\n",
            "Kurtosis:                       4.873   Cond. No.                         53.8\n",
            "==============================================================================\n",
            "\n",
            "Warnings:\n",
            "[1] Standard Errors assume that the covariance matrix of the errors is correctly specified.\n"
          ],
          "name": "stdout"
        }
      ]
    },
    {
      "cell_type": "code",
      "metadata": {
        "id": "ciL5GARCc0ue",
        "colab_type": "code",
        "colab": {}
      },
      "source": [
        ""
      ],
      "execution_count": null,
      "outputs": []
    },
    {
      "cell_type": "markdown",
      "metadata": {
        "id": "kmiUMrccW3o2",
        "colab_type": "text"
      },
      "source": [
        "### Exercise 2\n",
        "\n",
        "The OLS parameter $ \\beta $ can also be estimated using matrix\n",
        "algebra and `numpy` (you may need to review the\n",
        "[numpy](https://python-programming.quantecon.org/numpy.html) lecture to\n",
        "complete this exercise).\n",
        "\n",
        "The linear equation we want to estimate is (written in matrix form)\n",
        "\n",
        "$$\n",
        "y = X\\beta + u\n",
        "$$\n",
        "\n",
        "To solve for the unknown parameter $ \\beta $, we want to minimize\n",
        "the sum of squared residuals\n",
        "\n",
        "$$\n",
        "\\underset{\\hat{\\beta}}{\\min} \\hat{u}'\\hat{u}\n",
        "$$\n",
        "\n",
        "Rearranging the first equation and substituting into the second\n",
        "equation, we can write\n",
        "\n",
        "$$\n",
        "\\underset{\\hat{\\beta}}{\\min} \\ (Y - X\\hat{\\beta})' (Y - X\\hat{\\beta})\n",
        "$$\n",
        "\n",
        "Solving this optimization problem gives the solution for the\n",
        "$ \\hat{\\beta} $ coefficients\n",
        "\n",
        "$$\n",
        "\\hat{\\beta} = (X'X)^{-1}X'y\n",
        "$$\n",
        "\n",
        "Using the above information, compute $ \\hat{\\beta} $ from model 1\n",
        "using `numpy` - your results should be the same as those in the\n",
        "`statsmodels` output from earlier in the lecture."
      ]
    },
    {
      "cell_type": "code",
      "metadata": {
        "id": "rsArHGkXc7OY",
        "colab_type": "code",
        "colab": {
          "base_uri": "https://localhost:8080/",
          "height": 54
        },
        "outputId": "91ca8de9-10c5-4275-dd76-64f1011e8405"
      },
      "source": [
        "# Load in data\n",
        "df1 = pd.read_stata('https://github.com/QuantEcon/lecture-python/blob/master/source/_static/lecture_specific/ols/maketable1.dta?raw=true')\n",
        "df1 = df1.dropna(subset=['logpgp95', 'avexpr'])\n",
        "\n",
        "# Add a constant term\n",
        "df1['const'] = 1\n",
        "\n",
        "# Define the X and y variables\n",
        "y = np.asarray(df1['logpgp95'])\n",
        "X = np.asarray(df1[['const', 'avexpr']])\n",
        "\n",
        "# Compute β_hat\n",
        "β_hat = np.linalg.solve(X.T @ X, X.T @ y)\n",
        "\n",
        "# Print out the results from the 2 x 1 vector β_hat\n",
        "print(f'β_0 = {β_hat[0]:.2}')\n",
        "print(f'β_1 = {β_hat[1]:.2}')"
      ],
      "execution_count": 21,
      "outputs": [
        {
          "output_type": "stream",
          "text": [
            "β_0 = 4.6\n",
            "β_1 = 0.53\n"
          ],
          "name": "stdout"
        }
      ]
    },
    {
      "cell_type": "code",
      "metadata": {
        "id": "TwelvbX_c-uW",
        "colab_type": "code",
        "colab": {}
      },
      "source": [
        ""
      ],
      "execution_count": null,
      "outputs": []
    }
  ]
}