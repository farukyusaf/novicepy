{
    "cells": [
        {
            "cell_type": "markdown",
            "metadata": {},
            "source": "# My Jupyter Notebook on IBM Data Science Experience"
        },
        {
            "cell_type": "markdown",
            "metadata": {},
            "source": "**Farooq**"
        },
        {
            "cell_type": "markdown",
            "metadata": {},
            "source": "I wish to become a data scientist, especially because I want to improve my quantitative skills, in order to succeed in the energy sector."
        },
        {
            "cell_type": "markdown",
            "metadata": {},
            "source": "_I am interested in data science because it gives me a new perspective on Data, both quantitative and qualitative. I feel that with my social science background, I can create better stories with the help of data science_"
        },
        {
            "cell_type": "markdown",
            "metadata": {},
            "source": "### my code in the following cell will add 3 and 4, and subtract 1"
        },
        {
            "cell_type": "code",
            "execution_count": 5,
            "metadata": {},
            "outputs": [
                {
                    "data": {
                        "text/plain": "6"
                    },
                    "execution_count": 5,
                    "metadata": {},
                    "output_type": "execute_result"
                }
            ],
            "source": "3+4-1"
        },
        {
            "cell_type": "markdown",
            "metadata": {},
            "source": "I like this course because\n\n- It is amazing\n\n- It gives me new skills and knowledge\n\nAs ~~someone~~ Sir Francis Bacon famously said\n\n> Knowledge is Power\n\n![Image](https://upload.wikimedia.org/wikipedia/en/2/2d/Francis_Bacon_2.jpg)\n\nIn short, this module helped me a lot in learning the basics of Python and R\n\n---\n\n\n"
        }
    ],
    "metadata": {
        "kernelspec": {
            "display_name": "Python 3.6",
            "language": "python",
            "name": "python3"
        },
        "language_info": {
            "codemirror_mode": {
                "name": "ipython",
                "version": 3
            },
            "file_extension": ".py",
            "mimetype": "text/x-python",
            "name": "python",
            "nbconvert_exporter": "python",
            "pygments_lexer": "ipython3",
            "version": "3.6.9"
        }
    },
    "nbformat": 4,
    "nbformat_minor": 1
}