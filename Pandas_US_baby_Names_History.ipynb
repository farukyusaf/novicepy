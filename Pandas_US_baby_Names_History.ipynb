{
  "nbformat": 4,
  "nbformat_minor": 0,
  "metadata": {
    "colab": {
      "name": "US baby Names History.ipynb",
      "provenance": [],
      "collapsed_sections": [],
      "authorship_tag": "ABX9TyPNxdmED7VxmuMuFWEARkdv"
    },
    "kernelspec": {
      "name": "python3",
      "display_name": "Python 3"
    }
  },
  "cells": [
    {
      "cell_type": "code",
      "metadata": {
        "id": "Y8RoXn-u9Ymn",
        "colab_type": "code",
        "colab": {
          "base_uri": "https://localhost:8080/",
          "height": 34
        },
        "outputId": "9971b16b-8074-484f-bb1d-36b7e780fb0b"
      },
      "source": [
        "%matplotlib inline\n",
        "import matplotlib.pyplot as plt\n",
        "import numpy as np\n",
        "import pandas as pd\n",
        "\n",
        "# turn of data table rendering\n",
        "pd.set_option('display.notebook_repr_html', False)\n",
        "plt.style.use('ggplot')\n",
        "pd.__version__"
      ],
      "execution_count": 2,
      "outputs": [
        {
          "output_type": "execute_result",
          "data": {
            "text/plain": [
              "'0.25.1'"
            ]
          },
          "metadata": {
            "tags": []
          },
          "execution_count": 2
        }
      ]
    },
    {
      "cell_type": "markdown",
      "metadata": {
        "id": "gfdxs4Bl_Mhf",
        "colab_type": "text"
      },
      "source": [
        ""
      ]
    },
    {
      "cell_type": "code",
      "metadata": {
        "id": "kFpM3QZC_OgI",
        "colab_type": "code",
        "colab": {
          "base_uri": "https://localhost:8080/",
          "height": 343
        },
        "outputId": "4662beac-1794-4142-e931-615bd32461fa"
      },
      "source": [
        "!pip install pandas==0.25.1"
      ],
      "execution_count": 9,
      "outputs": [
        {
          "output_type": "stream",
          "text": [
            "Collecting pandas==0.25.1\n",
            "\u001b[?25l  Downloading https://files.pythonhosted.org/packages/73/9b/52e228545d14f14bb2a1622e225f38463c8726645165e1cb7dde95bfe6d4/pandas-0.25.1-cp36-cp36m-manylinux1_x86_64.whl (10.5MB)\n",
            "\u001b[K     |████████████████████████████████| 10.5MB 2.8MB/s \n",
            "\u001b[?25hRequirement already satisfied: python-dateutil>=2.6.1 in /usr/local/lib/python3.6/dist-packages (from pandas==0.25.1) (2.8.1)\n",
            "Requirement already satisfied: numpy>=1.13.3 in /usr/local/lib/python3.6/dist-packages (from pandas==0.25.1) (1.18.2)\n",
            "Requirement already satisfied: pytz>=2017.2 in /usr/local/lib/python3.6/dist-packages (from pandas==0.25.1) (2018.9)\n",
            "Requirement already satisfied: six>=1.5 in /usr/local/lib/python3.6/dist-packages (from python-dateutil>=2.6.1->pandas==0.25.1) (1.12.0)\n",
            "\u001b[31mERROR: google-colab 1.0.0 has requirement pandas~=1.0.0; python_version >= \"3.0\", but you'll have pandas 0.25.1 which is incompatible.\u001b[0m\n",
            "Installing collected packages: pandas\n",
            "  Found existing installation: pandas 1.0.3\n",
            "    Uninstalling pandas-1.0.3:\n",
            "      Successfully uninstalled pandas-1.0.3\n",
            "Successfully installed pandas-0.25.1\n"
          ],
          "name": "stdout"
        },
        {
          "output_type": "display_data",
          "data": {
            "application/vnd.colab-display-data+json": {
              "pip_warning": {
                "packages": [
                  "pandas"
                ]
              }
            }
          },
          "metadata": {
            "tags": []
          }
        }
      ]
    },
    {
      "cell_type": "code",
      "metadata": {
        "id": "bzbQTPqF-QAE",
        "colab_type": "code",
        "colab": {
          "base_uri": "https://localhost:8080/",
          "height": 119
        },
        "outputId": "18416d7d-578c-4722-bc60-aae09470f3ab"
      },
      "source": [
        "# The data set contains the top 1000 baby names in the US for each year from 1880 until 2008\n",
        "names_df = pd.read_csv('/content/baby-names2.csv')\n",
        "names_df.head()"
      ],
      "execution_count": 4,
      "outputs": [
        {
          "output_type": "execute_result",
          "data": {
            "text/plain": [
              "   year     name      prop  sex soundex\n",
              "0  1880     John  0.081541  boy    J500\n",
              "1  1880  William  0.080511  boy    W450\n",
              "2  1880    James  0.050057  boy    J520\n",
              "3  1880  Charles  0.045167  boy    C642\n",
              "4  1880   George  0.043292  boy    G620"
            ]
          },
          "metadata": {
            "tags": []
          },
          "execution_count": 4
        }
      ]
    },
    {
      "cell_type": "code",
      "metadata": {
        "id": "qKNPZXHH-Y47",
        "colab_type": "code",
        "colab": {
          "base_uri": "https://localhost:8080/",
          "height": 119
        },
        "outputId": "3e18d8ff-de0a-4904-b591-997488f79b4a"
      },
      "source": [
        "# Get popular names for 1980\n",
        "names_df[names_df.year == 1980].tail()"
      ],
      "execution_count": 5,
      "outputs": [
        {
          "output_type": "execute_result",
          "data": {
            "text/plain": [
              "        year       name      prop   sex soundex\n",
              "229995  1980    Tatiana  0.000083  girl    T350\n",
              "229996  1980  Chantelle  0.000083  girl    C534\n",
              "229997  1980   Julianna  0.000083  girl    J450\n",
              "229998  1980       Kati  0.000083  girl    K300\n",
              "229999  1980   Lashunda  0.000083  girl    L253"
            ]
          },
          "metadata": {
            "tags": []
          },
          "execution_count": 5
        }
      ]
    },
    {
      "cell_type": "code",
      "metadata": {
        "id": "jOidB48N-gL5",
        "colab_type": "code",
        "colab": {
          "base_uri": "https://localhost:8080/",
          "height": 119
        },
        "outputId": "a2e0d0df-f4b1-4329-e219-960429e85184"
      },
      "source": [
        "names_df[names_df.year == 1980].head()"
      ],
      "execution_count": 6,
      "outputs": [
        {
          "output_type": "execute_result",
          "data": {
            "text/plain": [
              "        year         name      prop  sex soundex\n",
              "100000  1980      Michael  0.037039  boy    M240\n",
              "100001  1980  Christopher  0.026531  boy    C623\n",
              "100002  1980        Jason  0.025994  boy    J250\n",
              "100003  1980        David  0.022600  boy    D130\n",
              "100004  1980        James  0.021205  boy    J520"
            ]
          },
          "metadata": {
            "tags": []
          },
          "execution_count": 6
        }
      ]
    },
    {
      "cell_type": "code",
      "metadata": {
        "id": "k1VLrTMu-kSO",
        "colab_type": "code",
        "colab": {
          "base_uri": "https://localhost:8080/",
          "height": 119
        },
        "outputId": "4264e91f-9df2-422d-e03f-7eb29b828b28"
      },
      "source": [
        "# Separating boy names from the girls\n",
        "boys_df = names_df[names_df.sex == 'boy']\n",
        "girls_df = names_df[names_df.sex == 'girl']\n",
        "girls_df.head()"
      ],
      "execution_count": 7,
      "outputs": [
        {
          "output_type": "execute_result",
          "data": {
            "text/plain": [
              "        year       name      prop   sex soundex\n",
              "129000  1880       Mary  0.072381  girl    M600\n",
              "129001  1880       Anna  0.026678  girl    A500\n",
              "129002  1880       Emma  0.020521  girl    E500\n",
              "129003  1880  Elizabeth  0.019865  girl    E421\n",
              "129004  1880     Minnie  0.017888  girl    M500"
            ]
          },
          "metadata": {
            "tags": []
          },
          "execution_count": 7
        }
      ]
    },
    {
      "cell_type": "code",
      "metadata": {
        "id": "PfZUOpGS-o2f",
        "colab_type": "code",
        "colab": {
          "base_uri": "https://localhost:8080/",
          "height": 136
        },
        "outputId": "3ef20c9a-f3fa-4739-f5f9-7a7a6daa3c44"
      },
      "source": [
        "\n",
        "# Get the number of boy baby name rows per year (showing first 5) \n",
        "boys_df.groupby('year').size().head()"
      ],
      "execution_count": 8,
      "outputs": [
        {
          "output_type": "execute_result",
          "data": {
            "text/plain": [
              "year\n",
              "1880    1000\n",
              "1881    1000\n",
              "1882    1000\n",
              "1883    1000\n",
              "1884    1000\n",
              "dtype: int64"
            ]
          },
          "metadata": {
            "tags": []
          },
          "execution_count": 8
        }
      ]
    },
    {
      "cell_type": "code",
      "metadata": {
        "id": "oMXJCNfK-vpY",
        "colab_type": "code",
        "colab": {
          "base_uri": "https://localhost:8080/",
          "height": 85
        },
        "outputId": "9b93c9a1-7347-45bb-99ff-85b8a79f1058"
      },
      "source": [
        "# Get the hierarchical index of baby name rows per year \n",
        "# grouped by gender for the year 1969\n",
        "names_df.groupby(['year', 'sex']).size().loc[1969]"
      ],
      "execution_count": 10,
      "outputs": [
        {
          "output_type": "execute_result",
          "data": {
            "text/plain": [
              "sex\n",
              "boy     1000\n",
              "girl    1000\n",
              "dtype: int64"
            ]
          },
          "metadata": {
            "tags": []
          },
          "execution_count": 10
        }
      ]
    },
    {
      "cell_type": "code",
      "metadata": {
        "id": "K6QznUFM-2aB",
        "colab_type": "code",
        "colab": {
          "base_uri": "https://localhost:8080/",
          "height": 119
        },
        "outputId": "e187dc38-0d24-4fea-fdcc-89bbcd1d83eb"
      },
      "source": [
        "# Get the most popular boy name for the year 1969\n",
        "rowid = boys_df[boys_df.year == 1969].prop.idxmax()\n",
        "boys_df.loc[rowid]"
      ],
      "execution_count": 11,
      "outputs": [
        {
          "output_type": "execute_result",
          "data": {
            "text/plain": [
              "year           1969\n",
              "name        Michael\n",
              "prop       0.046564\n",
              "sex             boy\n",
              "soundex        M240\n",
              "Name: 89000, dtype: object"
            ]
          },
          "metadata": {
            "tags": []
          },
          "execution_count": 11
        }
      ]
    },
    {
      "cell_type": "code",
      "metadata": {
        "id": "KkutHZkE_tv9",
        "colab_type": "code",
        "colab": {
          "base_uri": "https://localhost:8080/",
          "height": 136
        },
        "outputId": "1447aaad-59ab-4423-b364-ab39b2639694"
      },
      "source": [
        "\n",
        "# Apply the get_max_proportion to the whole dataframe\n",
        "# to get the most popular name for each year (showing first 5)\n",
        "def get_max_proportion(group):\n",
        "    return group.loc[group.prop.idxmax()]\n",
        "    \n",
        "popular_boys_df = boys_df.groupby('year').apply(get_max_proportion)\n",
        "popular_boys_df.tail()"
      ],
      "execution_count": 12,
      "outputs": [
        {
          "output_type": "execute_result",
          "data": {
            "text/plain": [
              "      year   name      prop  sex soundex\n",
              "year                                    \n",
              "2004  2004  Jacob  0.013196  boy    J210\n",
              "2005  2005  Jacob  0.012148  boy    J210\n",
              "2006  2006  Jacob  0.011331  boy    J210\n",
              "2007  2007  Jacob  0.010948  boy    J210\n",
              "2008  2008  Jacob  0.010355  boy    J210"
            ]
          },
          "metadata": {
            "tags": []
          },
          "execution_count": 12
        }
      ]
    },
    {
      "cell_type": "code",
      "metadata": {
        "id": "Wm13XnU5_zmJ",
        "colab_type": "code",
        "colab": {
          "base_uri": "https://localhost:8080/",
          "height": 316
        },
        "outputId": "1b9b090e-e7d3-4589-9960-97bf7e889630"
      },
      "source": [
        "# Plot the proportion of the most popular boy name per year\n",
        "# Maybe showing more diversity in chosen boy names over time\n",
        "popular_boys_df.prop.plot(legend=True, title='Proportion most popular boy name', \n",
        "                          kind='area', color='#00A99D', alpha=.5)"
      ],
      "execution_count": 13,
      "outputs": [
        {
          "output_type": "execute_result",
          "data": {
            "text/plain": [
              "<matplotlib.axes._subplots.AxesSubplot at 0x7f25771ade10>"
            ]
          },
          "metadata": {
            "tags": []
          },
          "execution_count": 13
        },
        {
          "output_type": "display_data",
          "data": {
            "image/png": "[encoded data removed]",
            "text/plain": [
              "<Figure size 432x288 with 1 Axes>"
            ]
          },
          "metadata": {
            "tags": []
          }
        }
      ]
    },
    {
      "cell_type": "code",
      "metadata": {
        "id": "H0GstMkU_4rx",
        "colab_type": "code",
        "colab": {
          "base_uri": "https://localhost:8080/",
          "height": 136
        },
        "outputId": "5fd76ee8-cfc5-4f5a-f41f-2f8fa8ee8dc2"
      },
      "source": [
        "# Set the index to a name/year combination\n",
        "boys_index_df = boys_df.set_index(['name', 'year'])\n",
        "boys_index_df.head()"
      ],
      "execution_count": 14,
      "outputs": [
        {
          "output_type": "execute_result",
          "data": {
            "text/plain": [
              "                  prop  sex soundex\n",
              "name    year                       \n",
              "John    1880  0.081541  boy    J500\n",
              "William 1880  0.080511  boy    W450\n",
              "James   1880  0.050057  boy    J520\n",
              "Charles 1880  0.045167  boy    C642\n",
              "George  1880  0.043292  boy    G620"
            ]
          },
          "metadata": {
            "tags": []
          },
          "execution_count": 14
        }
      ]
    },
    {
      "cell_type": "code",
      "metadata": {
        "id": "2026J9MUAAWK",
        "colab_type": "code",
        "colab": {
          "base_uri": "https://localhost:8080/",
          "height": 452
        },
        "outputId": "3dfce485-3966-4cf0-f00d-3ac0073f732b"
      },
      "source": [
        "# Popularity of name LEON over time\n",
        "leon_popularity = boys_index_df.ix['Leon']\n",
        "leon_popularity.prop.plot(kind='area', color='#00A99D', alpha=.5, \n",
        "                          legend=True, title='Popularity of the name Leon')"
      ],
      "execution_count": 16,
      "outputs": [
        {
          "output_type": "stream",
          "text": [
            "/usr/local/lib/python3.6/dist-packages/ipykernel_launcher.py:1: FutureWarning: \n",
            ".ix is deprecated. Please use\n",
            ".loc for label based indexing or\n",
            ".iloc for positional indexing\n",
            "\n",
            "See the documentation here:\n",
            "http://pandas.pydata.org/pandas-docs/stable/user_guide/indexing.html#ix-indexer-is-deprecated\n",
            "  \"\"\"Entry point for launching an IPython kernel.\n"
          ],
          "name": "stderr"
        },
        {
          "output_type": "execute_result",
          "data": {
            "text/plain": [
              "<matplotlib.axes._subplots.AxesSubplot at 0x7f25759bf6a0>"
            ]
          },
          "metadata": {
            "tags": []
          },
          "execution_count": 16
        },
        {
          "output_type": "display_data",
          "data": {
            "image/png": "[encoded data removed]",
            "text/plain": [
              "<Figure size 432x288 with 1 Axes>"
            ]
          },
          "metadata": {
            "tags": []
          }
        }
      ]
    },
    {
      "cell_type": "code",
      "metadata": {
        "id": "8dFIyoI2AG7R",
        "colab_type": "code",
        "colab": {
          "base_uri": "https://localhost:8080/",
          "height": 34
        },
        "outputId": "cf944414-2465-4d85-f7d6-a7245145c5c3"
      },
      "source": [
        "# WHen was Leon the most popular\n",
        "boys_index_df.loc['Leon'].prop.idxmax()"
      ],
      "execution_count": 18,
      "outputs": [
        {
          "output_type": "execute_result",
          "data": {
            "text/plain": [
              "1918"
            ]
          },
          "metadata": {
            "tags": []
          },
          "execution_count": 18
        }
      ]
    },
    {
      "cell_type": "code",
      "metadata": {
        "id": "J04TCxzjAVRI",
        "colab_type": "code",
        "colab": {
          "base_uri": "https://localhost:8080/",
          "height": 34
        },
        "outputId": "85cddf33-c940-44cb-d04a-cf885751767b"
      },
      "source": [
        "# Highest boy name proportion ever...\n",
        "boys_index_df.prop.idxmax()"
      ],
      "execution_count": 19,
      "outputs": [
        {
          "output_type": "execute_result",
          "data": {
            "text/plain": [
              "('John', 1880)"
            ]
          },
          "metadata": {
            "tags": []
          },
          "execution_count": 19
        }
      ]
    },
    {
      "cell_type": "code",
      "metadata": {
        "id": "NHe65hfHAjsr",
        "colab_type": "code",
        "colab": {
          "base_uri": "https://localhost:8080/",
          "height": 136
        },
        "outputId": "88498a77-51cd-43b0-a6ee-4726abc11e9b"
      },
      "source": [
        "# Calculate the mean proportion for each girl name in the set\n",
        "# Show first 5 in descending order\n",
        "mean_prop = girls_df.groupby('name')['prop'].mean()\n",
        "mean_prop.sort_values(ascending=False).head()"
      ],
      "execution_count": 21,
      "outputs": [
        {
          "output_type": "execute_result",
          "data": {
            "text/plain": [
              "name\n",
              "Mary         0.034976\n",
              "Jennifer     0.011555\n",
              "Elizabeth    0.010791\n",
              "Margaret     0.010550\n",
              "Helen        0.009568\n",
              "Name: prop, dtype: float64"
            ]
          },
          "metadata": {
            "tags": []
          },
          "execution_count": 21
        }
      ]
    },
    {
      "cell_type": "code",
      "metadata": {
        "id": "-0qgwfOsAm8k",
        "colab_type": "code",
        "colab": {
          "base_uri": "https://localhost:8080/",
          "height": 510
        },
        "outputId": "dca39491-d47b-40c0-8489-9ee18e957268"
      },
      "source": [
        "# Retrieve summary statistics for each year in the data set\n",
        "result = girls_df.groupby('year').describe()\n",
        "result.head(24)"
      ],
      "execution_count": 22,
      "outputs": [
        {
          "output_type": "execute_result",
          "data": {
            "text/plain": [
              "        prop                      ...                              \n",
              "       count      mean       std  ...       50%       75%       max\n",
              "year                              ...                              \n",
              "1880  1000.0  0.000935  0.003270  ...  0.000123  0.000400  0.072381\n",
              "1881  1000.0  0.000933  0.003214  ...  0.000121  0.000407  0.069986\n",
              "1882  1000.0  0.000931  0.003211  ...  0.000121  0.000406  0.070431\n",
              "1883  1000.0  0.000933  0.003131  ...  0.000125  0.000433  0.066737\n",
              "1884  1000.0  0.000931  0.003124  ...  0.000128  0.000443  0.066990\n",
              "1885  1000.0  0.000930  0.003058  ...  0.000127  0.000465  0.064300\n",
              "1886  1000.0  0.000930  0.003038  ...  0.000130  0.000449  0.064334\n",
              "1887  1000.0  0.000928  0.003011  ...  0.000129  0.000452  0.063620\n",
              "1888  1000.0  0.000928  0.002958  ...  0.000137  0.000455  0.062041\n",
              "1889  1000.0  0.000928  0.002937  ...  0.000132  0.000461  0.061562\n",
              "1890  1000.0  0.000928  0.002889  ...  0.000134  0.000491  0.059892\n",
              "1891  1000.0  0.000927  0.002876  ...  0.000137  0.000479  0.059543\n",
              "1892  1000.0  0.000925  0.002849  ...  0.000133  0.000498  0.058570\n",
              "1893  1000.0  0.000926  0.002827  ...  0.000133  0.000487  0.056757\n",
              "1894  1000.0  0.000924  0.002776  ...  0.000140  0.000500  0.055730\n",
              "1895  1000.0  0.000922  0.002752  ...  0.000138  0.000510  0.054416\n",
              "1896  1000.0  0.000921  0.002751  ...  0.000139  0.000513  0.054805\n",
              "1897  1000.0  0.000921  0.002722  ...  0.000137  0.000518  0.054025\n",
              "1898  1000.0  0.000918  0.002684  ...  0.000142  0.000516  0.052547\n",
              "1899  1000.0  0.000918  0.002696  ...  0.000141  0.000507  0.053226\n",
              "1900  1000.0  0.000913  0.002646  ...  0.000145  0.000525  0.052567\n",
              "1901  1000.0  0.000915  0.002640  ...  0.000146  0.000528  0.051672\n",
              "1902  1000.0  0.000914  0.002643  ...  0.000146  0.000549  0.051666\n",
              "1903  1000.0  0.000913  0.002642  ...  0.000147  0.000526  0.051312\n",
              "\n",
              "[24 rows x 8 columns]"
            ]
          },
          "metadata": {
            "tags": []
          },
          "execution_count": 22
        }
      ]
    },
    {
      "cell_type": "code",
      "metadata": {
        "id": "mm1WFw0VA13D",
        "colab_type": "code",
        "colab": {
          "base_uri": "https://localhost:8080/",
          "height": 173
        },
        "outputId": "a7455f9f-8d0a-49ea-f3ae-e57bfaa22279"
      },
      "source": [
        "# Get a single year of girl names and sort by proportion descending\n",
        "girls_df_1972 = girls_df[girls_df.year == 1972]\n",
        "girls_df_1972_sorted = girls_df_1972.sort_index(by='prop', ascending=False)\n",
        "girls_df_1972_sorted.head()"
      ],
      "execution_count": 23,
      "outputs": [
        {
          "output_type": "stream",
          "text": [
            "/usr/local/lib/python3.6/dist-packages/ipykernel_launcher.py:2: FutureWarning: by argument to sort_index is deprecated, please use .sort_values(by=...)\n",
            "  \n"
          ],
          "name": "stderr"
        },
        {
          "output_type": "execute_result",
          "data": {
            "text/plain": [
              "        year      name      prop   sex soundex\n",
              "221000  1972  Jennifer  0.039447  girl    J516\n",
              "221001  1972  Michelle  0.018157  girl    M240\n",
              "221002  1972      Lisa  0.017086  girl    L200\n",
              "221003  1972  Kimberly  0.016310  girl    K516\n",
              "221004  1972       Amy  0.016042  girl    A500"
            ]
          },
          "metadata": {
            "tags": []
          },
          "execution_count": 23
        }
      ]
    },
    {
      "cell_type": "code",
      "metadata": {
        "id": "YJL34YhWA_Xb",
        "colab_type": "code",
        "colab": {
          "base_uri": "https://localhost:8080/",
          "height": 34
        },
        "outputId": "23be3a40-1704-4c0b-e0dc-d054d32ca929"
      },
      "source": [
        "# What is the proportion of this top 1000 girl names of the total names?\n",
        "girls_df_1972_sorted.prop.cumsum().max()"
      ],
      "execution_count": 24,
      "outputs": [
        {
          "output_type": "execute_result",
          "data": {
            "text/plain": [
              "0.8437470000000009"
            ]
          },
          "metadata": {
            "tags": []
          },
          "execution_count": 24
        }
      ]
    },
    {
      "cell_type": "markdown",
      "metadata": {
        "id": "KALwkDarCUwE",
        "colab_type": "text"
      },
      "source": [
        "***Courtesy leonvanbokhorst. In this version, I updated Pandas code for Location (loc/iloc) ***"
      ]
    },
    {
      "cell_type": "code",
      "metadata": {
        "id": "zwvtbu31BZHj",
        "colab_type": "code",
        "colab": {}
      },
      "source": [
        ""
      ],
      "execution_count": 0,
      "outputs": []
    }
  ]
}