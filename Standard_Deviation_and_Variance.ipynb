{
  "nbformat": 4,
  "nbformat_minor": 0,
  "metadata": {
    "colab": {
      "name": "Standard Deviation and Variance.ipynb",
      "provenance": [],
      "authorship_tag": "ABX9TyNtBkJgbjzy23V3jXQ/MIKF"
    },
    "kernelspec": {
      "name": "python3",
      "display_name": "Python 3"
    }
  },
  "cells": [
    {
      "cell_type": "code",
      "metadata": {
        "id": "rGj7Dpp-bgtw",
        "colab_type": "code",
        "colab": {
          "base_uri": "https://localhost:8080/",
          "height": 34
        },
        "outputId": "d8adc040-1d6b-49ab-8345-126bbe9af0ec"
      },
      "source": [
        "%matplotlib inline\n",
        "import matplotlib.pyplot as plt\n",
        "import numpy as np\n",
        "import pandas as pd\n",
        "import math\n",
        "\n",
        "# turn of data table rendering\n",
        "pd.set_option('display.notebook_repr_html', False)\n",
        "plt.style.use('ggplot')\n",
        "pd.__version__"
      ],
      "execution_count": 1,
      "outputs": [
        {
          "output_type": "execute_result",
          "data": {
            "text/plain": [
              "'1.0.3'"
            ]
          },
          "metadata": {
            "tags": []
          },
          "execution_count": 1
        }
      ]
    },
    {
      "cell_type": "code",
      "metadata": {
        "id": "g-hiHyjebi2j",
        "colab_type": "code",
        "colab": {
          "base_uri": "https://localhost:8080/",
          "height": 204
        },
        "outputId": "0fa89fda-e2de-4ae5-bf2e-7cae26f85eff"
      },
      "source": [
        "data = pd.DataFrame({'salaries': \n",
        "                     [33219, 36254, 38801, 46335, 46840, \n",
        "                      47596, 55130, 56863, 78070, 88830]})\n",
        "data"
      ],
      "execution_count": 2,
      "outputs": [
        {
          "output_type": "execute_result",
          "data": {
            "text/plain": [
              "   salaries\n",
              "0     33219\n",
              "1     36254\n",
              "2     38801\n",
              "3     46335\n",
              "4     46840\n",
              "5     47596\n",
              "6     55130\n",
              "7     56863\n",
              "8     78070\n",
              "9     88830"
            ]
          },
          "metadata": {
            "tags": []
          },
          "execution_count": 2
        }
      ]
    },
    {
      "cell_type": "code",
      "metadata": {
        "id": "EOjDfCUkbsNS",
        "colab_type": "code",
        "colab": {
          "base_uri": "https://localhost:8080/",
          "height": 279
        },
        "outputId": "1e0ffece-5a89-4d45-fe48-b31e5dd407ee"
      },
      "source": [
        "data.plot(kind='bar', color='lawngreen', alpha=.5)"
      ],
      "execution_count": 22,
      "outputs": [
        {
          "output_type": "execute_result",
          "data": {
            "text/plain": [
              "<matplotlib.axes._subplots.AxesSubplot at 0x7f18057e5320>"
            ]
          },
          "metadata": {
            "tags": []
          },
          "execution_count": 22
        },
        {
          "output_type": "display_data",
          "data": {
            "image/png": "[encoded data removed]",
            "text/plain": [
              "<Figure size 432x288 with 1 Axes>"
            ]
          },
          "metadata": {
            "tags": [],
            "needs_background": "light"
          }
        }
      ]
    },
    {
      "cell_type": "code",
      "metadata": {
        "id": "yQkSYC5nbwa-",
        "colab_type": "code",
        "colab": {}
      },
      "source": [
        ""
      ],
      "execution_count": 0,
      "outputs": []
    },
    {
      "cell_type": "markdown",
      "metadata": {
        "id": "jNJpYeSlcAQq",
        "colab_type": "text"
      },
      "source": [
        "**Calculate the Variance**\n",
        "\n",
        "The variance of a data set describes the average of the squared differences from the mean. In other words, it is a measure of how far each value in the data set is from the mean. The symbol for the variance of a population is $\\sigma^2$ (sigma squared) and for a sample we use $s^2$. We calculate the variance by summing the squared difference from the mean for each value. For the population, we divide by the number of values $n$ in the data set.\n",
        "\n",
        "$$population\\ variance:\\ \\sigma^2=\\frac{1}{n}\\sum_{i=0}^n(x_i-\\mu)^2$$\n",
        "For the sample we divide the summed up values by the degrees of freedom $n-1$ (also called Bessel's correction). We use $\\bar{x}$ (x bar) to symbolize our sample mean.\n",
        "\n",
        "$$sample\\ variance:\\ s^2=\\frac{1}{n-1}\\sum_{i=0}^n(x_i-\\bar{x})^2$$"
      ]
    },
    {
      "cell_type": "code",
      "metadata": {
        "id": "5VmYnuVtdIqW",
        "colab_type": "code",
        "colab": {
          "base_uri": "https://localhost:8080/",
          "height": 34
        },
        "outputId": "14c57d6e-450b-45b1-b8dc-46543b82371e"
      },
      "source": [
        "# To calculate the population variance\n",
        "n = len(data.salaries)\n",
        "\n",
        "# first calculate the mean\n",
        "mean = data.salaries.mean()\n",
        "\n",
        "# Sum up the squared differences from the mean\n",
        "squared_deviations = 0\n",
        "for v in data.salaries:\n",
        "    squared_deviations += (v - mean) ** 2\n",
        "\n",
        "population_variance = squared_deviations / n\n",
        "population_variance"
      ],
      "execution_count": 12,
      "outputs": [
        {
          "output_type": "execute_result",
          "data": {
            "text/plain": [
              "291622740.36"
            ]
          },
          "metadata": {
            "tags": []
          },
          "execution_count": 12
        }
      ]
    },
    {
      "cell_type": "code",
      "metadata": {
        "id": "Rvl2kUw_dLr4",
        "colab_type": "code",
        "colab": {
          "base_uri": "https://localhost:8080/",
          "height": 34
        },
        "outputId": "43721e2e-e29d-4433-bd1e-dfac74656add"
      },
      "source": [
        "# To calculate the variance if we only have a sample\n",
        "# First calculate the degrees of freedom (apply Bessel's correction)\n",
        "dof = n - 1\n",
        "sample_variance = squared_deviations / dof\n",
        "sample_variance"
      ],
      "execution_count": 13,
      "outputs": [
        {
          "output_type": "execute_result",
          "data": {
            "text/plain": [
              "324025267.0666667"
            ]
          },
          "metadata": {
            "tags": []
          },
          "execution_count": 13
        }
      ]
    },
    {
      "cell_type": "code",
      "metadata": {
        "id": "LBXEao51dN_H",
        "colab_type": "code",
        "colab": {
          "base_uri": "https://localhost:8080/",
          "height": 34
        },
        "outputId": "56c0be33-d3b5-4a1c-ecfd-a95a492638aa"
      },
      "source": [
        "# Of course we can use pandas to let NumPy do the job for us\n",
        "# The ddof parameter stands for Delta Degrees of Freedom\n",
        "population_variance = data.salaries.var(ddof=0)\n",
        "sample_variance = data.salaries.var() # ddof=1 by default in pandas\n",
        "\n",
        "population_variance, sample_variance"
      ],
      "execution_count": 14,
      "outputs": [
        {
          "output_type": "execute_result",
          "data": {
            "text/plain": [
              "(291622740.36, 324025267.0666667)"
            ]
          },
          "metadata": {
            "tags": []
          },
          "execution_count": 14
        }
      ]
    },
    {
      "cell_type": "code",
      "metadata": {
        "id": "pVhFYM8zdQRV",
        "colab_type": "code",
        "colab": {
          "base_uri": "https://localhost:8080/",
          "height": 34
        },
        "outputId": "96cacb58-8c7d-42a7-ca8a-45dab15f9d55"
      },
      "source": [
        "# Or call the NumPy var function ourselves\n",
        "population_variance = np.var(data.salaries) # ddof=0 by default in NumPy\n",
        "sample_variance = np.var(data.salaries, ddof=1)\n",
        "\n",
        "population_variance, sample_variance"
      ],
      "execution_count": 15,
      "outputs": [
        {
          "output_type": "execute_result",
          "data": {
            "text/plain": [
              "(291622740.36, 324025267.0666667)"
            ]
          },
          "metadata": {
            "tags": []
          },
          "execution_count": 15
        }
      ]
    },
    {
      "cell_type": "markdown",
      "metadata": {
        "id": "RpHzVk2CdVH8",
        "colab_type": "text"
      },
      "source": [
        "**Calculate the Standard Deviation**\n",
        "\n",
        "The standard deviation is a widely used normalized measure of spread of a data set. Unlike the variance, the standard deviation is using the same scale as our values; dollars in this case. In a normal distribution, about 95% of the values are within two standard deviations of the mean. We use the Greek letter sigma $\\sigma$ to symbolize the population standard deviation.\n",
        "\n",
        "$$population\\ standard\\ deviation:\\ \\sigma=\\sqrt{\\frac{1}{n}\\sum_{i=0}^n(x_i-\\mu)^2}\\ \\ =\\ \\ \\sqrt{\\sigma^2}$$\n",
        "We use the lowercase letter $s$ if we indicate the sample standard deviation.\n",
        "\n",
        "$$sample\\ standard\\ deviation:\\ s=\\sqrt{\\frac{1}{n-1}\\sum_{i=0}^n(x_i-\\bar{x})^2}\\ \\ =\\ \\ \\sqrt{s^2}$$"
      ]
    },
    {
      "cell_type": "code",
      "metadata": {
        "id": "YBR-EVVcdSlx",
        "colab_type": "code",
        "colab": {
          "base_uri": "https://localhost:8080/",
          "height": 34
        },
        "outputId": "415cd192-a0a7-4a27-8b34-0c2568ca6650"
      },
      "source": [
        "# To calculate the population standard deviation\n",
        "# we first need to calculate the population variance again\n",
        "n = len(data.salaries)\n",
        "\n",
        "# first calculate the mean\n",
        "mean = data.salaries.mean()\n",
        "\n",
        "# Sum up the squared differences from the mean\n",
        "squared_deviations = 0\n",
        "for v in data.salaries:\n",
        "    squared_deviations += (v - mean) ** 2\n",
        "\n",
        "population_variance = squared_deviations / n\n",
        "\n",
        "# Square the variance\n",
        "population_standard_deviation = math.sqrt(population_variance)\n",
        "population_standard_deviation"
      ],
      "execution_count": 16,
      "outputs": [
        {
          "output_type": "execute_result",
          "data": {
            "text/plain": [
              "17076.965197598784"
            ]
          },
          "metadata": {
            "tags": []
          },
          "execution_count": 16
        }
      ]
    },
    {
      "cell_type": "code",
      "metadata": {
        "id": "HRlkqEYNdbzt",
        "colab_type": "code",
        "colab": {
          "base_uri": "https://localhost:8080/",
          "height": 34
        },
        "outputId": "b1fb037e-68d8-4890-a212-a66cc4b04e3d"
      },
      "source": [
        "\n",
        "# To calculate the sample standard deviation\n",
        "# First calculate the degrees of freedom (apply Bessel's correction)\n",
        "dof = n - 1\n",
        "sample_variance = squared_deviations / dof\n",
        "\n",
        "# Square the variance\n",
        "sample_standard_deviation = math.sqrt(sample_variance)\n",
        "sample_standard_deviation"
      ],
      "execution_count": 17,
      "outputs": [
        {
          "output_type": "execute_result",
          "data": {
            "text/plain": [
              "18000.70184927984"
            ]
          },
          "metadata": {
            "tags": []
          },
          "execution_count": 17
        }
      ]
    },
    {
      "cell_type": "code",
      "metadata": {
        "id": "CJTFp7jedeBy",
        "colab_type": "code",
        "colab": {
          "base_uri": "https://localhost:8080/",
          "height": 34
        },
        "outputId": "7c96c9bc-fd22-4427-fd11-a77708c3acf4"
      },
      "source": [
        "\n",
        "# Now let's use pandas to let NumPy do the job for us\n",
        "population_standard_deviation = data.salaries.std(ddof=0)\n",
        "sample_standard_deviation = data.salaries.std()\n",
        "\n",
        "population_standard_deviation, sample_standard_deviation"
      ],
      "execution_count": 18,
      "outputs": [
        {
          "output_type": "execute_result",
          "data": {
            "text/plain": [
              "(17076.965197598784, 18000.70184927984)"
            ]
          },
          "metadata": {
            "tags": []
          },
          "execution_count": 18
        }
      ]
    },
    {
      "cell_type": "code",
      "metadata": {
        "id": "tMdGpnUjdhVE",
        "colab_type": "code",
        "colab": {
          "base_uri": "https://localhost:8080/",
          "height": 34
        },
        "outputId": "4145b95f-19bf-450e-de9a-336bbe77ed9c"
      },
      "source": [
        "# Or call the NumPy std function ourselves\n",
        "population_standard_deviation = np.std(data.salaries)\n",
        "sample_standard_deviation = np.std(data.salaries, ddof=1)\n",
        "\n",
        "population_standard_deviation, sample_standard_deviation"
      ],
      "execution_count": 19,
      "outputs": [
        {
          "output_type": "execute_result",
          "data": {
            "text/plain": [
              "(17076.965197598784, 18000.70184927984)"
            ]
          },
          "metadata": {
            "tags": []
          },
          "execution_count": 19
        }
      ]
    },
    {
      "cell_type": "markdown",
      "metadata": {
        "id": "s8RR268idmAP",
        "colab_type": "text"
      },
      "source": [
        "Courtesy: [leonvanbokhorst](https://github.com/leonvanbokhorst/NoteBooks-Statistics-and-MachineLearning)\n"
      ]
    }
  ]
}