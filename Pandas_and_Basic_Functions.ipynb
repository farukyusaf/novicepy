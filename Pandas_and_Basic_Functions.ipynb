{
  "nbformat": 4,
  "nbformat_minor": 0,
  "metadata": {
    "colab": {
      "name": "Pandas and Basic Functions.ipynb",
      "provenance": [],
      "authorship_tag": "ABX9TyOjiWnGqz7tt/JMB8/AxvIw"
    },
    "kernelspec": {
      "name": "python3",
      "display_name": "Python 3"
    }
  },
  "cells": [
    {
      "cell_type": "code",
      "metadata": {
        "id": "8rm4NgUHoyuD",
        "colab_type": "code",
        "colab": {}
      },
      "source": [
        "import pandas as pd\n",
        "import numpy as np\n",
        "from scipy import stats\n",
        "\n",
        "# turn of data table rendering\n",
        "pd.set_option('display.notebook_repr_html', False)"
      ],
      "execution_count": 0,
      "outputs": []
    },
    {
      "cell_type": "code",
      "metadata": {
        "id": "3POrUHOCu9be",
        "colab_type": "code",
        "colab": {
          "base_uri": "https://localhost:8080/",
          "height": 119
        },
        "outputId": "a263627d-9736-4eaf-c9a5-b71a47097232"
      },
      "source": [
        "# Constructing a beer sales DataFrame\n",
        "df = pd.DataFrame({'Billy Beer': [13884, 23008, 17883, 24435, 49938],\n",
        "                   'Lucky Lager': [34565, 83938, 59437, 28843, 48285],\n",
        "                   'Triple Bock': [39987, 35512, 23542, 37729, 36647]})\n",
        "df"
      ],
      "execution_count": 4,
      "outputs": [
        {
          "output_type": "execute_result",
          "data": {
            "text/plain": [
              "   Billy Beer  Lucky Lager  Triple Bock\n",
              "0       13884        34565        39987\n",
              "1       23008        83938        35512\n",
              "2       17883        59437        23542\n",
              "3       24435        28843        37729\n",
              "4       49938        48285        36647"
            ]
          },
          "metadata": {
            "tags": []
          },
          "execution_count": 4
        }
      ]
    },
    {
      "cell_type": "code",
      "metadata": {
        "id": "KhWwyYDYvJne",
        "colab_type": "code",
        "colab": {
          "base_uri": "https://localhost:8080/",
          "height": 170
        },
        "outputId": "0cac62e4-c566-4a00-c2d7-00099ace2b2e"
      },
      "source": [
        "df. describe()"
      ],
      "execution_count": 5,
      "outputs": [
        {
          "output_type": "execute_result",
          "data": {
            "text/plain": [
              "         Billy Beer   Lucky Lager   Triple Bock\n",
              "count      5.000000      5.000000      5.000000\n",
              "mean   25829.600000  51013.600000  34683.400000\n",
              "std    14115.302841  21934.601587   6443.542294\n",
              "min    13884.000000  28843.000000  23542.000000\n",
              "25%    17883.000000  34565.000000  35512.000000\n",
              "50%    23008.000000  48285.000000  36647.000000\n",
              "75%    24435.000000  59437.000000  37729.000000\n",
              "max    49938.000000  83938.000000  39987.000000"
            ]
          },
          "metadata": {
            "tags": []
          },
          "execution_count": 5
        }
      ]
    },
    {
      "cell_type": "code",
      "metadata": {
        "id": "UwE7GK9zvL9e",
        "colab_type": "code",
        "colab": {
          "base_uri": "https://localhost:8080/",
          "height": 85
        },
        "outputId": "1d07b47c-50d7-4246-c13a-4b21c4394427"
      },
      "source": [
        "df.mean()"
      ],
      "execution_count": 6,
      "outputs": [
        {
          "output_type": "execute_result",
          "data": {
            "text/plain": [
              "Billy Beer     25829.6\n",
              "Lucky Lager    51013.6\n",
              "Triple Bock    34683.4\n",
              "dtype: float64"
            ]
          },
          "metadata": {
            "tags": []
          },
          "execution_count": 6
        }
      ]
    },
    {
      "cell_type": "code",
      "metadata": {
        "id": "IeV-ywhYvOAl",
        "colab_type": "code",
        "colab": {
          "base_uri": "https://localhost:8080/",
          "height": 85
        },
        "outputId": "52c720c5-18ff-424f-e63c-2e9b8a39d12b"
      },
      "source": [
        "df.quantile(q=.75)"
      ],
      "execution_count": 7,
      "outputs": [
        {
          "output_type": "execute_result",
          "data": {
            "text/plain": [
              "Billy Beer     24435.0\n",
              "Lucky Lager    59437.0\n",
              "Triple Bock    37729.0\n",
              "Name: 0.75, dtype: float64"
            ]
          },
          "metadata": {
            "tags": []
          },
          "execution_count": 7
        }
      ]
    },
    {
      "cell_type": "code",
      "metadata": {
        "id": "USlBXxGXvQvK",
        "colab_type": "code",
        "colab": {
          "base_uri": "https://localhost:8080/",
          "height": 85
        },
        "outputId": "a6614418-c5bd-4772-f38c-39fda4d80c01"
      },
      "source": [
        "df.std()"
      ],
      "execution_count": 8,
      "outputs": [
        {
          "output_type": "execute_result",
          "data": {
            "text/plain": [
              "Billy Beer     14115.302841\n",
              "Lucky Lager    21934.601587\n",
              "Triple Bock     6443.542294\n",
              "dtype: float64"
            ]
          },
          "metadata": {
            "tags": []
          },
          "execution_count": 8
        }
      ]
    },
    {
      "cell_type": "code",
      "metadata": {
        "id": "F7_LUrpivS8P",
        "colab_type": "code",
        "colab": {
          "base_uri": "https://localhost:8080/",
          "height": 85
        },
        "outputId": "3c2bdc67-9217-424d-aa7a-0652c2d54e02"
      },
      "source": [
        "#Calculating the population standard deviation\n",
        "df.std(ddof=0)"
      ],
      "execution_count": 9,
      "outputs": [
        {
          "output_type": "execute_result",
          "data": {
            "text/plain": [
              "Billy Beer     12625.110670\n",
              "Lucky Lager    19618.904084\n",
              "Triple Bock     5763.279434\n",
              "dtype: float64"
            ]
          },
          "metadata": {
            "tags": []
          },
          "execution_count": 9
        }
      ]
    },
    {
      "cell_type": "code",
      "metadata": {
        "id": "FdNPgZL7vWm9",
        "colab_type": "code",
        "colab": {
          "base_uri": "https://localhost:8080/",
          "height": 85
        },
        "outputId": "1271d8eb-ffd5-45e2-fab1-d6724a6cc1a1"
      },
      "source": [
        "# The same as calling .mean on the DataFrame\n",
        "df.apply(np.mean)"
      ],
      "execution_count": 10,
      "outputs": [
        {
          "output_type": "execute_result",
          "data": {
            "text/plain": [
              "Billy Beer     25829.6\n",
              "Lucky Lager    51013.6\n",
              "Triple Bock    34683.4\n",
              "dtype: float64"
            ]
          },
          "metadata": {
            "tags": []
          },
          "execution_count": 10
        }
      ]
    },
    {
      "cell_type": "code",
      "metadata": {
        "id": "axYC0n4xvbNC",
        "colab_type": "code",
        "colab": {
          "base_uri": "https://localhost:8080/",
          "height": 85
        },
        "outputId": "798383a9-e607-4586-d676-ae39984ee04a"
      },
      "source": [
        "# Same as above\n",
        "np.mean(df)"
      ],
      "execution_count": 11,
      "outputs": [
        {
          "output_type": "execute_result",
          "data": {
            "text/plain": [
              "Billy Beer     25829.6\n",
              "Lucky Lager    51013.6\n",
              "Triple Bock    34683.4\n",
              "dtype: float64"
            ]
          },
          "metadata": {
            "tags": []
          },
          "execution_count": 11
        }
      ]
    },
    {
      "cell_type": "code",
      "metadata": {
        "id": "F08MVP6Dviqt",
        "colab_type": "code",
        "colab": {
          "base_uri": "https://localhost:8080/",
          "height": 119
        },
        "outputId": "a1c47fbb-f02f-4006-ad57-3b7694dfa662"
      },
      "source": [
        "# Specify a function to apply to the DataFrame\n",
        "def zscore(series):\n",
        "    result = (series - series.mean()) / series.std()\n",
        "    return result\n",
        "\n",
        "# Call Apply on the highest function\n",
        "df.apply(zscore)"
      ],
      "execution_count": 12,
      "outputs": [
        {
          "output_type": "execute_result",
          "data": {
            "text/plain": [
              "   Billy Beer  Lucky Lager  Triple Bock\n",
              "0   -0.846287    -0.749893     0.823088\n",
              "1   -0.199897     1.501026     0.128594\n",
              "2   -0.562978     0.384023    -1.729080\n",
              "3   -0.098801    -1.010759     0.472659\n",
              "4    1.707962    -0.124397     0.304739"
            ]
          },
          "metadata": {
            "tags": []
          },
          "execution_count": 12
        }
      ]
    },
    {
      "cell_type": "code",
      "metadata": {
        "id": "-vqYEcSMvlqx",
        "colab_type": "code",
        "colab": {
          "base_uri": "https://localhost:8080/",
          "height": 102
        },
        "outputId": "c800103e-9514-44d2-88db-d3d1796a6535"
      },
      "source": [
        "# The same result values as using scipy stats zscore with\n",
        "# a dynamic degrees of freedom of 1 \n",
        "stats.zscore(df, ddof=1)"
      ],
      "execution_count": 13,
      "outputs": [
        {
          "output_type": "execute_result",
          "data": {
            "text/plain": [
              "array([[-0.84628719, -0.74989281,  0.82308764],\n",
              "       [-0.19989653,  1.50102567,  0.12859386],\n",
              "       [-0.56297765,  0.38402339, -1.72907998],\n",
              "       [-0.09880057, -1.01075918,  0.47265927],\n",
              "       [ 1.70796194, -0.12439706,  0.30473921]])"
            ]
          },
          "metadata": {
            "tags": []
          },
          "execution_count": 13
        }
      ]
    },
    {
      "cell_type": "code",
      "metadata": {
        "id": "PepItnEtvpCQ",
        "colab_type": "code",
        "colab": {
          "base_uri": "https://localhost:8080/",
          "height": 85
        },
        "outputId": "8af25a0e-ae13-45ab-f908-c925bb591766"
      },
      "source": [
        "\n",
        "# Calculate inter quartile range with a lambda expression\n",
        "df.apply(lambda x: x.quantile(q=.75) - x.quantile(q=.25))"
      ],
      "execution_count": 14,
      "outputs": [
        {
          "output_type": "execute_result",
          "data": {
            "text/plain": [
              "Billy Beer      6552.0\n",
              "Lucky Lager    24872.0\n",
              "Triple Bock     2217.0\n",
              "dtype: float64"
            ]
          },
          "metadata": {
            "tags": []
          },
          "execution_count": 14
        }
      ]
    },
    {
      "cell_type": "markdown",
      "metadata": {
        "id": "gW7Pv8pHw6sP",
        "colab_type": "text"
      },
      "source": [
        "Code Source: [leonvanbokhorst](https://github.com/leonvanbokhorst/NoteBooks-Statistics-and-MachineLearning)"
      ]
    }
  ]
}